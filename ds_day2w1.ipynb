{
 "cells": [
  {
   "cell_type": "code",
   "execution_count": 12,
   "metadata": {},
   "outputs": [
    {
     "name": "stdout",
     "output_type": "stream",
     "text": [
      "Hello Robert Steiner\n"
     ]
    }
   ],
   "source": [
    "# Excercises Day 2 Week 1\n",
    "# Variables, Strings, and Numbers\n",
    "Name = str(\"Robert\")\n",
    "Surname = str(\"Steiner\")\n",
    "print('Hello ' + Name + ' ' + Surname)"
   ]
  },
  {
   "cell_type": "code",
   "execution_count": 21,
   "metadata": {},
   "outputs": [
    {
     "name": "stdout",
     "output_type": "stream",
     "text": [
      "I like python\n",
      "I like c\n",
      "I like java\n"
     ]
    }
   ],
   "source": [
    "# Lists\n",
    "languages = [\"python\", \"c\", \"java\"]\n",
    "for idx in languages:\n",
    "    print(\"I like \" + idx)\n"
   ]
  },
  {
   "cell_type": "code",
   "execution_count": 27,
   "metadata": {},
   "outputs": [
    {
     "data": {
      "text/plain": [
       "True"
      ]
     },
     "execution_count": 27,
     "metadata": {},
     "output_type": "execute_result"
    }
   ],
   "source": [
    "# Working lists\n",
    "careers = [\"prostitute\", \"stripper\", \"gigolo\", \"bouncer\"]\n",
    "careers.index(\"prostitute\")\n",
    "# Will check if the output is an integer:\n",
    "isinstance(careers.index(\"prostitute\"), int)"
   ]
  },
  {
   "cell_type": "code",
   "execution_count": 29,
   "metadata": {},
   "outputs": [
    {
     "name": "stdout",
     "output_type": "stream",
     "text": [
      "['prostitute', 'stripper', 'gigolo', 'bouncer', 'manager', 'manager']\n"
     ]
    }
   ],
   "source": [
    "careers.append(\"manager\")\n",
    "print(careers)"
   ]
  },
  {
   "cell_type": "code",
   "execution_count": 47,
   "metadata": {},
   "outputs": [
    {
     "name": "stdout",
     "output_type": "stream",
     "text": [
      "client\n",
      "client\n",
      "client\n",
      "stripper\n",
      "prostitute\n",
      "manager\n",
      "manager\n",
      "gigolo\n",
      "client\n",
      "bouncer\n"
     ]
    }
   ],
   "source": [
    "for i in careers: # original print\n",
    "    print(i)"
   ]
  },
  {
   "cell_type": "code",
   "execution_count": null,
   "metadata": {},
   "outputs": [],
   "source": []
  },
  {
   "cell_type": "code",
   "execution_count": 48,
   "metadata": {},
   "outputs": [
    {
     "name": "stdout",
     "output_type": "stream",
     "text": [
      "bouncer\n",
      "client\n",
      "client\n",
      "client\n",
      "client\n",
      "gigolo\n",
      "manager\n",
      "manager\n",
      "prostitute\n",
      "stripper\n"
     ]
    }
   ],
   "source": [
    "careers.sort() # print alphabetical order\n",
    "for i in careers:\n",
    "    print(i)"
   ]
  },
  {
   "cell_type": "code",
   "execution_count": 49,
   "metadata": {},
   "outputs": [
    {
     "name": "stdout",
     "output_type": "stream",
     "text": [
      "stripper\n",
      "prostitute\n",
      "manager\n",
      "manager\n",
      "gigolo\n",
      "client\n",
      "client\n",
      "client\n",
      "client\n",
      "bouncer\n"
     ]
    }
   ],
   "source": [
    "careers.sort(reverse = True) # print reverse alphabetical order\n",
    "for i in careers:\n",
    "    print(i)"
   ]
  },
  {
   "cell_type": "code",
   "execution_count": 66,
   "metadata": {},
   "outputs": [
    {
     "name": "stdout",
     "output_type": "stream",
     "text": [
      "['a', 'b', 'c', 'd', 'e', 'f', 'g', 'h', 'i', 'j']\n",
      "['a', 'b', 'c', 'd', 'e', 'f', 'g', 'h', 'i', 'j']\n"
     ]
    }
   ],
   "source": [
    "# Alphabetical Slices\n",
    "# source https://stackoverflow.com/questions/16060899/alphabet-range-in-python\n",
    "import string\n",
    "string.ascii_lowercase\n",
    "alpha1 = list(string.ascii_lowercase)\n",
    "alpha1 = alpha1[0:10]\n",
    "print(alpha1)\n",
    "\n",
    "# Other cool way:\n",
    "alpha2 = [chr(x) for x in range(ord('a'), ord('a') + 10)]\n",
    "print(alpha2)"
   ]
  },
  {
   "cell_type": "code",
   "execution_count": 69,
   "metadata": {},
   "outputs": [
    {
     "name": "stdout",
     "output_type": "stream",
     "text": [
      "[0, 10, 20, 30, 40, 50, 60, 70, 80, 90]\n"
     ]
    }
   ],
   "source": [
    "# Multiples of 10\n",
    "multiples = [10 * i for i in range(0, 10, 1)]\n",
    "print(multiples)"
   ]
  },
  {
   "cell_type": "code",
   "execution_count": 79,
   "metadata": {},
   "outputs": [
    {
     "name": "stdout",
     "output_type": "stream",
     "text": [
      "the lowest score is 1 and the highest is: 10\n"
     ]
    }
   ],
   "source": [
    "# Tuples: Gymnast Scores\n",
    "\n",
    "scores = (1, 2, 3, 4, 5, 6, 7, 8, 9, 10)\n",
    "\n",
    "print('the lowest score is ' + str(min(scores)) + ' and the highest is ' + str(max(scores)))"
   ]
  },
  {
   "cell_type": "code",
   "execution_count": 89,
   "metadata": {},
   "outputs": [
    {
     "name": "stdout",
     "output_type": "stream",
     "text": [
      "A judge can give a gymnast 1 points.\n",
      "A judge can give a gymnast 2 points.\n",
      "A judge can give a gymnast 3 points.\n",
      "A judge can give a gymnast 4 points.\n",
      "A judge can give a gymnast 5 points.\n",
      "A judge can give a gymnast 6 points.\n",
      "A judge can give a gymnast 7 points.\n",
      "A judge can give a gymnast 8 points.\n",
      "A judge can give a gymnast 9 points.\n",
      "A judge can give a gymnast 10 points.\n"
     ]
    }
   ],
   "source": [
    "for i in scores :\n",
    "        print(\"A judge can give a gymnast %s points.\"%(i))"
   ]
  },
  {
   "cell_type": "code",
   "execution_count": 92,
   "metadata": {},
   "outputs": [
    {
     "name": "stdout",
     "output_type": "stream",
     "text": [
      "A judge can give a gymnast 1 point.\n",
      "A judge can give a gymnast 2 points.\n",
      "A judge can give a gymnast 3 points.\n",
      "A judge can give a gymnast 4 points.\n",
      "A judge can give a gymnast 5 points.\n",
      "A judge can give a gymnast 6 points.\n",
      "A judge can give a gymnast 7 points.\n",
      "A judge can give a gymnast 8 points.\n",
      "A judge can give a gymnast 9 points.\n",
      "A judge can give a gymnast 10 points.\n"
     ]
    }
   ],
   "source": [
    "# Bonus:\n",
    "for i in scores :\n",
    "    if i == 1:\n",
    "        print(\"A judge can give a gymnast %s point.\"%(i))\n",
    "    else:\n",
    "        print(\"A judge can give a gymnast %s points.\"%(i))"
   ]
  },
  {
   "cell_type": "code",
   "execution_count": 124,
   "metadata": {},
   "outputs": [
    {
     "name": "stdout",
     "output_type": "stream",
     "text": [
      "the difference between the two dates is 26 days\n"
     ]
    }
   ],
   "source": [
    "# Unix timestamps\n",
    "import datetime\n",
    "date_format = \"%Y/%m/%d\"\n",
    "from datetime import date\n",
    "today = datetime.date(2020, 2, 4)\n",
    "future = datetime.date(2020, 3, 1)\n",
    "delta = future - today\n",
    "print(\"the difference between the two dates is \" + str(delta.days) + \" days\")\n",
    "\n"
   ]
  },
  {
   "cell_type": "code",
   "execution_count": 149,
   "metadata": {},
   "outputs": [
    {
     "name": "stdout",
     "output_type": "stream",
     "text": [
      "a, a, a, a, a, a\n"
     ]
    }
   ],
   "source": [
    "# Strings cont: For any string, print which \n",
    "# words appear within which other words\n",
    "sentence = \"There is a palm tree on the island. The word is appears in the word island\"\n",
    "words = sentence.split()\n",
    "\n",
    "s = list()\n",
    "for word in words:\n",
    "    chars = list(word)\n",
    "    for compare in sentence:\n",
    "        if list(compare) == chars:\n",
    "            s.append(compare)\n",
    "print(\", \".join(s))\n",
    "    "
   ]
  },
  {
   "cell_type": "code",
   "execution_count": null,
   "metadata": {},
   "outputs": [],
   "source": []
  }
 ],
 "metadata": {
  "kernelspec": {
   "display_name": "Python 3",
   "language": "python",
   "name": "python3"
  },
  "language_info": {
   "codemirror_mode": {
    "name": "ipython",
    "version": 3
   },
   "file_extension": ".py",
   "mimetype": "text/x-python",
   "name": "python",
   "nbconvert_exporter": "python",
   "pygments_lexer": "ipython3",
   "version": "3.7.6"
  }
 },
 "nbformat": 4,
 "nbformat_minor": 4
}
