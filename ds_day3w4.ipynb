{
 "cells": [
  {
   "cell_type": "markdown",
   "metadata": {},
   "source": [
    "# Exercise 1: Bank Marketing Data\n",
    "Use the bank direct marketing dataset to train a logistic regression (scikit-learn) predicting if a client will subscribe (1 or 0) to a term deposit (variable called ‘y’).\n",
    "\n",
    "Create a ML pipeline taking in account the following points:\n",
    "- Use class_weight = ‘balanced’, as the dataset is unbalanced\n",
    "\n",
    "- Use a train and test setup\n",
    "\n",
    "- Use k-fold cross-validation to choose between L1- and L2-penalty or no penalty (you will have to specify ‘penalty’ and ‘C’, logistic regression documentation)\n",
    "\n",
    "- Test the effect of penalty for a sample of only 1000 data points.\n",
    "\n",
    "- Evaluate the effect of adding more data points. What happens and why?\n",
    "\n",
    "- Once you have chosen the best model (best test score), plot the ROC curve as well as precision and recall with varying thresholds (use the precision_recall_curve function from sklearn)."
   ]
  },
  {
   "cell_type": "code",
   "execution_count": 1,
   "metadata": {},
   "outputs": [],
   "source": [
    "import matplotlib.pyplot as plt\n",
    "plt.rc(\"font\", size=14)\n",
    "import seaborn as sns\n",
    "sns.set(style=\"white\")\n",
    "sns.set(style=\"whitegrid\", \n",
    "        color_codes=True, \n",
    "        font_scale = 2)\n",
    "import numpy as np\n",
    "import pandas as pd\n",
    "import os\n",
    "from sklearn.pipeline import Pipeline\n",
    "from sklearn.linear_model import LogisticRegression\n",
    "from sklearn.model_selection import train_test_split, cross_val_predict, cross_val_score \n",
    "from sklearn.preprocessing import StandardScaler, PolynomialFeatures, OneHotEncoder\n",
    "from sklearn.model_selection import cross_val_predict, cross_val_score\n",
    "from sklearn.impute import SimpleImputer\n",
    "from sklearn.compose import ColumnTransformer\n",
    "from sklearn.utils import shuffle"
   ]
  },
  {
   "cell_type": "code",
   "execution_count": null,
   "metadata": {},
   "outputs": [],
   "source": []
  },
  {
   "cell_type": "code",
   "execution_count": 2,
   "metadata": {},
   "outputs": [],
   "source": [
    "os.chdir('/Users/patrickrs/Documents/GitLab/patrick-steiner/03-Machine-Learning')"
   ]
  },
  {
   "cell_type": "code",
   "execution_count": 3,
   "metadata": {},
   "outputs": [],
   "source": [
    "banking = pd.read_csv(\"banking.csv\")\n",
    "hold = 0.1"
   ]
  },
  {
   "cell_type": "code",
   "execution_count": 4,
   "metadata": {},
   "outputs": [],
   "source": [
    "# Grouping basic education together\n",
    "banking['education'] = np.where(banking['education'] == 'basic.9y', 'Basic', banking['education'])\n",
    "banking['education'] = np.where(banking['education'] == 'basic.6y', 'Basic', banking['education'])\n",
    "banking['education'] = np.where(banking['education'] == 'basic.4y', 'Basic', banking['education'])"
   ]
  },
  {
   "cell_type": "code",
   "execution_count": 5,
   "metadata": {},
   "outputs": [
    {
     "data": {
      "text/html": [
       "<div>\n",
       "<style scoped>\n",
       "    .dataframe tbody tr th:only-of-type {\n",
       "        vertical-align: middle;\n",
       "    }\n",
       "\n",
       "    .dataframe tbody tr th {\n",
       "        vertical-align: top;\n",
       "    }\n",
       "\n",
       "    .dataframe thead th {\n",
       "        text-align: right;\n",
       "    }\n",
       "</style>\n",
       "<table border=\"1\" class=\"dataframe\">\n",
       "  <thead>\n",
       "    <tr style=\"text-align: right;\">\n",
       "      <th></th>\n",
       "      <th>age</th>\n",
       "      <th>job</th>\n",
       "      <th>marital</th>\n",
       "      <th>education</th>\n",
       "      <th>default</th>\n",
       "      <th>housing</th>\n",
       "      <th>loan</th>\n",
       "      <th>contact</th>\n",
       "      <th>month</th>\n",
       "      <th>day_of_week</th>\n",
       "      <th>...</th>\n",
       "      <th>campaign</th>\n",
       "      <th>pdays</th>\n",
       "      <th>previous</th>\n",
       "      <th>poutcome</th>\n",
       "      <th>emp_var_rate</th>\n",
       "      <th>cons_price_idx</th>\n",
       "      <th>cons_conf_idx</th>\n",
       "      <th>euribor3m</th>\n",
       "      <th>nr_employed</th>\n",
       "      <th>y</th>\n",
       "    </tr>\n",
       "  </thead>\n",
       "  <tbody>\n",
       "    <tr>\n",
       "      <th>0</th>\n",
       "      <td>44</td>\n",
       "      <td>blue-collar</td>\n",
       "      <td>married</td>\n",
       "      <td>Basic</td>\n",
       "      <td>unknown</td>\n",
       "      <td>yes</td>\n",
       "      <td>no</td>\n",
       "      <td>cellular</td>\n",
       "      <td>aug</td>\n",
       "      <td>thu</td>\n",
       "      <td>...</td>\n",
       "      <td>1</td>\n",
       "      <td>999</td>\n",
       "      <td>0</td>\n",
       "      <td>nonexistent</td>\n",
       "      <td>1.4</td>\n",
       "      <td>93.444</td>\n",
       "      <td>-36.1</td>\n",
       "      <td>4.963</td>\n",
       "      <td>5228.1</td>\n",
       "      <td>0</td>\n",
       "    </tr>\n",
       "    <tr>\n",
       "      <th>1</th>\n",
       "      <td>53</td>\n",
       "      <td>technician</td>\n",
       "      <td>married</td>\n",
       "      <td>unknown</td>\n",
       "      <td>no</td>\n",
       "      <td>no</td>\n",
       "      <td>no</td>\n",
       "      <td>cellular</td>\n",
       "      <td>nov</td>\n",
       "      <td>fri</td>\n",
       "      <td>...</td>\n",
       "      <td>1</td>\n",
       "      <td>999</td>\n",
       "      <td>0</td>\n",
       "      <td>nonexistent</td>\n",
       "      <td>-0.1</td>\n",
       "      <td>93.200</td>\n",
       "      <td>-42.0</td>\n",
       "      <td>4.021</td>\n",
       "      <td>5195.8</td>\n",
       "      <td>0</td>\n",
       "    </tr>\n",
       "    <tr>\n",
       "      <th>2</th>\n",
       "      <td>28</td>\n",
       "      <td>management</td>\n",
       "      <td>single</td>\n",
       "      <td>university.degree</td>\n",
       "      <td>no</td>\n",
       "      <td>yes</td>\n",
       "      <td>no</td>\n",
       "      <td>cellular</td>\n",
       "      <td>jun</td>\n",
       "      <td>thu</td>\n",
       "      <td>...</td>\n",
       "      <td>3</td>\n",
       "      <td>6</td>\n",
       "      <td>2</td>\n",
       "      <td>success</td>\n",
       "      <td>-1.7</td>\n",
       "      <td>94.055</td>\n",
       "      <td>-39.8</td>\n",
       "      <td>0.729</td>\n",
       "      <td>4991.6</td>\n",
       "      <td>1</td>\n",
       "    </tr>\n",
       "    <tr>\n",
       "      <th>3</th>\n",
       "      <td>39</td>\n",
       "      <td>services</td>\n",
       "      <td>married</td>\n",
       "      <td>high.school</td>\n",
       "      <td>no</td>\n",
       "      <td>no</td>\n",
       "      <td>no</td>\n",
       "      <td>cellular</td>\n",
       "      <td>apr</td>\n",
       "      <td>fri</td>\n",
       "      <td>...</td>\n",
       "      <td>2</td>\n",
       "      <td>999</td>\n",
       "      <td>0</td>\n",
       "      <td>nonexistent</td>\n",
       "      <td>-1.8</td>\n",
       "      <td>93.075</td>\n",
       "      <td>-47.1</td>\n",
       "      <td>1.405</td>\n",
       "      <td>5099.1</td>\n",
       "      <td>0</td>\n",
       "    </tr>\n",
       "    <tr>\n",
       "      <th>4</th>\n",
       "      <td>55</td>\n",
       "      <td>retired</td>\n",
       "      <td>married</td>\n",
       "      <td>Basic</td>\n",
       "      <td>no</td>\n",
       "      <td>yes</td>\n",
       "      <td>no</td>\n",
       "      <td>cellular</td>\n",
       "      <td>aug</td>\n",
       "      <td>fri</td>\n",
       "      <td>...</td>\n",
       "      <td>1</td>\n",
       "      <td>3</td>\n",
       "      <td>1</td>\n",
       "      <td>success</td>\n",
       "      <td>-2.9</td>\n",
       "      <td>92.201</td>\n",
       "      <td>-31.4</td>\n",
       "      <td>0.869</td>\n",
       "      <td>5076.2</td>\n",
       "      <td>1</td>\n",
       "    </tr>\n",
       "  </tbody>\n",
       "</table>\n",
       "<p>5 rows × 21 columns</p>\n",
       "</div>"
      ],
      "text/plain": [
       "   age          job  marital          education  default housing loan  \\\n",
       "0   44  blue-collar  married              Basic  unknown     yes   no   \n",
       "1   53   technician  married            unknown       no      no   no   \n",
       "2   28   management   single  university.degree       no     yes   no   \n",
       "3   39     services  married        high.school       no      no   no   \n",
       "4   55      retired  married              Basic       no     yes   no   \n",
       "\n",
       "    contact month day_of_week  ...  campaign  pdays  previous     poutcome  \\\n",
       "0  cellular   aug         thu  ...         1    999         0  nonexistent   \n",
       "1  cellular   nov         fri  ...         1    999         0  nonexistent   \n",
       "2  cellular   jun         thu  ...         3      6         2      success   \n",
       "3  cellular   apr         fri  ...         2    999         0  nonexistent   \n",
       "4  cellular   aug         fri  ...         1      3         1      success   \n",
       "\n",
       "  emp_var_rate  cons_price_idx  cons_conf_idx  euribor3m  nr_employed  y  \n",
       "0          1.4          93.444          -36.1      4.963       5228.1  0  \n",
       "1         -0.1          93.200          -42.0      4.021       5195.8  0  \n",
       "2         -1.7          94.055          -39.8      0.729       4991.6  1  \n",
       "3         -1.8          93.075          -47.1      1.405       5099.1  0  \n",
       "4         -2.9          92.201          -31.4      0.869       5076.2  1  \n",
       "\n",
       "[5 rows x 21 columns]"
      ]
     },
     "execution_count": 5,
     "metadata": {},
     "output_type": "execute_result"
    }
   ],
   "source": [
    "banking.head()"
   ]
  },
  {
   "cell_type": "code",
   "execution_count": null,
   "metadata": {
    "collapsed": true,
    "jupyter": {
     "outputs_hidden": true
    }
   },
   "outputs": [],
   "source": []
  },
  {
   "cell_type": "code",
   "execution_count": null,
   "metadata": {},
   "outputs": [],
   "source": []
  },
  {
   "cell_type": "code",
   "execution_count": 6,
   "metadata": {},
   "outputs": [],
   "source": [
    "# Creating dummmies for categorical vars\n",
    "cat_vars=['job','marital','education','default','housing','loan','contact','month','day_of_week','poutcome']\n",
    "for var in cat_vars:\n",
    "    banking[var] = banking[var].astype('category') # similar to R's factor."
   ]
  },
  {
   "cell_type": "code",
   "execution_count": 7,
   "metadata": {},
   "outputs": [
    {
     "data": {
      "text/plain": [
       "Index(['admin.', 'blue-collar', 'entrepreneur', 'housemaid', 'management',\n",
       "       'retired', 'self-employed', 'services', 'student', 'technician',\n",
       "       'unemployed', 'unknown'],\n",
       "      dtype='object')"
      ]
     },
     "execution_count": 7,
     "metadata": {},
     "output_type": "execute_result"
    }
   ],
   "source": [
    "# Let's see if this neat trick worked:\n",
    "banking['job'].cat.codes\n",
    "banking['job'].cat.categories"
   ]
  },
  {
   "cell_type": "code",
   "execution_count": 8,
   "metadata": {},
   "outputs": [],
   "source": [
    "# Excellent! (I later found out that this does not work. Imagine the disappointment.)"
   ]
  },
  {
   "cell_type": "code",
   "execution_count": 9,
   "metadata": {},
   "outputs": [],
   "source": [
    "y = banking['y']\n",
    "X = banking.drop('y', \n",
    "                 axis = 'columns')"
   ]
  },
  {
   "cell_type": "code",
   "execution_count": 22,
   "metadata": {},
   "outputs": [
    {
     "data": {
      "text/plain": [
       "0    36548\n",
       "1     4640\n",
       "Name: y, dtype: int64"
      ]
     },
     "execution_count": 22,
     "metadata": {},
     "output_type": "execute_result"
    }
   ],
   "source": [
    "# Let's look at our dist:\n",
    "y.value_counts()\n",
    "#sns.countplot(x = y,\n",
    "#             palette = 'dark')"
   ]
  },
  {
   "cell_type": "code",
   "execution_count": 11,
   "metadata": {
    "collapsed": true,
    "jupyter": {
     "outputs_hidden": true
    }
   },
   "outputs": [
    {
     "data": {
      "text/plain": [
       "age                  int64\n",
       "job               category\n",
       "marital           category\n",
       "education         category\n",
       "default           category\n",
       "housing           category\n",
       "loan              category\n",
       "contact           category\n",
       "month             category\n",
       "day_of_week       category\n",
       "duration             int64\n",
       "campaign             int64\n",
       "pdays                int64\n",
       "previous             int64\n",
       "poutcome          category\n",
       "emp_var_rate       float64\n",
       "cons_price_idx     float64\n",
       "cons_conf_idx      float64\n",
       "euribor3m          float64\n",
       "nr_employed        float64\n",
       "y                    int64\n",
       "dtype: object"
      ]
     },
     "execution_count": 11,
     "metadata": {},
     "output_type": "execute_result"
    }
   ],
   "source": [
    "banking.dtypes"
   ]
  },
  {
   "cell_type": "code",
   "execution_count": 12,
   "metadata": {},
   "outputs": [],
   "source": [
    "# strategy 'constant' simply means filling with the fill_value\n",
    "categorical_transformer = Pipeline(steps=[('imputer', SimpleImputer(strategy='constant', fill_value='missing')),\n",
    "                                          ('onehot', OneHotEncoder(handle_unknown='ignore'))\n",
    "                                         ]\n",
    "                                  )\n",
    "# filling missing values with median and scaling\n",
    "numeric_transformer = Pipeline(steps=[('imputer', SimpleImputer(strategy='median')),\n",
    "                                      ('scaler', StandardScaler())\n",
    "                                     ]\n",
    "                              )         "
   ]
  },
  {
   "cell_type": "code",
   "execution_count": 13,
   "metadata": {},
   "outputs": [],
   "source": [
    "# Next we use the ColumnTransformer to apply the transformations to the correct columns in the dataframe\n",
    "num_vars = X.select_dtypes(include=['int64', 'float64']).columns # numeric vars\n",
    "cat_vars = cat_vars # from previous attempt\n",
    "\n",
    "preprocessor = ColumnTransformer(transformers=[('num', numeric_transformer, num_vars),\n",
    "                                               ('cat', categorical_transformer, cat_vars)\n",
    "                                              ]\n",
    "                                )"
   ]
  },
  {
   "cell_type": "code",
   "execution_count": 16,
   "metadata": {},
   "outputs": [
    {
     "data": {
      "text/plain": [
       "0.8679291090070406"
      ]
     },
     "execution_count": 16,
     "metadata": {},
     "output_type": "execute_result"
    }
   ],
   "source": [
    "X_train, X_test, y_train, y_test = train_test_split(X, y, test_size=hold, random_state=1)\n",
    "\n",
    "model = LogisticRegression(max_iter = 1000,\n",
    "                           class_weight = 'balanced' # balances weight of zeros and ones in y\n",
    "                          )\n",
    "logit = Pipeline(steps=[('preprocessor', preprocessor),\n",
    "                        ('classifier', model)\n",
    "                       ]\n",
    "                )\n",
    "\n",
    "logit.fit(X_train,y_train)\n",
    "predictions = logit.predict(X_test)\n",
    "model_score = logit.score(X_test, y_test)\n",
    "model_score"
   ]
  },
  {
   "cell_type": "markdown",
   "metadata": {
    "jupyter": {
     "outputs_hidden": true
    }
   },
   "source": [
    "#### Use k-fold cross-validation to choose between L1- and L2-penalty or no penalty (you will have to specify ‘penalty’ and ‘C’, logistic regression documentation)"
   ]
  },
  {
   "cell_type": "code",
   "execution_count": 17,
   "metadata": {},
   "outputs": [],
   "source": [
    "alphas = np.logspace(start = .1, stop = 5, num = 50)"
   ]
  },
  {
   "cell_type": "code",
   "execution_count": null,
   "metadata": {},
   "outputs": [],
   "source": []
  },
  {
   "cell_type": "code",
   "execution_count": 18,
   "metadata": {},
   "outputs": [
    {
     "data": {
      "text/plain": [
       "array([1.25892541e+00, 1.58489319e+00, 1.99526231e+00, 2.51188643e+00,\n",
       "       3.16227766e+00, 3.98107171e+00, 5.01187234e+00, 6.30957344e+00,\n",
       "       7.94328235e+00, 1.00000000e+01, 1.25892541e+01, 1.58489319e+01,\n",
       "       1.99526231e+01, 2.51188643e+01, 3.16227766e+01, 3.98107171e+01,\n",
       "       5.01187234e+01, 6.30957344e+01, 7.94328235e+01, 1.00000000e+02,\n",
       "       1.25892541e+02, 1.58489319e+02, 1.99526231e+02, 2.51188643e+02,\n",
       "       3.16227766e+02, 3.98107171e+02, 5.01187234e+02, 6.30957344e+02,\n",
       "       7.94328235e+02, 1.00000000e+03, 1.25892541e+03, 1.58489319e+03,\n",
       "       1.99526231e+03, 2.51188643e+03, 3.16227766e+03, 3.98107171e+03,\n",
       "       5.01187234e+03, 6.30957344e+03, 7.94328235e+03, 1.00000000e+04,\n",
       "       1.25892541e+04, 1.58489319e+04, 1.99526231e+04, 2.51188643e+04,\n",
       "       3.16227766e+04, 3.98107171e+04, 5.01187234e+04, 6.30957344e+04,\n",
       "       7.94328235e+04, 1.00000000e+05])"
      ]
     },
     "execution_count": 18,
     "metadata": {},
     "output_type": "execute_result"
    }
   ],
   "source": [
    "alphas"
   ]
  },
  {
   "cell_type": "code",
   "execution_count": 19,
   "metadata": {},
   "outputs": [],
   "source": [
    "# L2 score:\n",
    "k = 10\n",
    "l2scores = np.empty(shape=0)\n",
    "\n",
    "for alpha in alphas:\n",
    "\n",
    "    model = LogisticRegression(max_iter = 1000,\n",
    "                               class_weight = 'balanced', # balances weight of zeros and ones in y\n",
    "                               penalty = 'l2',\n",
    "                               solver = 'lbfgs',\n",
    "                               C = alpha\n",
    "                              )\n",
    "    logit = Pipeline(steps=[('preprocessor', preprocessor),\n",
    "                            ('classifier', model)\n",
    "                           ])\n",
    "\n",
    "    scores_temp = cross_val_score(logit, \n",
    "                                  X, \n",
    "                                  y, \n",
    "                                  cv = k\n",
    "                                 )\n",
    "    l2scores = np.append(l2scores, np.mean(scores_temp))\n"
   ]
  },
  {
   "cell_type": "code",
   "execution_count": 20,
   "metadata": {},
   "outputs": [],
   "source": [
    "# L1 score\n",
    "l1scores = np.empty(shape=0)\n",
    "for alpha in alphas:\n",
    "\n",
    "    model = LogisticRegression(max_iter = 10000,\n",
    "                               class_weight = 'balanced', # balances weight of zeros and ones in y\n",
    "                               penalty = 'l1',\n",
    "                               solver = 'saga',\n",
    "                               C = alpha\n",
    "                              )\n",
    "    logit = Pipeline(steps=[('preprocessor', preprocessor),\n",
    "                            ('classifier', model)\n",
    "                           ])\n",
    "\n",
    "    scores_temp = cross_val_score(logit, \n",
    "                                  X, \n",
    "                                  y, \n",
    "                                  cv = k\n",
    "                                 )\n",
    "    l1scores = np.append(l1scores, np.mean(scores_temp))"
   ]
  },
  {
   "cell_type": "code",
   "execution_count": 35,
   "metadata": {},
   "outputs": [
    {
     "data": {
      "text/plain": [
       "(array([19.,  0.,  0.,  0.,  2., 27.,  0.,  0.,  0.,  2.]),\n",
       " array([0.86054208, 0.86054694, 0.86055179, 0.86055665, 0.8605615 ,\n",
       "        0.86056636, 0.86057121, 0.86057607, 0.86058092, 0.86058578,\n",
       "        0.86059064]),\n",
       " <a list of 10 Patch objects>)"
      ]
     },
     "execution_count": 35,
     "metadata": {},
     "output_type": "execute_result"
    },
    {
     "data": {
      "image/png": "[encoded data removed]",
      "text/plain": [
       "<Figure size 432x288 with 1 Axes>"
      ]
     },
     "metadata": {},
     "output_type": "display_data"
    }
   ],
   "source": [
    "#fig = plt.figure()\n",
    "#ax1 = fig.add_subplot(211)\n",
    "#ax1.set_title('Scores for Different Alphas')\n",
    "#ax1.set_ylabel('Alpha')\n",
    "#ax1.set_xlabel('Mean Accuracy')\n",
    "#plt.yscale(\"log\")\n",
    "#plt.scatter(l2scores, alphas, color = 'red')\n",
    "#plt.scatter(l1scores, alphas, color = 'blue')\n",
    "#plt.legend()\n",
    "plt.hist(l1scores)"
   ]
  },
  {
   "cell_type": "code",
   "execution_count": 211,
   "metadata": {},
   "outputs": [
    {
     "data": {
      "text/plain": [
       "array([0.85])"
      ]
     },
     "execution_count": 211,
     "metadata": {},
     "output_type": "execute_result"
    }
   ],
   "source": []
  },
  {
   "cell_type": "markdown",
   "metadata": {},
   "source": [
    "### Test the effect of penalty for a sample of only 1000 data points."
   ]
  },
  {
   "cell_type": "code",
   "execution_count": 141,
   "metadata": {},
   "outputs": [],
   "source": [
    "sizes = range(start = 1000, stop = len(y), step = 1000) \n",
    "banking_shuffled = shuffle(banking)# imported from sklearn\n"
   ]
  },
  {
   "cell_type": "code",
   "execution_count": 149,
   "metadata": {},
   "outputs": [],
   "source": [
    "# L2 score:\n",
    "k = 10\n",
    "\n",
    "alphas = np.logspace(start = .1, stop = 5, num = 50)\n",
    "l2scores = np.empty(shape=0)\n",
    "\n",
    "for size in sizes:\n",
    "\n",
    "    y = banking_shuffled['y'].head(size)\n",
    "    X = banking_shuffled.drop('y', axis = 'columns').head(size)\n",
    "\n",
    "    model = LogisticRegression(max_iter = 1000,\n",
    "                               class_weight = 'balanced', # balances weight of zeros and ones in y\n",
    "                               penalty = 'l2',\n",
    "                               solver = 'lbfgs',\n",
    "                               C = alpha\n",
    "                              )\n",
    "    logit = Pipeline(steps=[('preprocessor', preprocessor),\n",
    "                            ('classifier', model)\n",
    "                           ]\n",
    "                    )\n",
    "\n",
    "    scores_temp = cross_val_score(logit, \n",
    "                                  X, \n",
    "                                  y, \n",
    "                                  cv = k\n",
    "                                 )\n",
    "    l2scores = np.append(l2scores, np.mean(scores_temp))\n"
   ]
  },
  {
   "cell_type": "code",
   "execution_count": 150,
   "metadata": {},
   "outputs": [],
   "source": [
    "# L1 score\n",
    "l1scores = np.empty(shape=0)\n",
    "for alpha in alphas:\n",
    "\n",
    "    model = LogisticRegression(max_iter = 10000,\n",
    "                               class_weight = 'balanced', # balances weight of zeros and ones in y\n",
    "                               penalty = 'l1',\n",
    "                               solver = 'saga',\n",
    "                               C = alpha\n",
    "                              )\n",
    "    logit = Pipeline(steps=[('preprocessor', preprocessor),\n",
    "                            ('classifier', model)\n",
    "                           ])\n",
    "\n",
    "    scores_temp = cross_val_score(logit, \n",
    "                                  X, \n",
    "                                  y, \n",
    "                                  cv = k\n",
    "                                 )\n",
    "    l1scores = np.append(l1scores, np.mean(scores_temp))"
   ]
  },
  {
   "cell_type": "code",
   "execution_count": 151,
   "metadata": {},
   "outputs": [
    {
     "name": "stdout",
     "output_type": "stream",
     "text": [
      "L1 Score:  0.86\n",
      "L2 Score:  0.86\n"
     ]
    }
   ],
   "source": [
    "print(\"L1 Score: \", meanl1)\n",
    "print(\"L2 Score: \", meanl2)"
   ]
  },
  {
   "cell_type": "markdown",
   "metadata": {
    "jupyter": {
     "outputs_hidden": true
    }
   },
   "source": [
    "Doesn't make a difference in scores."
   ]
  },
  {
   "cell_type": "code",
   "execution_count": null,
   "metadata": {},
   "outputs": [],
   "source": []
  },
  {
   "cell_type": "code",
   "execution_count": null,
   "metadata": {},
   "outputs": [],
   "source": []
  }
 ],
 "metadata": {
  "kernelspec": {
   "display_name": "Python 3",
   "language": "python",
   "name": "python3"
  },
  "language_info": {
   "codemirror_mode": {
    "name": "ipython",
    "version": 3
   },
   "file_extension": ".py",
   "mimetype": "text/x-python",
   "name": "python",
   "nbconvert_exporter": "python",
   "pygments_lexer": "ipython3",
   "version": "3.7.6"
  }
 },
 "nbformat": 4,
 "nbformat_minor": 4
}
