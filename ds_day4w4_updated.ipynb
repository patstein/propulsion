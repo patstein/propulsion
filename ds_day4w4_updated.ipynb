{
 "cells": [
  {
   "cell_type": "code",
   "execution_count": 1,
   "metadata": {},
   "outputs": [],
   "source": [
    "import pandas as pd\n",
    "import numpy as np\n",
    "import os\n",
    "from sklearn.impute import SimpleImputer\n",
    "from sklearn.compose import ColumnTransformer\n",
    "from sklearn.linear_model import LogisticRegression\n",
    "from sklearn.ensemble import RandomForestClassifier\n",
    "from sklearn.model_selection import GridSearchCV, RepeatedStratifiedKFold\n",
    "from sklearn.pipeline import Pipeline\n",
    "from sklearn.compose import ColumnTransformer\n",
    "from sklearn.preprocessing import OneHotEncoder, StandardScaler\n",
    "from sklearn.metrics import f1_score, classification_report\n",
    "from sklearn.impute import SimpleImputer\n",
    "from sklearn.model_selection import train_test_split\n",
    "from sklearn.cluster import KMeans\n",
    "from sklearn.neighbors import KNeighborsClassifier\n",
    "from sklearn.naive_bayes import CategoricalNB\n",
    "from sklearn.svm import SVC\n",
    "from datetime import datetime\n",
    "import datetime\n",
    "from dateutil.parser import parse\n",
    "import matplotlib.pyplot as plt\n",
    "plt.rc(\"font\", size=14)\n",
    "import seaborn as sns\n",
    "sns.set(style=\"white\")\n",
    "sns.set(style=\"whitegrid\", \n",
    "        color_codes=True, \n",
    "        font_scale = 2)"
   ]
  },
  {
   "cell_type": "code",
   "execution_count": 2,
   "metadata": {},
   "outputs": [],
   "source": [
    "os.chdir('/Users/patrickrs/Documents/GitLab/patrick-steiner/03-Machine-Learning')"
   ]
  },
  {
   "cell_type": "code",
   "execution_count": 3,
   "metadata": {},
   "outputs": [],
   "source": [
    "data = pd.read_csv(\"pirate_data.csv\")\n",
    "data = data.dropna(how = 'any')\n",
    "data = data.drop(data.columns[0], axis = \"columns\")"
   ]
  },
  {
   "cell_type": "code",
   "execution_count": 4,
   "metadata": {},
   "outputs": [
    {
     "data": {
      "text/html": [
       "<div>\n",
       "<style scoped>\n",
       "    .dataframe tbody tr th:only-of-type {\n",
       "        vertical-align: middle;\n",
       "    }\n",
       "\n",
       "    .dataframe tbody tr th {\n",
       "        vertical-align: top;\n",
       "    }\n",
       "\n",
       "    .dataframe thead th {\n",
       "        text-align: right;\n",
       "    }\n",
       "</style>\n",
       "<table border=\"1\" class=\"dataframe\">\n",
       "  <thead>\n",
       "    <tr style=\"text-align: right;\">\n",
       "      <th></th>\n",
       "      <th>DATETIME (LOCAL)</th>\n",
       "      <th>DATETIME (UTC)</th>\n",
       "      <th>DATE (LT)</th>\n",
       "      <th>DATE (UTC)</th>\n",
       "      <th>REGION</th>\n",
       "      <th>COUNTRY</th>\n",
       "      <th>INCIDENT TYPE</th>\n",
       "      <th>VESSEL TYPE</th>\n",
       "      <th>MAERSK?</th>\n",
       "      <th>VESSEL ACTIVITY LOCATION</th>\n",
       "      <th>LAT</th>\n",
       "      <th>LONG</th>\n",
       "      <th>TIMEZONE</th>\n",
       "      <th>TIME OF DAY</th>\n",
       "      <th>ATTACKS</th>\n",
       "      <th>ATTACK SUCCESS</th>\n",
       "    </tr>\n",
       "  </thead>\n",
       "  <tbody>\n",
       "    <tr>\n",
       "      <th>0</th>\n",
       "      <td>2016-01-30 23:34:00</td>\n",
       "      <td>2016-01-30 22:34:00</td>\n",
       "      <td>2016-01-30</td>\n",
       "      <td>2016-01-30</td>\n",
       "      <td>WEST AFRICA</td>\n",
       "      <td>NIGERIA</td>\n",
       "      <td>FAILED ATTACK, HIJACKING</td>\n",
       "      <td>CONTAINER SHIP</td>\n",
       "      <td>0</td>\n",
       "      <td>OFF SHORE</td>\n",
       "      <td>3.000000</td>\n",
       "      <td>6.250000</td>\n",
       "      <td>Africa/Lagos</td>\n",
       "      <td>EVENING</td>\n",
       "      <td>1</td>\n",
       "      <td>0</td>\n",
       "    </tr>\n",
       "    <tr>\n",
       "      <th>1</th>\n",
       "      <td>2016-01-29 23:40:00</td>\n",
       "      <td>2016-01-29 22:40:00</td>\n",
       "      <td>2016-01-29</td>\n",
       "      <td>2016-01-29</td>\n",
       "      <td>WEST AFRICA</td>\n",
       "      <td>NIGERIA</td>\n",
       "      <td>KIDNAP/RANSOM AT SEA</td>\n",
       "      <td>PRODUCT TANKER</td>\n",
       "      <td>0</td>\n",
       "      <td>OFF SHORE</td>\n",
       "      <td>2.500000</td>\n",
       "      <td>5.750000</td>\n",
       "      <td>Africa/Lagos</td>\n",
       "      <td>EVENING</td>\n",
       "      <td>1</td>\n",
       "      <td>1</td>\n",
       "    </tr>\n",
       "    <tr>\n",
       "      <th>2</th>\n",
       "      <td>2016-01-28 03:00:00</td>\n",
       "      <td>2016-01-28 02:00:00</td>\n",
       "      <td>2016-01-28</td>\n",
       "      <td>2016-01-28</td>\n",
       "      <td>SOUTH ASIA</td>\n",
       "      <td>INDIA</td>\n",
       "      <td>FAILED ATTACK, ROBBERY</td>\n",
       "      <td>PRODUCT TANKER</td>\n",
       "      <td>0</td>\n",
       "      <td>ANCHORAGE</td>\n",
       "      <td>22.816667</td>\n",
       "      <td>70.116667</td>\n",
       "      <td>Asia/Kolkata</td>\n",
       "      <td>NIGHT</td>\n",
       "      <td>1</td>\n",
       "      <td>0</td>\n",
       "    </tr>\n",
       "    <tr>\n",
       "      <th>4</th>\n",
       "      <td>2016-01-25 23:55:00</td>\n",
       "      <td>2016-01-25 22:55:00</td>\n",
       "      <td>2016-01-25</td>\n",
       "      <td>2016-01-25</td>\n",
       "      <td>SOUTH AMERICA</td>\n",
       "      <td>VENEZUELA</td>\n",
       "      <td>THEFT AT ANCHORAGE</td>\n",
       "      <td>GENERAL CARGO VESSEL</td>\n",
       "      <td>0</td>\n",
       "      <td>ANCHORAGE</td>\n",
       "      <td>10.267500</td>\n",
       "      <td>-63.432500</td>\n",
       "      <td>America/Caracas</td>\n",
       "      <td>EVENING</td>\n",
       "      <td>1</td>\n",
       "      <td>1</td>\n",
       "    </tr>\n",
       "    <tr>\n",
       "      <th>5</th>\n",
       "      <td>2016-01-25 01:30:00</td>\n",
       "      <td>2016-01-25 00:30:00</td>\n",
       "      <td>2016-01-25</td>\n",
       "      <td>2016-01-25</td>\n",
       "      <td>SOUTH ASIA</td>\n",
       "      <td>INDIA</td>\n",
       "      <td>ARMED ROBBERY AT SEA</td>\n",
       "      <td>PRODUCT TANKER</td>\n",
       "      <td>0</td>\n",
       "      <td>OFF SHORE</td>\n",
       "      <td>22.783333</td>\n",
       "      <td>70.033333</td>\n",
       "      <td>Asia/Kolkata</td>\n",
       "      <td>NIGHT</td>\n",
       "      <td>1</td>\n",
       "      <td>1</td>\n",
       "    </tr>\n",
       "  </tbody>\n",
       "</table>\n",
       "</div>"
      ],
      "text/plain": [
       "      DATETIME (LOCAL)       DATETIME (UTC)   DATE (LT)  DATE (UTC)  \\\n",
       "0  2016-01-30 23:34:00  2016-01-30 22:34:00  2016-01-30  2016-01-30   \n",
       "1  2016-01-29 23:40:00  2016-01-29 22:40:00  2016-01-29  2016-01-29   \n",
       "2  2016-01-28 03:00:00  2016-01-28 02:00:00  2016-01-28  2016-01-28   \n",
       "4  2016-01-25 23:55:00  2016-01-25 22:55:00  2016-01-25  2016-01-25   \n",
       "5  2016-01-25 01:30:00  2016-01-25 00:30:00  2016-01-25  2016-01-25   \n",
       "\n",
       "          REGION    COUNTRY             INCIDENT TYPE           VESSEL TYPE  \\\n",
       "0    WEST AFRICA    NIGERIA  FAILED ATTACK, HIJACKING        CONTAINER SHIP   \n",
       "1    WEST AFRICA    NIGERIA      KIDNAP/RANSOM AT SEA        PRODUCT TANKER   \n",
       "2     SOUTH ASIA      INDIA    FAILED ATTACK, ROBBERY        PRODUCT TANKER   \n",
       "4  SOUTH AMERICA  VENEZUELA        THEFT AT ANCHORAGE  GENERAL CARGO VESSEL   \n",
       "5     SOUTH ASIA      INDIA      ARMED ROBBERY AT SEA        PRODUCT TANKER   \n",
       "\n",
       "   MAERSK? VESSEL ACTIVITY LOCATION        LAT       LONG         TIMEZONE  \\\n",
       "0        0                OFF SHORE   3.000000   6.250000     Africa/Lagos   \n",
       "1        0                OFF SHORE   2.500000   5.750000     Africa/Lagos   \n",
       "2        0                ANCHORAGE  22.816667  70.116667     Asia/Kolkata   \n",
       "4        0                ANCHORAGE  10.267500 -63.432500  America/Caracas   \n",
       "5        0                OFF SHORE  22.783333  70.033333     Asia/Kolkata   \n",
       "\n",
       "  TIME OF DAY  ATTACKS  ATTACK SUCCESS  \n",
       "0     EVENING        1               0  \n",
       "1     EVENING        1               1  \n",
       "2       NIGHT        1               0  \n",
       "4     EVENING        1               1  \n",
       "5       NIGHT        1               1  "
      ]
     },
     "execution_count": 4,
     "metadata": {},
     "output_type": "execute_result"
    }
   ],
   "source": [
    "data.head()"
   ]
  },
  {
   "cell_type": "code",
   "execution_count": 5,
   "metadata": {},
   "outputs": [],
   "source": [
    "data['DATETIME (LOCAL)'] = pd.to_datetime(data['DATETIME (LOCAL)'])"
   ]
  },
  {
   "cell_type": "code",
   "execution_count": 6,
   "metadata": {},
   "outputs": [],
   "source": [
    "data [['DATETIME (UTC)']] = pd.to_datetime(data['DATETIME (UTC)'])"
   ]
  },
  {
   "cell_type": "code",
   "execution_count": 7,
   "metadata": {},
   "outputs": [],
   "source": [
    "data [['DATE (LT)']] = pd.to_datetime(data['DATE (LT)'])"
   ]
  },
  {
   "cell_type": "code",
   "execution_count": 8,
   "metadata": {},
   "outputs": [],
   "source": [
    "data [['DATE (UTC)']] = pd.to_datetime(data['DATE (UTC)'])"
   ]
  },
  {
   "cell_type": "code",
   "execution_count": 9,
   "metadata": {},
   "outputs": [
    {
     "data": {
      "text/plain": [
       "DATETIME (LOCAL)            datetime64[ns]\n",
       "DATETIME (UTC)              datetime64[ns]\n",
       "DATE (LT)                   datetime64[ns]\n",
       "DATE (UTC)                  datetime64[ns]\n",
       "REGION                              object\n",
       "COUNTRY                             object\n",
       "INCIDENT TYPE                       object\n",
       "VESSEL TYPE                         object\n",
       "MAERSK?                              int64\n",
       "VESSEL ACTIVITY LOCATION            object\n",
       "LAT                                float64\n",
       "LONG                               float64\n",
       "TIMEZONE                            object\n",
       "TIME OF DAY                         object\n",
       "ATTACKS                              int64\n",
       "ATTACK SUCCESS                       int64\n",
       "dtype: object"
      ]
     },
     "execution_count": 9,
     "metadata": {},
     "output_type": "execute_result"
    }
   ],
   "source": [
    "data.dtypes"
   ]
  },
  {
   "cell_type": "markdown",
   "metadata": {},
   "source": [
    "First thing to do is to cluster the geografical location:"
   ]
  },
  {
   "cell_type": "code",
   "execution_count": 42,
   "metadata": {},
   "outputs": [],
   "source": [
    "d = data.dropna(axis = 0, \n",
    "                how ='any', \n",
    "                subset = ['LAT','LONG'], \n",
    "                inplace = False)\n",
    "\n",
    "d = d.loc[:,['LAT','LONG']]"
   ]
  },
  {
   "cell_type": "code",
   "execution_count": 43,
   "metadata": {},
   "outputs": [
    {
     "data": {
      "image/png": "[encoded data removed]",
      "text/plain": [
       "<Figure size 432x288 with 1 Axes>"
      ]
     },
     "metadata": {},
     "output_type": "display_data"
    }
   ],
   "source": [
    "K_clusters = range(1,10)\n",
    "kmeans = [KMeans(n_clusters=i) for i in K_clusters]\n",
    "Y_axis = d[['LAT']]\n",
    "X_axis = d[['LONG']]\n",
    "score = [kmeans[i].fit(Y_axis).score(Y_axis) for i in range(len(kmeans))]\n",
    "# Visualize\n",
    "plt.plot(K_clusters, score)\n",
    "plt.xlabel('Number of Clusters')\n",
    "plt.ylabel('Score')\n",
    "plt.title('Elbow Curve')\n",
    "plt.show()"
   ]
  },
  {
   "cell_type": "code",
   "execution_count": null,
   "metadata": {},
   "outputs": [],
   "source": []
  },
  {
   "cell_type": "markdown",
   "metadata": {},
   "source": [
    "# Graphical analysis indicates that 2 is the optimal number"
   ]
  },
  {
   "cell_type": "code",
   "execution_count": 44,
   "metadata": {},
   "outputs": [
    {
     "data": {
      "text/html": [
       "<div>\n",
       "<style scoped>\n",
       "    .dataframe tbody tr th:only-of-type {\n",
       "        vertical-align: middle;\n",
       "    }\n",
       "\n",
       "    .dataframe tbody tr th {\n",
       "        vertical-align: top;\n",
       "    }\n",
       "\n",
       "    .dataframe thead th {\n",
       "        text-align: right;\n",
       "    }\n",
       "</style>\n",
       "<table border=\"1\" class=\"dataframe\">\n",
       "  <thead>\n",
       "    <tr style=\"text-align: right;\">\n",
       "      <th></th>\n",
       "      <th>LAT</th>\n",
       "      <th>LONG</th>\n",
       "      <th>cluster_label</th>\n",
       "    </tr>\n",
       "  </thead>\n",
       "  <tbody>\n",
       "    <tr>\n",
       "      <th>0</th>\n",
       "      <td>3.000000</td>\n",
       "      <td>6.250000</td>\n",
       "      <td>0</td>\n",
       "    </tr>\n",
       "    <tr>\n",
       "      <th>1</th>\n",
       "      <td>2.500000</td>\n",
       "      <td>5.750000</td>\n",
       "      <td>0</td>\n",
       "    </tr>\n",
       "    <tr>\n",
       "      <th>2</th>\n",
       "      <td>22.816667</td>\n",
       "      <td>70.116667</td>\n",
       "      <td>1</td>\n",
       "    </tr>\n",
       "    <tr>\n",
       "      <th>4</th>\n",
       "      <td>10.267500</td>\n",
       "      <td>-63.432500</td>\n",
       "      <td>0</td>\n",
       "    </tr>\n",
       "    <tr>\n",
       "      <th>5</th>\n",
       "      <td>22.783333</td>\n",
       "      <td>70.033333</td>\n",
       "      <td>1</td>\n",
       "    </tr>\n",
       "    <tr>\n",
       "      <th>7</th>\n",
       "      <td>-4.158333</td>\n",
       "      <td>13.431667</td>\n",
       "      <td>0</td>\n",
       "    </tr>\n",
       "    <tr>\n",
       "      <th>8</th>\n",
       "      <td>17.650000</td>\n",
       "      <td>83.400000</td>\n",
       "      <td>1</td>\n",
       "    </tr>\n",
       "    <tr>\n",
       "      <th>9</th>\n",
       "      <td>5.268679</td>\n",
       "      <td>-3.968054</td>\n",
       "      <td>0</td>\n",
       "    </tr>\n",
       "    <tr>\n",
       "      <th>10</th>\n",
       "      <td>4.250000</td>\n",
       "      <td>8.333333</td>\n",
       "      <td>0</td>\n",
       "    </tr>\n",
       "    <tr>\n",
       "      <th>12</th>\n",
       "      <td>5.216667</td>\n",
       "      <td>-3.966667</td>\n",
       "      <td>0</td>\n",
       "    </tr>\n",
       "  </tbody>\n",
       "</table>\n",
       "</div>"
      ],
      "text/plain": [
       "          LAT       LONG  cluster_label\n",
       "0    3.000000   6.250000              0\n",
       "1    2.500000   5.750000              0\n",
       "2   22.816667  70.116667              1\n",
       "4   10.267500 -63.432500              0\n",
       "5   22.783333  70.033333              1\n",
       "7   -4.158333  13.431667              0\n",
       "8   17.650000  83.400000              1\n",
       "9    5.268679  -3.968054              0\n",
       "10   4.250000   8.333333              0\n",
       "12   5.216667  -3.966667              0"
      ]
     },
     "execution_count": 44,
     "metadata": {},
     "output_type": "execute_result"
    }
   ],
   "source": [
    "kmeans = KMeans(n_clusters = 2, init ='k-means++')\n",
    "kmeans.fit(d) # Compute k-means clustering.\n",
    "d['cluster_label'] = kmeans.fit_predict(d)\n",
    "centers = kmeans.cluster_centers_ # Coordinates of cluster centers.\n",
    "labels = kmeans.predict(d[['LAT', 'LONG']]) # Labels of each point\n",
    "d.head(10)"
   ]
  },
  {
   "cell_type": "code",
   "execution_count": null,
   "metadata": {},
   "outputs": [],
   "source": []
  },
  {
   "cell_type": "code",
   "execution_count": 47,
   "metadata": {},
   "outputs": [
    {
     "data": {
      "text/plain": [
       "<matplotlib.collections.PathCollection at 0x1a18989f10>"
      ]
     },
     "execution_count": 47,
     "metadata": {},
     "output_type": "execute_result"
    },
    {
     "data": {
      "image/png": "[encoded data removed]",
      "text/plain": [
       "<Figure size 432x288 with 2 Axes>"
      ]
     },
     "metadata": {},
     "output_type": "display_data"
    }
   ],
   "source": [
    "d.plot.scatter(x = 'LAT', \n",
    "               y = 'LONG', \n",
    "               c = labels, \n",
    "               s = 50, \n",
    "               cmap = 'viridis')\n",
    "plt.scatter(centers[:, 0], \n",
    "            centers[:, 1], \n",
    "            c='black', \n",
    "            s=200, \n",
    "            alpha=0.7)"
   ]
  },
  {
   "cell_type": "code",
   "execution_count": 14,
   "metadata": {},
   "outputs": [
    {
     "data": {
      "text/plain": [
       "array([[  3.96033289,  -0.48914908],\n",
       "       [  7.1531268 , 101.81741379]])"
      ]
     },
     "execution_count": 14,
     "metadata": {},
     "output_type": "execute_result"
    }
   ],
   "source": [
    "centers"
   ]
  },
  {
   "cell_type": "code",
   "execution_count": 15,
   "metadata": {},
   "outputs": [],
   "source": [
    "d = d[\"cluster_label\"]\n",
    "data = pd.concat([data, d] , axis = 1)"
   ]
  },
  {
   "cell_type": "code",
   "execution_count": 16,
   "metadata": {},
   "outputs": [],
   "source": [
    "data['weekday'] = data['DATETIME (LOCAL)'].dt.day_name()"
   ]
  },
  {
   "cell_type": "code",
   "execution_count": 17,
   "metadata": {},
   "outputs": [],
   "source": [
    "data['month'] = data['DATETIME (LOCAL)'].dt.month_name()"
   ]
  },
  {
   "cell_type": "code",
   "execution_count": 18,
   "metadata": {},
   "outputs": [],
   "source": [
    "data['year'] = data['DATETIME (LOCAL)'].dt.year # only 2 years, 2015 and 201"
   ]
  },
  {
   "cell_type": "code",
   "execution_count": 19,
   "metadata": {},
   "outputs": [],
   "source": [
    "data['hours'] = data['DATETIME (LOCAL)'].dt.hour"
   ]
  },
  {
   "cell_type": "code",
   "execution_count": 20,
   "metadata": {},
   "outputs": [
    {
     "data": {
      "text/plain": [
       "OFF SHORE    283\n",
       "ANCHORAGE    183\n",
       "BERTH         41\n",
       "Name: VESSEL ACTIVITY LOCATION, dtype: int64"
      ]
     },
     "execution_count": 20,
     "metadata": {},
     "output_type": "execute_result"
    }
   ],
   "source": [
    "data['VESSEL ACTIVITY LOCATION'].value_counts()"
   ]
  },
  {
   "cell_type": "code",
   "execution_count": 21,
   "metadata": {},
   "outputs": [],
   "source": [
    "# Incident type is a post hoc description that cannot be used in prediction\n",
    "# MAERSK contains only 8 positive obs. "
   ]
  },
  {
   "cell_type": "code",
   "execution_count": 22,
   "metadata": {},
   "outputs": [],
   "source": [
    "# Grouping infrequent categories together\n",
    "l = data[data.groupby('REGION')['REGION'].transform('size') < 10]['REGION']\n",
    "for country in l:\n",
    "    data['REGION'] = np.where(data['REGION'] == country, 'OTHER REGION', data['REGION'])\n",
    "\n",
    "l = data[data.groupby('COUNTRY')['COUNTRY'].transform('size') < 10]['COUNTRY']\n",
    "for country in l:\n",
    "    data['COUNTRY'] = np.where(data['COUNTRY'] == country, 'OTHER COUNTRY', data['COUNTRY'])\n",
    "    \n",
    "l = data[data.groupby('VESSEL TYPE')['VESSEL TYPE'].transform('size') < 10]['VESSEL TYPE']\n",
    "for country in l:\n",
    "    data['VESSEL TYPE'] = np.where(data['VESSEL TYPE'] == country, 'OTHER VESSEL', data['VESSEL TYPE'])  "
   ]
  },
  {
   "cell_type": "code",
   "execution_count": null,
   "metadata": {},
   "outputs": [],
   "source": []
  },
  {
   "cell_type": "code",
   "execution_count": 23,
   "metadata": {},
   "outputs": [],
   "source": [
    "X = data[['REGION', 'COUNTRY', 'VESSEL TYPE', 'VESSEL ACTIVITY LOCATION',\n",
    "         'TIME OF DAY', 'cluster_label', 'weekday', 'month', 'hours']]\n",
    "y = pd.DataFrame(data['ATTACK SUCCESS'])\n",
    "hold = 0.1"
   ]
  },
  {
   "cell_type": "code",
   "execution_count": 24,
   "metadata": {},
   "outputs": [
    {
     "data": {
      "text/html": [
       "<div>\n",
       "<style scoped>\n",
       "    .dataframe tbody tr th:only-of-type {\n",
       "        vertical-align: middle;\n",
       "    }\n",
       "\n",
       "    .dataframe tbody tr th {\n",
       "        vertical-align: top;\n",
       "    }\n",
       "\n",
       "    .dataframe thead th {\n",
       "        text-align: right;\n",
       "    }\n",
       "</style>\n",
       "<table border=\"1\" class=\"dataframe\">\n",
       "  <thead>\n",
       "    <tr style=\"text-align: right;\">\n",
       "      <th></th>\n",
       "      <th>ATTACK SUCCESS</th>\n",
       "    </tr>\n",
       "  </thead>\n",
       "  <tbody>\n",
       "    <tr>\n",
       "      <th>0</th>\n",
       "      <td>0</td>\n",
       "    </tr>\n",
       "    <tr>\n",
       "      <th>1</th>\n",
       "      <td>1</td>\n",
       "    </tr>\n",
       "    <tr>\n",
       "      <th>2</th>\n",
       "      <td>0</td>\n",
       "    </tr>\n",
       "    <tr>\n",
       "      <th>4</th>\n",
       "      <td>1</td>\n",
       "    </tr>\n",
       "    <tr>\n",
       "      <th>5</th>\n",
       "      <td>1</td>\n",
       "    </tr>\n",
       "    <tr>\n",
       "      <th>...</th>\n",
       "      <td>...</td>\n",
       "    </tr>\n",
       "    <tr>\n",
       "      <th>783</th>\n",
       "      <td>1</td>\n",
       "    </tr>\n",
       "    <tr>\n",
       "      <th>785</th>\n",
       "      <td>0</td>\n",
       "    </tr>\n",
       "    <tr>\n",
       "      <th>786</th>\n",
       "      <td>1</td>\n",
       "    </tr>\n",
       "    <tr>\n",
       "      <th>797</th>\n",
       "      <td>0</td>\n",
       "    </tr>\n",
       "    <tr>\n",
       "      <th>800</th>\n",
       "      <td>1</td>\n",
       "    </tr>\n",
       "  </tbody>\n",
       "</table>\n",
       "<p>507 rows × 1 columns</p>\n",
       "</div>"
      ],
      "text/plain": [
       "     ATTACK SUCCESS\n",
       "0                 0\n",
       "1                 1\n",
       "2                 0\n",
       "4                 1\n",
       "5                 1\n",
       "..              ...\n",
       "783               1\n",
       "785               0\n",
       "786               1\n",
       "797               0\n",
       "800               1\n",
       "\n",
       "[507 rows x 1 columns]"
      ]
     },
     "execution_count": 24,
     "metadata": {},
     "output_type": "execute_result"
    }
   ],
   "source": [
    "y"
   ]
  },
  {
   "cell_type": "code",
   "execution_count": 65,
   "metadata": {},
   "outputs": [],
   "source": [
    "# strategy 'constant' simply means filling with the fill_value\n",
    "categorical_transformer = Pipeline(steps=[('imputer', SimpleImputer(strategy='constant', fill_value='missing')),\n",
    "                                          ('onehot', OneHotEncoder(handle_unknown='ignore', sparse = False))\n",
    "                                         ]\n",
    "                                  )\n",
    "# filling missing values with median and scaling\n",
    "numeric_transformer = Pipeline(steps=[('imputer', SimpleImputer(strategy='median')),\n",
    "                                      ('scaler', StandardScaler())\n",
    "                                     ]\n",
    "                              )     "
   ]
  },
  {
   "cell_type": "code",
   "execution_count": 66,
   "metadata": {},
   "outputs": [],
   "source": [
    "num_vars = [] # numeric vars\n",
    "cat_vars = ['REGION', 'COUNTRY', 'VESSEL TYPE', 'VESSEL ACTIVITY LOCATION',\n",
    "            'TIME OF DAY', 'cluster_label', 'weekday', 'month', 'hours'] # from previous attempt"
   ]
  },
  {
   "cell_type": "code",
   "execution_count": 67,
   "metadata": {},
   "outputs": [],
   "source": [
    "# Next we use the ColumnTransformer to apply the transformations to the correct columns in the dataframe\n",
    "preprocessor = ColumnTransformer(transformers=[('num', numeric_transformer, num_vars),\n",
    "                                               ('cat', categorical_transformer, cat_vars)\n",
    "                                              ]\n",
    "                                )"
   ]
  },
  {
   "cell_type": "code",
   "execution_count": null,
   "metadata": {},
   "outputs": [],
   "source": []
  },
  {
   "cell_type": "code",
   "execution_count": 68,
   "metadata": {},
   "outputs": [],
   "source": [
    "X_train, X_test, y_train, y_test = train_test_split(X, y, test_size=hold, random_state=1)"
   ]
  },
  {
   "cell_type": "code",
   "execution_count": 69,
   "metadata": {},
   "outputs": [],
   "source": [
    "knn = KNeighborsClassifier(n_neighbors=3)"
   ]
  },
  {
   "cell_type": "code",
   "execution_count": 70,
   "metadata": {},
   "outputs": [],
   "source": [
    "pip = Pipeline(steps=[('preprocessor', preprocessor),\n",
    "                        ('classifier', knn)\n",
    "                       ]\n",
    "                )"
   ]
  },
  {
   "cell_type": "code",
   "execution_count": 31,
   "metadata": {
    "collapsed": true,
    "jupyter": {
     "outputs_hidden": true
    }
   },
   "outputs": [
    {
     "data": {
      "text/html": [
       "<div>\n",
       "<style scoped>\n",
       "    .dataframe tbody tr th:only-of-type {\n",
       "        vertical-align: middle;\n",
       "    }\n",
       "\n",
       "    .dataframe tbody tr th {\n",
       "        vertical-align: top;\n",
       "    }\n",
       "\n",
       "    .dataframe thead th {\n",
       "        text-align: right;\n",
       "    }\n",
       "</style>\n",
       "<table border=\"1\" class=\"dataframe\">\n",
       "  <thead>\n",
       "    <tr style=\"text-align: right;\">\n",
       "      <th></th>\n",
       "      <th>REGION</th>\n",
       "      <th>COUNTRY</th>\n",
       "      <th>VESSEL TYPE</th>\n",
       "      <th>VESSEL ACTIVITY LOCATION</th>\n",
       "      <th>TIME OF DAY</th>\n",
       "      <th>cluster_label</th>\n",
       "      <th>weekday</th>\n",
       "      <th>month</th>\n",
       "      <th>hours</th>\n",
       "    </tr>\n",
       "  </thead>\n",
       "  <tbody>\n",
       "    <tr>\n",
       "      <th>370</th>\n",
       "      <td>SOUTH EAST ASIA</td>\n",
       "      <td>INDONESIA</td>\n",
       "      <td>BULK CARRIER</td>\n",
       "      <td>OFF SHORE</td>\n",
       "      <td>NIGHT</td>\n",
       "      <td>1</td>\n",
       "      <td>Saturday</td>\n",
       "      <td>July</td>\n",
       "      <td>2</td>\n",
       "    </tr>\n",
       "    <tr>\n",
       "      <th>7</th>\n",
       "      <td>WEST AFRICA</td>\n",
       "      <td>CONGO</td>\n",
       "      <td>PRODUCT TANKER</td>\n",
       "      <td>ANCHORAGE</td>\n",
       "      <td>NIGHT</td>\n",
       "      <td>0</td>\n",
       "      <td>Sunday</td>\n",
       "      <td>January</td>\n",
       "      <td>5</td>\n",
       "    </tr>\n",
       "    <tr>\n",
       "      <th>249</th>\n",
       "      <td>SOUTH EAST ASIA</td>\n",
       "      <td>INDONESIA</td>\n",
       "      <td>LPG TANKER</td>\n",
       "      <td>OFF SHORE</td>\n",
       "      <td>NIGHT</td>\n",
       "      <td>1</td>\n",
       "      <td>Thursday</td>\n",
       "      <td>October</td>\n",
       "      <td>3</td>\n",
       "    </tr>\n",
       "    <tr>\n",
       "      <th>650</th>\n",
       "      <td>SOUTH AMERICA</td>\n",
       "      <td>OTHER COUNTRY</td>\n",
       "      <td>OTHER VESSEL</td>\n",
       "      <td>ANCHORAGE</td>\n",
       "      <td>NIGHT</td>\n",
       "      <td>0</td>\n",
       "      <td>Monday</td>\n",
       "      <td>February</td>\n",
       "      <td>5</td>\n",
       "    </tr>\n",
       "    <tr>\n",
       "      <th>105</th>\n",
       "      <td>WEST AFRICA</td>\n",
       "      <td>NIGERIA</td>\n",
       "      <td>PASSENGER VESSEL</td>\n",
       "      <td>OFF SHORE</td>\n",
       "      <td>MORNING</td>\n",
       "      <td>0</td>\n",
       "      <td>Tuesday</td>\n",
       "      <td>March</td>\n",
       "      <td>7</td>\n",
       "    </tr>\n",
       "    <tr>\n",
       "      <th>...</th>\n",
       "      <td>...</td>\n",
       "      <td>...</td>\n",
       "      <td>...</td>\n",
       "      <td>...</td>\n",
       "      <td>...</td>\n",
       "      <td>...</td>\n",
       "      <td>...</td>\n",
       "      <td>...</td>\n",
       "      <td>...</td>\n",
       "    </tr>\n",
       "    <tr>\n",
       "      <th>393</th>\n",
       "      <td>SOUTH EAST ASIA</td>\n",
       "      <td>INDONESIA</td>\n",
       "      <td>PRODUCT TANKER</td>\n",
       "      <td>ANCHORAGE</td>\n",
       "      <td>NIGHT</td>\n",
       "      <td>1</td>\n",
       "      <td>Tuesday</td>\n",
       "      <td>June</td>\n",
       "      <td>3</td>\n",
       "    </tr>\n",
       "    <tr>\n",
       "      <th>118</th>\n",
       "      <td>SOUTH AMERICA</td>\n",
       "      <td>OTHER COUNTRY</td>\n",
       "      <td>PRODUCT TANKER</td>\n",
       "      <td>ANCHORAGE</td>\n",
       "      <td>EVENING</td>\n",
       "      <td>0</td>\n",
       "      <td>Thursday</td>\n",
       "      <td>April</td>\n",
       "      <td>23</td>\n",
       "    </tr>\n",
       "    <tr>\n",
       "      <th>582</th>\n",
       "      <td>SOUTH EAST ASIA</td>\n",
       "      <td>SINGAPORE</td>\n",
       "      <td>BULK CARRIER</td>\n",
       "      <td>OFF SHORE</td>\n",
       "      <td>NIGHT</td>\n",
       "      <td>1</td>\n",
       "      <td>Thursday</td>\n",
       "      <td>March</td>\n",
       "      <td>2</td>\n",
       "    </tr>\n",
       "    <tr>\n",
       "      <th>358</th>\n",
       "      <td>SOUTH EAST ASIA</td>\n",
       "      <td>INDONESIA</td>\n",
       "      <td>BULK CARRIER</td>\n",
       "      <td>OFF SHORE</td>\n",
       "      <td>NIGHT</td>\n",
       "      <td>1</td>\n",
       "      <td>Thursday</td>\n",
       "      <td>July</td>\n",
       "      <td>3</td>\n",
       "    </tr>\n",
       "    <tr>\n",
       "      <th>57</th>\n",
       "      <td>SOUTH ASIA</td>\n",
       "      <td>INDIA</td>\n",
       "      <td>BULK CARRIER</td>\n",
       "      <td>ANCHORAGE</td>\n",
       "      <td>NIGHT</td>\n",
       "      <td>1</td>\n",
       "      <td>Sunday</td>\n",
       "      <td>February</td>\n",
       "      <td>0</td>\n",
       "    </tr>\n",
       "  </tbody>\n",
       "</table>\n",
       "<p>456 rows × 9 columns</p>\n",
       "</div>"
      ],
      "text/plain": [
       "              REGION        COUNTRY       VESSEL TYPE  \\\n",
       "370  SOUTH EAST ASIA      INDONESIA      BULK CARRIER   \n",
       "7        WEST AFRICA          CONGO    PRODUCT TANKER   \n",
       "249  SOUTH EAST ASIA      INDONESIA        LPG TANKER   \n",
       "650    SOUTH AMERICA  OTHER COUNTRY      OTHER VESSEL   \n",
       "105      WEST AFRICA        NIGERIA  PASSENGER VESSEL   \n",
       "..               ...            ...               ...   \n",
       "393  SOUTH EAST ASIA      INDONESIA    PRODUCT TANKER   \n",
       "118    SOUTH AMERICA  OTHER COUNTRY    PRODUCT TANKER   \n",
       "582  SOUTH EAST ASIA      SINGAPORE      BULK CARRIER   \n",
       "358  SOUTH EAST ASIA      INDONESIA      BULK CARRIER   \n",
       "57        SOUTH ASIA          INDIA      BULK CARRIER   \n",
       "\n",
       "    VESSEL ACTIVITY LOCATION TIME OF DAY  cluster_label   weekday     month  \\\n",
       "370                OFF SHORE       NIGHT              1  Saturday      July   \n",
       "7                  ANCHORAGE       NIGHT              0    Sunday   January   \n",
       "249                OFF SHORE       NIGHT              1  Thursday   October   \n",
       "650                ANCHORAGE       NIGHT              0    Monday  February   \n",
       "105                OFF SHORE     MORNING              0   Tuesday     March   \n",
       "..                       ...         ...            ...       ...       ...   \n",
       "393                ANCHORAGE       NIGHT              1   Tuesday      June   \n",
       "118                ANCHORAGE     EVENING              0  Thursday     April   \n",
       "582                OFF SHORE       NIGHT              1  Thursday     March   \n",
       "358                OFF SHORE       NIGHT              1  Thursday      July   \n",
       "57                 ANCHORAGE       NIGHT              1    Sunday  February   \n",
       "\n",
       "     hours  \n",
       "370      2  \n",
       "7        5  \n",
       "249      3  \n",
       "650      5  \n",
       "105      7  \n",
       "..     ...  \n",
       "393      3  \n",
       "118     23  \n",
       "582      2  \n",
       "358      3  \n",
       "57       0  \n",
       "\n",
       "[456 rows x 9 columns]"
      ]
     },
     "execution_count": 31,
     "metadata": {},
     "output_type": "execute_result"
    }
   ],
   "source": [
    "X_train"
   ]
  },
  {
   "cell_type": "code",
   "execution_count": 71,
   "metadata": {},
   "outputs": [
    {
     "name": "stderr",
     "output_type": "stream",
     "text": [
      "/opt/anaconda3/envs/propulsion/lib/python3.7/site-packages/sklearn/pipeline.py:354: DataConversionWarning: A column-vector y was passed when a 1d array was expected. Please change the shape of y to (n_samples, ), for example using ravel().\n",
      "  self._final_estimator.fit(Xt, y, **fit_params)\n"
     ]
    },
    {
     "data": {
      "text/plain": [
       "0.6666666666666666"
      ]
     },
     "execution_count": 71,
     "metadata": {},
     "output_type": "execute_result"
    }
   ],
   "source": [
    "pip.fit(X_train, y_train)\n",
    "predictions = pip.predict(X_test)\n",
    "pip_score = pip.score(X_test, y_test)\n",
    "pip_score"
   ]
  },
  {
   "cell_type": "code",
   "execution_count": 72,
   "metadata": {},
   "outputs": [],
   "source": [
    "params = [\n",
    "    {\n",
    "        'classifier': [KNeighborsClassifier()],   \n",
    "        'classifier__n_neighbors': [2, 3, 4, 5, 6, 7, 8, 9],\n",
    "        'classifier__weights': ['uniform', 'distance']\n",
    "    },\n",
    "    {\n",
    "        'classifier': [CategoricalNB()],\n",
    "        'classifier__alpha': [1, 2, 3, 4, 5, 6, 7, 8],\n",
    "        'classifier__fit_prior': ['True', 'False'],\n",
    "    },\n",
    "    {\n",
    "        'classifier': [SVC()],\n",
    "        'classifier__C': [np.logspace(start = .1, stop = 5, num = 10)],\n",
    "        'classifier__random_state': [42],\n",
    "    }\n",
    "]"
   ]
  },
  {
   "cell_type": "code",
   "execution_count": null,
   "metadata": {},
   "outputs": [],
   "source": []
  },
  {
   "cell_type": "code",
   "execution_count": 75,
   "metadata": {},
   "outputs": [
    {
     "name": "stdout",
     "output_type": "stream",
     "text": [
      "Fitting 5 folds for each of 33 candidates, totalling 165 fits\n"
     ]
    },
    {
     "name": "stderr",
     "output_type": "stream",
     "text": [
      "[Parallel(n_jobs=1)]: Using backend SequentialBackend with 1 concurrent workers.\n"
     ]
    },
    {
     "name": "stdout",
     "output_type": "stream",
     "text": [
      "Final score is:  0.5882352941176471\n"
     ]
    },
    {
     "name": "stderr",
     "output_type": "stream",
     "text": [
      "/opt/anaconda3/envs/propulsion/lib/python3.7/site-packages/sklearn/model_selection/_validation.py:536: FitFailedWarning: Estimator fit failed. The score on this train-test partition for these parameters will be set to nan. Details: \n",
      "TypeError: only size-1 arrays can be converted to Python scalars\n",
      "\n",
      "  FitFailedWarning)\n",
      "/opt/anaconda3/envs/propulsion/lib/python3.7/site-packages/sklearn/model_selection/_validation.py:536: FitFailedWarning: Estimator fit failed. The score on this train-test partition for these parameters will be set to nan. Details: \n",
      "TypeError: only size-1 arrays can be converted to Python scalars\n",
      "\n",
      "  FitFailedWarning)\n",
      "/opt/anaconda3/envs/propulsion/lib/python3.7/site-packages/sklearn/model_selection/_validation.py:536: FitFailedWarning: Estimator fit failed. The score on this train-test partition for these parameters will be set to nan. Details: \n",
      "TypeError: only size-1 arrays can be converted to Python scalars\n",
      "\n",
      "  FitFailedWarning)\n",
      "/opt/anaconda3/envs/propulsion/lib/python3.7/site-packages/sklearn/model_selection/_validation.py:536: FitFailedWarning: Estimator fit failed. The score on this train-test partition for these parameters will be set to nan. Details: \n",
      "TypeError: only size-1 arrays can be converted to Python scalars\n",
      "\n",
      "  FitFailedWarning)\n",
      "/opt/anaconda3/envs/propulsion/lib/python3.7/site-packages/sklearn/model_selection/_validation.py:536: FitFailedWarning: Estimator fit failed. The score on this train-test partition for these parameters will be set to nan. Details: \n",
      "TypeError: only size-1 arrays can be converted to Python scalars\n",
      "\n",
      "  FitFailedWarning)\n",
      "[Parallel(n_jobs=1)]: Done 165 out of 165 | elapsed:    4.1s finished\n"
     ]
    }
   ],
   "source": [
    "gridsearch = GridSearchCV(pip, params, verbose=1).fit(X_train, np.ravel(y_train))\n",
    "print('Final score is: ', gridsearch.score(X_test, y_test))"
   ]
  },
  {
   "cell_type": "code",
   "execution_count": 76,
   "metadata": {},
   "outputs": [
    {
     "data": {
      "text/plain": [
       "{'classifier': CategoricalNB(alpha=7, class_prior=None, fit_prior='True'),\n",
       " 'classifier__alpha': 7,\n",
       " 'classifier__fit_prior': 'True'}"
      ]
     },
     "execution_count": 76,
     "metadata": {},
     "output_type": "execute_result"
    }
   ],
   "source": [
    "gridsearch.best_params_"
   ]
  },
  {
   "cell_type": "code",
   "execution_count": 36,
   "metadata": {},
   "outputs": [
    {
     "data": {
      "text/html": [
       "<div>\n",
       "<style scoped>\n",
       "    .dataframe tbody tr th:only-of-type {\n",
       "        vertical-align: middle;\n",
       "    }\n",
       "\n",
       "    .dataframe tbody tr th {\n",
       "        vertical-align: top;\n",
       "    }\n",
       "\n",
       "    .dataframe thead th {\n",
       "        text-align: right;\n",
       "    }\n",
       "</style>\n",
       "<table border=\"1\" class=\"dataframe\">\n",
       "  <thead>\n",
       "    <tr style=\"text-align: right;\">\n",
       "      <th></th>\n",
       "      <th>ATTACK SUCCESS</th>\n",
       "    </tr>\n",
       "  </thead>\n",
       "  <tbody>\n",
       "    <tr>\n",
       "      <th>370</th>\n",
       "      <td>1</td>\n",
       "    </tr>\n",
       "    <tr>\n",
       "      <th>7</th>\n",
       "      <td>0</td>\n",
       "    </tr>\n",
       "    <tr>\n",
       "      <th>249</th>\n",
       "      <td>1</td>\n",
       "    </tr>\n",
       "    <tr>\n",
       "      <th>650</th>\n",
       "      <td>0</td>\n",
       "    </tr>\n",
       "    <tr>\n",
       "      <th>105</th>\n",
       "      <td>1</td>\n",
       "    </tr>\n",
       "    <tr>\n",
       "      <th>...</th>\n",
       "      <td>...</td>\n",
       "    </tr>\n",
       "    <tr>\n",
       "      <th>393</th>\n",
       "      <td>1</td>\n",
       "    </tr>\n",
       "    <tr>\n",
       "      <th>118</th>\n",
       "      <td>0</td>\n",
       "    </tr>\n",
       "    <tr>\n",
       "      <th>582</th>\n",
       "      <td>1</td>\n",
       "    </tr>\n",
       "    <tr>\n",
       "      <th>358</th>\n",
       "      <td>0</td>\n",
       "    </tr>\n",
       "    <tr>\n",
       "      <th>57</th>\n",
       "      <td>0</td>\n",
       "    </tr>\n",
       "  </tbody>\n",
       "</table>\n",
       "<p>456 rows × 1 columns</p>\n",
       "</div>"
      ],
      "text/plain": [
       "     ATTACK SUCCESS\n",
       "370               1\n",
       "7                 0\n",
       "249               1\n",
       "650               0\n",
       "105               1\n",
       "..              ...\n",
       "393               1\n",
       "118               0\n",
       "582               1\n",
       "358               0\n",
       "57                0\n",
       "\n",
       "[456 rows x 1 columns]"
      ]
     },
     "execution_count": 36,
     "metadata": {},
     "output_type": "execute_result"
    }
   ],
   "source": [
    "y_train"
   ]
  },
  {
   "cell_type": "code",
   "execution_count": null,
   "metadata": {},
   "outputs": [],
   "source": []
  },
  {
   "cell_type": "code",
   "execution_count": null,
   "metadata": {},
   "outputs": [],
   "source": []
  },
  {
   "cell_type": "code",
   "execution_count": null,
   "metadata": {},
   "outputs": [],
   "source": []
  },
  {
   "cell_type": "code",
   "execution_count": null,
   "metadata": {},
   "outputs": [],
   "source": []
  }
 ],
 "metadata": {
  "kernelspec": {
   "display_name": "Python 3",
   "language": "python",
   "name": "python3"
  },
  "language_info": {
   "codemirror_mode": {
    "name": "ipython",
    "version": 3
   },
   "file_extension": ".py",
   "mimetype": "text/x-python",
   "name": "python",
   "nbconvert_exporter": "python",
   "pygments_lexer": "ipython3",
   "version": "3.7.6"
  }
 },
 "nbformat": 4,
 "nbformat_minor": 4
}
