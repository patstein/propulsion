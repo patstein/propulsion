{
 "cells": [
  {
   "cell_type": "markdown",
   "metadata": {},
   "source": [
    "# Day 2: Ridge Lasso Regression (Part 2)"
   ]
  },
  {
   "cell_type": "code",
   "execution_count": null,
   "metadata": {
    "ExecuteTime": {
     "end_time": "2018-12-03T17:43:05.831405Z",
     "start_time": "2018-12-03T17:43:05.827632Z"
    }
   },
   "outputs": [],
   "source": [
    "import numpy as np\n",
    "import pandas as pd\n",
    "import seaborn as sns\n",
    "import matplotlib.pyplot as plt\n",
    "from sklearn.model_selection import train_test_split\n",
    "from sklearn.preprocessing import MinMaxScaler\n",
    "from sklearn.preprocessing import StandardScaler\n",
    "from sklearn.linear_model import Ridge, RidgeCV, Lasso, LassoCV\n",
    "from sklearn import metrics"
   ]
  },
  {
   "cell_type": "code",
   "execution_count": null,
   "metadata": {
    "ExecuteTime": {
     "end_time": "2018-12-03T17:43:07.014561Z",
     "start_time": "2018-12-03T17:43:07.011331Z"
    }
   },
   "outputs": [],
   "source": [
    "plt.rcParams[\"figure.figsize\"] = (8, 8) #Change matplotlib Box Size\n",
    "plt.rcParams[\"font.size\"] = 14 #Change matplotlib Font Size"
   ]
  },
  {
   "cell_type": "code",
   "execution_count": null,
   "metadata": {
    "ExecuteTime": {
     "end_time": "2018-12-03T17:43:09.702947Z",
     "start_time": "2018-12-03T17:43:09.683155Z"
    }
   },
   "outputs": [],
   "source": [
    "#To Do: load the dataset and remove column: quality"
   ]
  },
  {
   "cell_type": "code",
   "execution_count": null,
   "metadata": {
    "ExecuteTime": {
     "end_time": "2018-12-03T17:44:04.474241Z",
     "start_time": "2018-12-03T17:44:04.471655Z"
    }
   },
   "outputs": [],
   "source": [
    "#To Do: Spit the data to X and y"
   ]
  },
  {
   "cell_type": "code",
   "execution_count": null,
   "metadata": {
    "ExecuteTime": {
     "end_time": "2018-12-03T17:40:41.746855Z",
     "start_time": "2018-12-03T17:40:41.613046Z"
    }
   },
   "outputs": [],
   "source": [
    "#Normalise Data\n",
    "#def normalize(df):\n",
    "    #To Do: normalize the dataframe\n",
    "\n",
    "#X = normalize(X).values"
   ]
  },
  {
   "cell_type": "code",
   "execution_count": null,
   "metadata": {
    "ExecuteTime": {
     "end_time": "2018-12-03T17:40:44.229208Z",
     "start_time": "2018-12-03T17:40:44.066841Z"
    }
   },
   "outputs": [],
   "source": [
    "X_train, X_test, y_train, y_test = train_test_split(X, y, test_size=.33, random_state=0)\n",
    "\n",
    "#Feature Scaling\n",
    "\n",
    "sc = StandardScaler()\n",
    "X_train = sc.fit_transform(X_train)\n",
    "X_test = sc.transform(X_test)\n",
    "\n",
    "print(\"Training set has {} samples.\".format(X_train.shape[0]))\n",
    "print(\"Testing set has {} samples.\".format(X_test.shape[0]))"
   ]
  },
  {
   "cell_type": "code",
   "execution_count": null,
   "metadata": {
    "ExecuteTime": {
     "end_time": "2018-12-03T17:40:45.080292Z",
     "start_time": "2018-12-03T17:40:45.028425Z"
    }
   },
   "outputs": [],
   "source": [
    "#To Do:\n",
    "# Fit a ridge regression on the training data\n",
    "# Use this model to predict the test data\n",
    "pd.DataFrame(ridge.coef_,data.columns.values[0:10],columns=['Coefficients'])"
   ]
  },
  {
   "cell_type": "code",
   "execution_count": null,
   "metadata": {
    "ExecuteTime": {
     "end_time": "2018-12-03T17:40:45.994035Z",
     "start_time": "2018-12-03T17:40:45.986996Z"
    }
   },
   "outputs": [],
   "source": [
    "#Calculate the metrics\n",
    "print('MAE',metrics.mean_absolute_error(y_test,predictions))\n",
    "print('MSE',metrics.mean_squared_error(y_test,predictions))\n",
    "print('RMSE',np.sqrt(metrics.mean_squared_error(y_test,predictions)))\n",
    "print('Explained Var Score',metrics.explained_variance_score(y_test,predictions))"
   ]
  },
  {
   "cell_type": "markdown",
   "metadata": {},
   "source": [
    "# Ridge Regression"
   ]
  },
  {
   "cell_type": "code",
   "execution_count": null,
   "metadata": {
    "ExecuteTime": {
     "end_time": "2018-12-03T17:40:51.824522Z",
     "start_time": "2018-12-03T17:40:51.458971Z"
    }
   },
   "outputs": [],
   "source": [
    "#Ridge Regression\n",
    "\n",
    "alphas = np.linspace(-10,10,101)\n",
    "\n",
    "ridge = Ridge()\n",
    "coefs = []\n",
    "mse = []\n",
    "rscore = []\n",
    "\n",
    "for a in alphas:\n",
    "    #To Do: set the parameters and fit your training model and update the metrics\n",
    "    \n",
    "ax = plt.gca()\n",
    "ax.plot(alphas, coefs)\n",
    "plt.axis('tight')\n",
    "plt.xlabel('alpha')\n",
    "plt.ylabel('weights')\n",
    "None"
   ]
  },
  {
   "cell_type": "code",
   "execution_count": null,
   "metadata": {
    "ExecuteTime": {
     "end_time": "2018-12-03T17:40:53.411494Z",
     "start_time": "2018-12-03T17:40:52.619270Z"
    }
   },
   "outputs": [],
   "source": [
    "#Logarithmic\n",
    "\n",
    "alphas_log = 10**np.linspace(-10,10,101)*0.5\n",
    "\n",
    "ridge = Ridge()\n",
    "coefs = []\n",
    "mse = []\n",
    "rscore = []\n",
    "\n",
    "for a in alphas_log:\n",
    "    # To Do: same here!\n",
    "    \n",
    "ax = plt.gca()\n",
    "ax.plot(alphas_log, coefs)\n",
    "ax.set_xscale('log')\n",
    "plt.axis('tight')\n",
    "plt.xlabel('alpha')\n",
    "plt.ylabel('weights')\n",
    "None"
   ]
  },
  {
   "cell_type": "code",
   "execution_count": null,
   "metadata": {
    "ExecuteTime": {
     "end_time": "2018-12-03T17:40:53.482392Z",
     "start_time": "2018-12-03T17:40:53.465336Z"
    }
   },
   "outputs": [],
   "source": [
    "#To do: update the dataframe with the coeficients and plot aplha vs the features "
   ]
  },
  {
   "cell_type": "code",
   "execution_count": null,
   "metadata": {
    "ExecuteTime": {
     "end_time": "2018-12-03T17:40:56.055510Z",
     "start_time": "2018-12-03T17:40:54.907420Z"
    }
   },
   "outputs": [],
   "source": [
    "g = sns.pairplot(ridge_df,x_vars=['alpha'],y_vars=['mse','score', 'fixed acidity', 'volatile acidity', 'citric acid','residual sugar', 'chlorides', 'free sulfur dioxide','total sulfur dioxide', 'density', 'pH', 'sulphates'])"
   ]
  },
  {
   "cell_type": "markdown",
   "metadata": {},
   "source": [
    "# Lasso Regression"
   ]
  },
  {
   "cell_type": "code",
   "execution_count": null,
   "metadata": {
    "ExecuteTime": {
     "end_time": "2018-12-03T17:40:57.292856Z",
     "start_time": "2018-12-03T17:40:56.770241Z"
    }
   },
   "outputs": [],
   "source": [
    "#Lasso Regression\n",
    "\n",
    "alphas = np.linspace(-1000,1000,101)\n",
    "\n",
    "lasso = Lasso(max_iter=1000)\n",
    "coefs = []\n",
    "mse = []\n",
    "rscore = []\n",
    "\n",
    "for a in alphas:\n",
    "    #To Do: set the parameters and fit your training model and update the metrics\n",
    "\n",
    "\n",
    "ax = plt.gca()\n",
    "ax.plot(alphas, coefs)\n",
    "plt.axis('tight')\n",
    "plt.xlabel('alpha')\n",
    "plt.ylabel('weights')\n",
    "None"
   ]
  },
  {
   "cell_type": "code",
   "execution_count": null,
   "metadata": {
    "ExecuteTime": {
     "end_time": "2018-12-03T17:40:58.067984Z",
     "start_time": "2018-12-03T17:40:57.364349Z"
    }
   },
   "outputs": [],
   "source": [
    "#Logarithmic\n",
    "\n",
    "alphas_log = 10**np.linspace(-10,10,101)*0.5\n",
    "\n",
    "lasso = Lasso()\n",
    "coefs = []\n",
    "mse = []\n",
    "rscore = []\n",
    "\n",
    "for a in alphas_log:\n",
    "       #To Do: set the parameters and fit your training model and update the metrics\n",
    "\n",
    "\n",
    "ax = plt.gca()\n",
    "ax.plot(alphas_log, coefs)\n",
    "ax.set_xscale('log')\n",
    "plt.axis('tight')\n",
    "plt.xlabel('alpha')\n",
    "plt.ylabel('weights')\n",
    "None"
   ]
  },
  {
   "cell_type": "code",
   "execution_count": null,
   "metadata": {
    "ExecuteTime": {
     "end_time": "2018-12-03T17:40:58.079981Z",
     "start_time": "2018-12-03T17:40:58.070148Z"
    }
   },
   "outputs": [],
   "source": [
    "#To do: update the dataframe with the coeficients and plot aplha vs the features "
   ]
  },
  {
   "cell_type": "code",
   "execution_count": null,
   "metadata": {
    "ExecuteTime": {
     "end_time": "2018-12-03T17:41:00.367007Z",
     "start_time": "2018-12-03T17:40:59.227267Z"
    }
   },
   "outputs": [],
   "source": [
    "lasso_plot = sns.pairplot(lasso_df,x_vars=['alpha'],y_vars=['mse','score', 'fixed acidity', 'volatile acidity', 'citric acid','residual sugar', 'chlorides', 'free sulfur dioxide','total sulfur dioxide', 'density', 'pH', 'sulphates'])"
   ]
  }
 ],
 "metadata": {
  "kernelspec": {
   "display_name": "Python 3",
   "language": "python",
   "name": "python3"
  },
  "language_info": {
   "codemirror_mode": {
    "name": "ipython",
    "version": 3
   },
   "file_extension": ".py",
   "mimetype": "text/x-python",
   "name": "python",
   "nbconvert_exporter": "python",
   "pygments_lexer": "ipython3",
   "version": "3.7.3"
  }
 },
 "nbformat": 4,
 "nbformat_minor": 2
}
