{
 "cells": [
  {
   "cell_type": "markdown",
   "metadata": {},
   "source": [
    "## Word2vec and Classification together\n",
    "\n",
    "The consumer complains dataset can be found here: https://catalog.data.gov/dataset/consumer-complaint-database\n",
    "\n",
    "If you want to experiment with another data set:\n",
    "A very large set of Stack Overflow questions and tags is available at \n",
    "https://storage.googleapis.com/tensorflow-workshop-examples/stack-overflow-data.csv"
   ]
  },
  {
   "cell_type": "code",
   "execution_count": 1,
   "metadata": {
    "ExecuteTime": {
     "end_time": "2019-01-08T08:56:39.247287Z",
     "start_time": "2019-01-08T08:56:36.331166Z"
    }
   },
   "outputs": [],
   "source": [
    "import pandas as pd\n",
    "import numpy as np\n",
    "from tqdm import tqdm\n",
    "tqdm.pandas(desc=\"progress-bar\")\n",
    "from gensim.models import Doc2Vec\n",
    "from sklearn import utils\n",
    "from sklearn.model_selection import train_test_split\n",
    "import gensim\n",
    "from sklearn.linear_model import LogisticRegression\n",
    "from gensim.models.doc2vec import TaggedDocument\n",
    "import re\n",
    "import seaborn as sns\n",
    "import matplotlib.pyplot as plt"
   ]
  },
  {
   "cell_type": "code",
   "execution_count": 60,
   "metadata": {},
   "outputs": [
    {
     "name": "stderr",
     "output_type": "stream",
     "text": [
      "/anaconda3/lib/python3.6/site-packages/IPython/core/interactiveshell.py:2785: DtypeWarning: Columns (4,5,6,11,16) have mixed types. Specify dtype option on import or set low_memory=False.\n",
      "  interactivity=interactivity, compiler=compiler, result=result)\n"
     ]
    },
    {
     "data": {
      "text/html": [
       "<div>\n",
       "<style scoped>\n",
       "    .dataframe tbody tr th:only-of-type {\n",
       "        vertical-align: middle;\n",
       "    }\n",
       "\n",
       "    .dataframe tbody tr th {\n",
       "        vertical-align: top;\n",
       "    }\n",
       "\n",
       "    .dataframe thead th {\n",
       "        text-align: right;\n",
       "    }\n",
       "</style>\n",
       "<table border=\"1\" class=\"dataframe\">\n",
       "  <thead>\n",
       "    <tr style=\"text-align: right;\">\n",
       "      <th></th>\n",
       "      <th>narrative</th>\n",
       "      <th>Product</th>\n",
       "    </tr>\n",
       "  </thead>\n",
       "  <tbody>\n",
       "    <tr>\n",
       "      <th>60</th>\n",
       "      <td>I am disputing this debt for XXXX XXXX that is...</td>\n",
       "      <td>Debt collection</td>\n",
       "    </tr>\n",
       "    <tr>\n",
       "      <th>91</th>\n",
       "      <td>Ok education credit management corporation XXX...</td>\n",
       "      <td>Debt collection</td>\n",
       "    </tr>\n",
       "    <tr>\n",
       "      <th>146</th>\n",
       "      <td>The Account from Ability Recovery Services has...</td>\n",
       "      <td>Credit reporting, credit repair services, or o...</td>\n",
       "    </tr>\n",
       "    <tr>\n",
       "      <th>171</th>\n",
       "      <td>I made cash &amp; check deposit at my banks atm on...</td>\n",
       "      <td>Checking or savings account</td>\n",
       "    </tr>\n",
       "    <tr>\n",
       "      <th>172</th>\n",
       "      <td>Monterey Collection is trying to collect on a ...</td>\n",
       "      <td>Debt collection</td>\n",
       "    </tr>\n",
       "    <tr>\n",
       "      <th>173</th>\n",
       "      <td>I was looking through my credit karma and see ...</td>\n",
       "      <td>Credit reporting, credit repair services, or o...</td>\n",
       "    </tr>\n",
       "    <tr>\n",
       "      <th>174</th>\n",
       "      <td>Hi, I am constantly being harassed by a compan...</td>\n",
       "      <td>Debt collection</td>\n",
       "    </tr>\n",
       "    <tr>\n",
       "      <th>187</th>\n",
       "      <td>I ATTENDED XXXX XXXX XXXX FOR A WHILE THEN COU...</td>\n",
       "      <td>Debt collection</td>\n",
       "    </tr>\n",
       "    <tr>\n",
       "      <th>189</th>\n",
       "      <td>First I received communications from Source RM...</td>\n",
       "      <td>Debt collection</td>\n",
       "    </tr>\n",
       "    <tr>\n",
       "      <th>208</th>\n",
       "      <td>On Friday XX/XX/18 I was called 6 times in a r...</td>\n",
       "      <td>Debt collection</td>\n",
       "    </tr>\n",
       "  </tbody>\n",
       "</table>\n",
       "</div>"
      ],
      "text/plain": [
       "                                             narrative  \\\n",
       "60   I am disputing this debt for XXXX XXXX that is...   \n",
       "91   Ok education credit management corporation XXX...   \n",
       "146  The Account from Ability Recovery Services has...   \n",
       "171  I made cash & check deposit at my banks atm on...   \n",
       "172  Monterey Collection is trying to collect on a ...   \n",
       "173  I was looking through my credit karma and see ...   \n",
       "174  Hi, I am constantly being harassed by a compan...   \n",
       "187  I ATTENDED XXXX XXXX XXXX FOR A WHILE THEN COU...   \n",
       "189  First I received communications from Source RM...   \n",
       "208  On Friday XX/XX/18 I was called 6 times in a r...   \n",
       "\n",
       "                                               Product  \n",
       "60                                     Debt collection  \n",
       "91                                     Debt collection  \n",
       "146  Credit reporting, credit repair services, or o...  \n",
       "171                        Checking or savings account  \n",
       "172                                    Debt collection  \n",
       "173  Credit reporting, credit repair services, or o...  \n",
       "174                                    Debt collection  \n",
       "187                                    Debt collection  \n",
       "189                                    Debt collection  \n",
       "208                                    Debt collection  "
      ]
     },
     "execution_count": 60,
     "metadata": {},
     "output_type": "execute_result"
    }
   ],
   "source": [
    "df = pd.read_csv('Consumer_Complaints.csv')\n",
    "df = df[['Consumer complaint narrative','Product']]\n",
    "df = df[pd.notnull(df['Consumer complaint narrative'])]\n",
    "df.rename(columns = {'Consumer complaint narrative':'narrative'}, inplace = True)\n",
    "df.head(10)"
   ]
  },
  {
   "cell_type": "code",
   "execution_count": 39,
   "metadata": {},
   "outputs": [],
   "source": [
    "df = df.sample(frac = 0.01)"
   ]
  },
  {
   "cell_type": "code",
   "execution_count": 40,
   "metadata": {},
   "outputs": [
    {
     "data": {
      "text/plain": [
       "(3546, 2)"
      ]
     },
     "execution_count": 40,
     "metadata": {},
     "output_type": "execute_result"
    }
   ],
   "source": [
    "df.shape"
   ]
  },
  {
   "cell_type": "code",
   "execution_count": 41,
   "metadata": {},
   "outputs": [],
   "source": [
    "df.index = range(df.shape[0])"
   ]
  },
  {
   "cell_type": "code",
   "execution_count": 42,
   "metadata": {},
   "outputs": [
    {
     "data": {
      "text/plain": [
       "698779"
      ]
     },
     "execution_count": 42,
     "metadata": {},
     "output_type": "execute_result"
    }
   ],
   "source": [
    "df['narrative'].apply(lambda x: len(x.split(' '))).sum()"
   ]
  },
  {
   "cell_type": "code",
   "execution_count": 43,
   "metadata": {},
   "outputs": [
    {
     "data": {
      "image/png": "[encoded data removed]",
      "text/plain": [
       "<Figure size 864x288 with 1 Axes>"
      ]
     },
     "metadata": {},
     "output_type": "display_data"
    }
   ],
   "source": [
    "cnt_pro = df['Product'].value_counts()\n",
    "\n",
    "plt.figure(figsize=(12,4))\n",
    "sns.barplot(cnt_pro.index, cnt_pro.values, alpha=0.8)\n",
    "plt.ylabel('Number of Occurrences', fontsize=12)\n",
    "plt.xlabel('Product', fontsize=12)\n",
    "plt.xticks(rotation=90)\n",
    "plt.show();"
   ]
  },
  {
   "cell_type": "markdown",
   "metadata": {},
   "source": [
    "The classes are imbalanced. However, a naive classifier that predicts everything to be Debt collection will only achieve over 20% accuracy.\n",
    "\n",
    "Let's have a look a few examples of complaint narrative and its associated product.\n"
   ]
  },
  {
   "cell_type": "code",
   "execution_count": 44,
   "metadata": {},
   "outputs": [],
   "source": [
    "def print_complaint(index):\n",
    "    example = df[df.index == index][['narrative', 'Product']].values[0]\n",
    "    if len(example) > 0:\n",
    "        print(example[0])\n",
    "        print('Product:', example[1])"
   ]
  },
  {
   "cell_type": "code",
   "execution_count": 45,
   "metadata": {},
   "outputs": [
    {
     "name": "stdout",
     "output_type": "stream",
     "text": [
      "On XXXX XXXX, 2017, Equifax disclosed my personal information as part of a data breach. \n",
      "\n",
      "According to Equifax most of the consumer information breached includes names, Social Security numbers, birth dates, addresses, and in some instances, drivers license numbers. In addition, credit card numbers for approximately 209,000 consumers and certain dispute documents, which included personal identifying information, for approximately 182,000 consumers were accessed.\n",
      "Product: Credit reporting, credit repair services, or other personal consumer reports\n"
     ]
    }
   ],
   "source": [
    "print_complaint(0)"
   ]
  },
  {
   "cell_type": "markdown",
   "metadata": {},
   "source": [
    "## Text preprocessing"
   ]
  },
  {
   "cell_type": "code",
   "execution_count": 46,
   "metadata": {},
   "outputs": [],
   "source": [
    "#To do: Text preprocessing\n",
    "#use BeautifulSoup and regular expressions to clean the text"
   ]
  },
  {
   "cell_type": "code",
   "execution_count": 47,
   "metadata": {},
   "outputs": [
    {
     "data": {
      "text/plain": [
       "'equifa incorrectly shows a    revolving credit card account as open. it is closed.'"
      ]
     },
     "execution_count": 47,
     "metadata": {},
     "output_type": "execute_result"
    }
   ],
   "source": [
    "df['narrative'] = df['narrative'].apply(cleanText)\n",
    "df['narrative'][20]"
   ]
  },
  {
   "cell_type": "markdown",
   "metadata": {},
   "source": [
    "## Train test split"
   ]
  },
  {
   "cell_type": "code",
   "execution_count": 48,
   "metadata": {},
   "outputs": [],
   "source": [
    "train, test = train_test_split(df, test_size=0.3, random_state=42)"
   ]
  },
  {
   "cell_type": "markdown",
   "metadata": {},
   "source": [
    "\n",
    "### Tokenization "
   ]
  },
  {
   "cell_type": "code",
   "execution_count": null,
   "metadata": {},
   "outputs": [],
   "source": [
    "import nltk\n",
    "from nltk.corpus import stopwords\n",
    "def tokenize_text(text):\n",
    "    tokens = []\n",
    "    for sent in nltk.sent_tokenize(text):\n",
    "        for word in nltk.word_tokenize(sent):\n",
    "            if len(word) < 2:\n",
    "                continue\n",
    "            tokens.append(word.lower())\n",
    "    return tokens"
   ]
  },
  {
   "cell_type": "code",
   "execution_count": 50,
   "metadata": {},
   "outputs": [],
   "source": [
    "train_tagged = train.apply(\n",
    "    lambda r: TaggedDocument(#use words from tokenized text (narrative) and tags from product ,  axis=1)\n",
    "test_tagged = #to do: do the same for the test\n"
   ]
  },
  {
   "cell_type": "markdown",
   "metadata": {},
   "source": [
    "This is what a training entry looks like - an example complaint narrative tagged by 'Credit reporting'."
   ]
  },
  {
   "cell_type": "code",
   "execution_count": 62,
   "metadata": {},
   "outputs": [
    {
     "data": {
      "text/plain": [
       "TaggedDocument(words=['phh', 'has', 'sent', 'us', 'fraudulent', 'statement', 'regarding', 'our', 'mortgage', 'they', 'have', 'refused', 'our', 'payments', 'after', 'they', 'received', 'our', 'last', 'trial', 'payment', 'of', 'our', 'loan', 'modification', '2016.', 'they', 'also', 'sent', 'us', 'an', 'intimidating', 'and', 'fraudulent', 'delinquency', 'notice', 'we', 'are', 'being', 'harassed', 'by', 'this', 'company.with', 'these', 'threatening', 'notices', 'being', 'sent', 'to', 'us'], tags=['Mortgage'])"
      ]
     },
     "execution_count": 62,
     "metadata": {},
     "output_type": "execute_result"
    }
   ],
   "source": [
    "train_tagged.values[30]"
   ]
  },
  {
   "cell_type": "markdown",
   "metadata": {},
   "source": [
    "## Training the model\n",
    "\n",
    "We'll instantiate a Doc2Vec model-Distributed Bag of Words (DBOW). In the Word2Vec architecture, the two algorithm \n",
    "names are “continuous bag of words” (cbow) and “skip-gram” (sg); in the Doc2Vec architecture, the corresponding \n",
    "algorithms are “distributed bag of words” (dbow) and “distributed memory” (dm).\n",
    "\n",
    "## DBOW\n",
    "\n",
    "DBOW is the Doc2Vec model analogous to Skip-gram model in Word2Vec. \n",
    "The paragraph vectors are obtained by training a neural network on the task of predicting a \n",
    "probability distribution of words in a paragraph given a randomly-sampled word from the paragraph.\n",
    "\n",
    "Training a Doc2Vec model is rather straight forward in Gensim, we initialize the model and train for 30 epochs:\n",
    "\n",
    "We set the minimum word count to 2 in order to discard words with very few occurrences.\n"
   ]
  },
  {
   "cell_type": "code",
   "execution_count": 52,
   "metadata": {},
   "outputs": [],
   "source": [
    "import multiprocessing\n",
    "cores = multiprocessing.cpu_count()"
   ]
  },
  {
   "cell_type": "code",
   "execution_count": 64,
   "metadata": {},
   "outputs": [
    {
     "name": "stderr",
     "output_type": "stream",
     "text": [
      "100%|██████████| 2482/2482 [00:00<00:00, 1089509.42it/s]\n"
     ]
    }
   ],
   "source": [
    "model_dbow = Doc2Vec(dm=0, vector_size=?, negative=?, hs=?, min_count=2, sample = ?, workers=cores)\n",
    "model_dbow.build_vocab([x for x in tqdm(train_tagged.values)])"
   ]
  },
  {
   "cell_type": "code",
   "execution_count": 65,
   "metadata": {},
   "outputs": [
    {
     "name": "stderr",
     "output_type": "stream",
     "text": [
      "100%|██████████| 2482/2482 [00:00<00:00, 1212045.93it/s]\n",
      "100%|██████████| 2482/2482 [00:00<00:00, 2652296.19it/s]\n",
      "100%|██████████| 2482/2482 [00:00<00:00, 2073757.48it/s]\n",
      "100%|██████████| 2482/2482 [00:00<00:00, 2317511.69it/s]\n",
      "100%|██████████| 2482/2482 [00:00<00:00, 2464550.79it/s]\n",
      "100%|██████████| 2482/2482 [00:00<00:00, 2046042.16it/s]\n",
      "100%|██████████| 2482/2482 [00:00<00:00, 2626201.45it/s]\n",
      "100%|██████████| 2482/2482 [00:00<00:00, 2085389.13it/s]\n",
      "100%|██████████| 2482/2482 [00:00<00:00, 2149104.57it/s]\n",
      "100%|██████████| 2482/2482 [00:00<00:00, 2438000.59it/s]\n",
      "100%|██████████| 2482/2482 [00:00<00:00, 2235881.13it/s]\n",
      "100%|██████████| 2482/2482 [00:00<00:00, 2030874.47it/s]\n",
      "100%|██████████| 2482/2482 [00:00<00:00, 2265070.18it/s]\n",
      "100%|██████████| 2482/2482 [00:00<00:00, 2054927.46it/s]\n",
      "100%|██████████| 2482/2482 [00:00<00:00, 1762957.24it/s]\n",
      "100%|██████████| 2482/2482 [00:00<00:00, 1507859.58it/s]\n",
      "100%|██████████| 2482/2482 [00:00<00:00, 1735622.30it/s]\n",
      "100%|██████████| 2482/2482 [00:00<00:00, 2163396.20it/s]\n",
      "100%|██████████| 2482/2482 [00:00<00:00, 1860636.73it/s]\n",
      "100%|██████████| 2482/2482 [00:00<00:00, 2152659.75it/s]\n",
      "100%|██████████| 2482/2482 [00:00<00:00, 1660328.95it/s]\n",
      "100%|██████████| 2482/2482 [00:00<00:00, 2004672.16it/s]\n",
      "100%|██████████| 2482/2482 [00:00<00:00, 1946571.15it/s]\n",
      "100%|██████████| 2482/2482 [00:00<00:00, 2296550.30it/s]\n",
      "100%|██████████| 2482/2482 [00:00<00:00, 2135876.60it/s]\n",
      "100%|██████████| 2482/2482 [00:00<00:00, 2491685.62it/s]\n",
      "100%|██████████| 2482/2482 [00:00<00:00, 2507288.66it/s]\n",
      "100%|██████████| 2482/2482 [00:00<00:00, 1612744.00it/s]\n",
      "100%|██████████| 2482/2482 [00:00<00:00, 2014759.54it/s]\n",
      "100%|██████████| 2482/2482 [00:00<00:00, 2377315.03it/s]\n"
     ]
    },
    {
     "name": "stdout",
     "output_type": "stream",
     "text": [
      "CPU times: user 22.1 s, sys: 594 ms, total: 22.7 s\n",
      "Wall time: 8.06 s\n"
     ]
    }
   ],
   "source": [
    "%%time\n",
    "for epoch in range(30):\n",
    "    model_dbow.train(utils.shuffle([x for x in tqdm(train_tagged.values)]), total_examples=len(train_tagged.values), epochs=1)\n",
    "    model_dbow.alpha -= 0.002\n",
    "    model_dbow.min_alpha = model_dbow.alpha"
   ]
  },
  {
   "cell_type": "markdown",
   "metadata": {},
   "source": [
    "# Building the final vector feature for the classifier"
   ]
  },
  {
   "cell_type": "code",
   "execution_count": 2,
   "metadata": {},
   "outputs": [],
   "source": [
    "def vec_for_learning(model, tagged_docs):\n",
    "    sents = tagged_docs.values\n",
    "    targets, regressors = zip(*[(doc.tags[0], model.infer_vector(doc.words, steps=20)) for doc in sents])\n",
    "    return targets, regressors"
   ]
  },
  {
   "cell_type": "code",
   "execution_count": 3,
   "metadata": {},
   "outputs": [
    {
     "ename": "SyntaxError",
     "evalue": "unexpected EOF while parsing (<ipython-input-3-d0fc8ea16f00>, line 2)",
     "output_type": "error",
     "traceback": [
      "\u001b[0;36m  File \u001b[0;32m\"<ipython-input-3-d0fc8ea16f00>\"\u001b[0;36m, line \u001b[0;32m2\u001b[0m\n\u001b[0;31m    y_test, X_test = vec_for_learning(# put the model and the train)\u001b[0m\n\u001b[0m                                                                    ^\u001b[0m\n\u001b[0;31mSyntaxError\u001b[0m\u001b[0;31m:\u001b[0m unexpected EOF while parsing\n"
     ]
    }
   ],
   "source": [
    "y_train, X_train = vec_for_learning(# put the model and the train)\n",
    "y_test, X_test = vec_for_learning(# put the model and the train)"
   ]
  },
  {
   "cell_type": "code",
   "execution_count": 57,
   "metadata": {},
   "outputs": [],
   "source": [
    "logreg = LogisticRegression(n_jobs=1, C=1e5)\n",
    "logreg.fit(X_train, y_train)\n",
    "y_pred = logreg.predict(X_test)"
   ]
  },
  {
   "cell_type": "code",
   "execution_count": 58,
   "metadata": {},
   "outputs": [
    {
     "name": "stdout",
     "output_type": "stream",
     "text": [
      "Testing accuracy 0.22556390977443608\n",
      "Testing F1 score: 0.2082000241331327\n"
     ]
    },
    {
     "name": "stderr",
     "output_type": "stream",
     "text": [
      "/anaconda3/lib/python3.6/site-packages/sklearn/metrics/classification.py:1135: UndefinedMetricWarning: F-score is ill-defined and being set to 0.0 in labels with no predicted samples.\n",
      "  'precision', 'predicted', average, warn_for)\n"
     ]
    }
   ],
   "source": [
    "from sklearn.metrics import accuracy_score, f1_score\n",
    "\n",
    "print('Testing accuracy %s' % accuracy_score(y_test, y_pred))\n",
    "print('Testing F1 score: {}'.format(f1_score(y_test, y_pred, average='weighted')))"
   ]
  }
 ],
 "metadata": {
  "kernelspec": {
   "display_name": "Python 3",
   "language": "python",
   "name": "python3"
  },
  "language_info": {
   "codemirror_mode": {
    "name": "ipython",
    "version": 3
   },
   "file_extension": ".py",
   "mimetype": "text/x-python",
   "name": "python",
   "nbconvert_exporter": "python",
   "pygments_lexer": "ipython3",
   "version": "3.7.6"
  },
  "toc": {
   "base_numbering": 1,
   "nav_menu": {},
   "number_sections": true,
   "sideBar": true,
   "skip_h1_title": false,
   "title_cell": "Table of Contents",
   "title_sidebar": "Contents",
   "toc_cell": false,
   "toc_position": {},
   "toc_section_display": true,
   "toc_window_display": false
  }
 },
 "nbformat": 4,
 "nbformat_minor": 4
}
