{
 "cells": [
  {
   "cell_type": "code",
   "execution_count": 89,
   "metadata": {},
   "outputs": [],
   "source": [
    "import pandas as pd\n",
    "import numpy as np\n",
    "import os\n",
    "\n",
    "import matplotlib\n",
    "%matplotlib inline\n",
    "import matplotlib.pyplot as plt\n",
    "import seaborn as sns"
   ]
  },
  {
   "cell_type": "code",
   "execution_count": 90,
   "metadata": {},
   "outputs": [
    {
     "name": "stdout",
     "output_type": "stream",
     "text": [
      "/Users/patrickrs/Documents/Gitlab/patrick-steiner/Exercises\n"
     ]
    }
   ],
   "source": [
    "print(os.getcwd())"
   ]
  },
  {
   "cell_type": "code",
   "execution_count": 91,
   "metadata": {},
   "outputs": [],
   "source": [
    "os.chdir('/Users/patrickrs/Documents/Gitlab/patrick-steiner/Exercises')"
   ]
  },
  {
   "cell_type": "code",
   "execution_count": 92,
   "metadata": {},
   "outputs": [],
   "source": [
    "df = pd.read_csv(\"data/snb-data-zimoma-en-all-20170502_1430.csv\")"
   ]
  },
  {
   "cell_type": "code",
   "execution_count": 93,
   "metadata": {},
   "outputs": [
    {
     "data": {
      "text/html": [
       "<div>\n",
       "<style scoped>\n",
       "    .dataframe tbody tr th:only-of-type {\n",
       "        vertical-align: middle;\n",
       "    }\n",
       "\n",
       "    .dataframe tbody tr th {\n",
       "        vertical-align: top;\n",
       "    }\n",
       "\n",
       "    .dataframe thead th {\n",
       "        text-align: right;\n",
       "    }\n",
       "</style>\n",
       "<table border=\"1\" class=\"dataframe\">\n",
       "  <thead>\n",
       "    <tr style=\"text-align: right;\">\n",
       "      <th></th>\n",
       "      <th>Date</th>\n",
       "      <th>D0</th>\n",
       "      <th>Value</th>\n",
       "    </tr>\n",
       "  </thead>\n",
       "  <tbody>\n",
       "    <tr>\n",
       "      <th>5979</th>\n",
       "      <td>2017-04</td>\n",
       "      <td>12M</td>\n",
       "      <td>-0.49160</td>\n",
       "    </tr>\n",
       "    <tr>\n",
       "      <th>5980</th>\n",
       "      <td>2017-04</td>\n",
       "      <td>3M1</td>\n",
       "      <td>1.17233</td>\n",
       "    </tr>\n",
       "    <tr>\n",
       "      <th>5981</th>\n",
       "      <td>2017-04</td>\n",
       "      <td>3M2</td>\n",
       "      <td>0.00243</td>\n",
       "    </tr>\n",
       "    <tr>\n",
       "      <th>5982</th>\n",
       "      <td>2017-04</td>\n",
       "      <td>3M3</td>\n",
       "      <td>0.32525</td>\n",
       "    </tr>\n",
       "    <tr>\n",
       "      <th>5983</th>\n",
       "      <td>2017-04</td>\n",
       "      <td>3M4</td>\n",
       "      <td>-0.36286</td>\n",
       "    </tr>\n",
       "  </tbody>\n",
       "</table>\n",
       "</div>"
      ],
      "text/plain": [
       "         Date   D0    Value\n",
       "5979  2017-04  12M -0.49160\n",
       "5980  2017-04  3M1  1.17233\n",
       "5981  2017-04  3M2  0.00243\n",
       "5982  2017-04  3M3  0.32525\n",
       "5983  2017-04  3M4 -0.36286"
      ]
     },
     "execution_count": 93,
     "metadata": {},
     "output_type": "execute_result"
    }
   ],
   "source": [
    "df.tail()"
   ]
  },
  {
   "cell_type": "code",
   "execution_count": 94,
   "metadata": {},
   "outputs": [
    {
     "data": {
      "text/plain": [
       "(5984,\n",
       " 544,\n",
       " 11,\n",
       " array(['SARON', '1TGT', 'EG3M', '1M', '3M0', '6M', '12M', '3M1', '3M2',\n",
       "        '3M3', '3M4'], dtype=object))"
      ]
     },
     "execution_count": 94,
     "metadata": {},
     "output_type": "execute_result"
    }
   ],
   "source": [
    "len(df), len(pd.unique(df['Date'])), len(pd.unique(df['D0'])), pd.unique(df['D0'])"
   ]
  },
  {
   "cell_type": "code",
   "execution_count": 95,
   "metadata": {},
   "outputs": [],
   "source": [
    "tgt_df = df[df['D0'] == \"1TGT\"]"
   ]
  },
  {
   "cell_type": "markdown",
   "metadata": {},
   "source": [
    "Further Use the snb-data-zimoma-en-all-20170502_1430.csv file to produce the following:\n",
    "- Line chart of the ‘1TGT’ series"
   ]
  },
  {
   "cell_type": "code",
   "execution_count": 96,
   "metadata": {},
   "outputs": [
    {
     "data": {
      "text/html": [
       "<div>\n",
       "<style scoped>\n",
       "    .dataframe tbody tr th:only-of-type {\n",
       "        vertical-align: middle;\n",
       "    }\n",
       "\n",
       "    .dataframe tbody tr th {\n",
       "        vertical-align: top;\n",
       "    }\n",
       "\n",
       "    .dataframe thead th {\n",
       "        text-align: right;\n",
       "    }\n",
       "</style>\n",
       "<table border=\"1\" class=\"dataframe\">\n",
       "  <thead>\n",
       "    <tr style=\"text-align: right;\">\n",
       "      <th></th>\n",
       "      <th>Date</th>\n",
       "      <th>D0</th>\n",
       "      <th>Value</th>\n",
       "    </tr>\n",
       "  </thead>\n",
       "  <tbody>\n",
       "    <tr>\n",
       "      <th>1</th>\n",
       "      <td>1972-01</td>\n",
       "      <td>1TGT</td>\n",
       "      <td>0.000</td>\n",
       "    </tr>\n",
       "    <tr>\n",
       "      <th>12</th>\n",
       "      <td>1972-02</td>\n",
       "      <td>1TGT</td>\n",
       "      <td>0.000</td>\n",
       "    </tr>\n",
       "    <tr>\n",
       "      <th>23</th>\n",
       "      <td>1972-03</td>\n",
       "      <td>1TGT</td>\n",
       "      <td>0.125</td>\n",
       "    </tr>\n",
       "    <tr>\n",
       "      <th>34</th>\n",
       "      <td>1972-04</td>\n",
       "      <td>1TGT</td>\n",
       "      <td>0.250</td>\n",
       "    </tr>\n",
       "    <tr>\n",
       "      <th>45</th>\n",
       "      <td>1972-05</td>\n",
       "      <td>1TGT</td>\n",
       "      <td>1.500</td>\n",
       "    </tr>\n",
       "  </tbody>\n",
       "</table>\n",
       "</div>"
      ],
      "text/plain": [
       "       Date    D0  Value\n",
       "1   1972-01  1TGT  0.000\n",
       "12  1972-02  1TGT  0.000\n",
       "23  1972-03  1TGT  0.125\n",
       "34  1972-04  1TGT  0.250\n",
       "45  1972-05  1TGT  1.500"
      ]
     },
     "execution_count": 96,
     "metadata": {},
     "output_type": "execute_result"
    }
   ],
   "source": [
    "tgt_df.head()"
   ]
  },
  {
   "cell_type": "code",
   "execution_count": 97,
   "metadata": {},
   "outputs": [
    {
     "data": {
      "image/png": "[encoded data removed]",
      "text/plain": [
       "<Figure size 432x288 with 1 Axes>"
      ]
     },
     "metadata": {
      "needs_background": "light"
     },
     "output_type": "display_data"
    }
   ],
   "source": [
    "# LINE CHART:\n",
    "fig, ax = plt.subplots()\n",
    "ax.plot(tgt_df['Date'],\n",
    "        tgt_df['Value'], \n",
    "        label='1 TGT')\n",
    "ax.legend()\n",
    "None"
   ]
  },
  {
   "cell_type": "markdown",
   "metadata": {},
   "source": [
    "- Box plots of all series (See below for the correct ordering)"
   ]
  },
  {
   "cell_type": "code",
   "execution_count": 98,
   "metadata": {},
   "outputs": [
    {
     "data": {
      "text/html": [
       "<div>\n",
       "<style scoped>\n",
       "    .dataframe tbody tr th:only-of-type {\n",
       "        vertical-align: middle;\n",
       "    }\n",
       "\n",
       "    .dataframe tbody tr th {\n",
       "        vertical-align: top;\n",
       "    }\n",
       "\n",
       "    .dataframe thead th {\n",
       "        text-align: right;\n",
       "    }\n",
       "</style>\n",
       "<table border=\"1\" class=\"dataframe\">\n",
       "  <thead>\n",
       "    <tr style=\"text-align: right;\">\n",
       "      <th></th>\n",
       "      <th></th>\n",
       "      <th>Value</th>\n",
       "    </tr>\n",
       "    <tr>\n",
       "      <th>Date</th>\n",
       "      <th>D0</th>\n",
       "      <th></th>\n",
       "    </tr>\n",
       "  </thead>\n",
       "  <tbody>\n",
       "    <tr>\n",
       "      <th rowspan=\"5\" valign=\"top\">1972-01-01</th>\n",
       "      <th>12M</th>\n",
       "      <td>NaN</td>\n",
       "    </tr>\n",
       "    <tr>\n",
       "      <th>1M</th>\n",
       "      <td>NaN</td>\n",
       "    </tr>\n",
       "    <tr>\n",
       "      <th>1TGT</th>\n",
       "      <td>0.0</td>\n",
       "    </tr>\n",
       "    <tr>\n",
       "      <th>3M0</th>\n",
       "      <td>NaN</td>\n",
       "    </tr>\n",
       "    <tr>\n",
       "      <th>3M1</th>\n",
       "      <td>NaN</td>\n",
       "    </tr>\n",
       "  </tbody>\n",
       "</table>\n",
       "</div>"
      ],
      "text/plain": [
       "                 Value\n",
       "Date       D0         \n",
       "1972-01-01 12M     NaN\n",
       "           1M      NaN\n",
       "           1TGT    0.0\n",
       "           3M0     NaN\n",
       "           3M1     NaN"
      ]
     },
     "execution_count": 98,
     "metadata": {},
     "output_type": "execute_result"
    }
   ],
   "source": [
    "df['Date'] = pd.to_datetime(df['Date'])\n",
    "df.set_index(['Date', 'D0'], inplace=True)\n",
    "df.sort_index(inplace=True)\n",
    "df.head()"
   ]
  },
  {
   "cell_type": "code",
   "execution_count": 111,
   "metadata": {},
   "outputs": [
    {
     "data": {
      "text/html": [
       "<div>\n",
       "<style scoped>\n",
       "    .dataframe tbody tr th:only-of-type {\n",
       "        vertical-align: middle;\n",
       "    }\n",
       "\n",
       "    .dataframe tbody tr th {\n",
       "        vertical-align: top;\n",
       "    }\n",
       "\n",
       "    .dataframe thead th {\n",
       "        text-align: right;\n",
       "    }\n",
       "</style>\n",
       "<table border=\"1\" class=\"dataframe\">\n",
       "  <thead>\n",
       "    <tr style=\"text-align: right;\">\n",
       "      <th>D0</th>\n",
       "      <th>12M</th>\n",
       "      <th>1M</th>\n",
       "      <th>1TGT</th>\n",
       "      <th>3M0</th>\n",
       "      <th>3M1</th>\n",
       "      <th>3M2</th>\n",
       "      <th>3M3</th>\n",
       "      <th>3M4</th>\n",
       "      <th>6M</th>\n",
       "      <th>EG3M</th>\n",
       "      <th>SARON</th>\n",
       "    </tr>\n",
       "    <tr>\n",
       "      <th>Date</th>\n",
       "      <th></th>\n",
       "      <th></th>\n",
       "      <th></th>\n",
       "      <th></th>\n",
       "      <th></th>\n",
       "      <th></th>\n",
       "      <th></th>\n",
       "      <th></th>\n",
       "      <th></th>\n",
       "      <th></th>\n",
       "      <th></th>\n",
       "    </tr>\n",
       "  </thead>\n",
       "  <tbody>\n",
       "    <tr>\n",
       "      <th>1972-01-01</th>\n",
       "      <td>NaN</td>\n",
       "      <td>NaN</td>\n",
       "      <td>0.000</td>\n",
       "      <td>NaN</td>\n",
       "      <td>NaN</td>\n",
       "      <td>NaN</td>\n",
       "      <td>NaN</td>\n",
       "      <td>NaN</td>\n",
       "      <td>NaN</td>\n",
       "      <td>NaN</td>\n",
       "      <td>NaN</td>\n",
       "    </tr>\n",
       "    <tr>\n",
       "      <th>1972-02-01</th>\n",
       "      <td>NaN</td>\n",
       "      <td>NaN</td>\n",
       "      <td>0.000</td>\n",
       "      <td>NaN</td>\n",
       "      <td>NaN</td>\n",
       "      <td>NaN</td>\n",
       "      <td>NaN</td>\n",
       "      <td>NaN</td>\n",
       "      <td>NaN</td>\n",
       "      <td>NaN</td>\n",
       "      <td>NaN</td>\n",
       "    </tr>\n",
       "    <tr>\n",
       "      <th>1972-03-01</th>\n",
       "      <td>NaN</td>\n",
       "      <td>NaN</td>\n",
       "      <td>0.125</td>\n",
       "      <td>NaN</td>\n",
       "      <td>NaN</td>\n",
       "      <td>NaN</td>\n",
       "      <td>NaN</td>\n",
       "      <td>NaN</td>\n",
       "      <td>NaN</td>\n",
       "      <td>NaN</td>\n",
       "      <td>NaN</td>\n",
       "    </tr>\n",
       "    <tr>\n",
       "      <th>1972-04-01</th>\n",
       "      <td>NaN</td>\n",
       "      <td>NaN</td>\n",
       "      <td>0.250</td>\n",
       "      <td>NaN</td>\n",
       "      <td>NaN</td>\n",
       "      <td>NaN</td>\n",
       "      <td>NaN</td>\n",
       "      <td>NaN</td>\n",
       "      <td>NaN</td>\n",
       "      <td>NaN</td>\n",
       "      <td>NaN</td>\n",
       "    </tr>\n",
       "    <tr>\n",
       "      <th>1972-05-01</th>\n",
       "      <td>NaN</td>\n",
       "      <td>NaN</td>\n",
       "      <td>1.500</td>\n",
       "      <td>NaN</td>\n",
       "      <td>NaN</td>\n",
       "      <td>NaN</td>\n",
       "      <td>NaN</td>\n",
       "      <td>NaN</td>\n",
       "      <td>NaN</td>\n",
       "      <td>NaN</td>\n",
       "      <td>NaN</td>\n",
       "    </tr>\n",
       "  </tbody>\n",
       "</table>\n",
       "</div>"
      ],
      "text/plain": [
       "D0          12M  1M   1TGT  3M0  3M1  3M2  3M3  3M4  6M  EG3M  SARON\n",
       "Date                                                                \n",
       "1972-01-01  NaN NaN  0.000  NaN  NaN  NaN  NaN  NaN NaN   NaN    NaN\n",
       "1972-02-01  NaN NaN  0.000  NaN  NaN  NaN  NaN  NaN NaN   NaN    NaN\n",
       "1972-03-01  NaN NaN  0.125  NaN  NaN  NaN  NaN  NaN NaN   NaN    NaN\n",
       "1972-04-01  NaN NaN  0.250  NaN  NaN  NaN  NaN  NaN NaN   NaN    NaN\n",
       "1972-05-01  NaN NaN  1.500  NaN  NaN  NaN  NaN  NaN NaN   NaN    NaN"
      ]
     },
     "execution_count": 111,
     "metadata": {},
     "output_type": "execute_result"
    }
   ],
   "source": [
    "df = df.unstack()['Value']\n",
    "df.head()"
   ]
  },
  {
   "cell_type": "code",
   "execution_count": 100,
   "metadata": {},
   "outputs": [],
   "source": [
    "cols = ['SARON', '1TGT', 'EG3M', '3M0', '3M1', '3M2', '3M3', \n",
    "       '3M4', '1M', '6M', '12M']"
   ]
  },
  {
   "cell_type": "code",
   "execution_count": 106,
   "metadata": {},
   "outputs": [
    {
     "data": {
      "image/png": "[encoded data removed]",
      "text/plain": [
       "<Figure size 432x288 with 1 Axes>"
      ]
     },
     "metadata": {
      "needs_background": "light"
     },
     "output_type": "display_data"
    }
   ],
   "source": [
    "fig = plt.figure()\n",
    "ax = df.boxplot(column = cols)\n",
    "ax.set_title('Yield')\n",
    "ax.axes.set_xticklabels(labels = cols)\n",
    "None"
   ]
  },
  {
   "cell_type": "markdown",
   "metadata": {},
   "source": [
    "- Scatter plot against 3M0 each of the other 3-month rates (EG3M, 3M[1..4])"
   ]
  },
  {
   "cell_type": "code",
   "execution_count": 126,
   "metadata": {},
   "outputs": [
    {
     "data": {
      "text/plain": [
       "<matplotlib.axes._subplots.AxesSubplot at 0x1a257d62d0>"
      ]
     },
     "execution_count": 126,
     "metadata": {},
     "output_type": "execute_result"
    },
    {
     "data": {
      "image/png": "[encoded data removed]",
      "text/plain": [
       "<Figure size 432x288 with 1 Axes>"
      ]
     },
     "metadata": {
      "needs_background": "light"
     },
     "output_type": "display_data"
    },
    {
     "data": {
      "image/png": "[encoded data removed]",
      "text/plain": [
       "<Figure size 432x288 with 1 Axes>"
      ]
     },
     "metadata": {
      "needs_background": "light"
     },
     "output_type": "display_data"
    },
    {
     "data": {
      "image/png": "[encoded data removed]",
      "text/plain": [
       "<Figure size 432x288 with 1 Axes>"
      ]
     },
     "metadata": {
      "needs_background": "light"
     },
     "output_type": "display_data"
    },
    {
     "data": {
      "image/png": "[encoded data removed]",
      "text/plain": [
       "<Figure size 432x288 with 1 Axes>"
      ]
     },
     "metadata": {
      "needs_background": "light"
     },
     "output_type": "display_data"
    }
   ],
   "source": [
    "\n",
    "df.plot.scatter(x='3M0',  \n",
    "                y='3M1', \n",
    "                label='3M0 vs 3M1 yield')\n",
    "df.plot.scatter(x='3M0',  \n",
    "                y='3M2', \n",
    "                label='3M0 vs 3M2 yield')\n",
    "df.plot.scatter(x='3M0',  \n",
    "                y='3M3', \n",
    "                label='3M0 vs 3M3 yield')\n",
    "df.plot.scatter(x='3M0',  \n",
    "                y='3M4', \n",
    "                label='3M0 vs 3M4 yield')"
   ]
  },
  {
   "cell_type": "markdown",
   "metadata": {},
   "source": [
    "- Bar plot of avg 1TGT rates per year"
   ]
  },
  {
   "cell_type": "code",
   "execution_count": 132,
   "metadata": {},
   "outputs": [
    {
     "data": {
      "text/plain": [
       "<matplotlib.axes._subplots.AxesSubplot at 0x1a261a09d0>"
      ]
     },
     "execution_count": 132,
     "metadata": {},
     "output_type": "execute_result"
    },
    {
     "data": {
      "image/png": "[encoded data removed]",
      "text/plain": [
       "<Figure size 432x288 with 1 Axes>"
      ]
     },
     "metadata": {
      "needs_background": "light"
     },
     "output_type": "display_data"
    }
   ],
   "source": [
    "df['year'] = [x.year for x in df.index]\n",
    "df.groupby('year')['1TGT'].mean().plot.bar()"
   ]
  },
  {
   "cell_type": "markdown",
   "metadata": {},
   "source": [
    "- Heatmap of money-market rates"
   ]
  },
  {
   "cell_type": "code",
   "execution_count": 189,
   "metadata": {},
   "outputs": [
    {
     "data": {
      "image/png": "[encoded data removed]",
      "text/plain": [
       "<Figure size 432x288 with 2 Axes>"
      ]
     },
     "metadata": {
      "needs_background": "light"
     },
     "output_type": "display_data"
    }
   ],
   "source": [
    "year = [x.year for x in df.index]\n",
    "#df.drop('year', axis = 1, inplace = True)\n",
    "ax = sns.heatmap(df.dropna(),\n",
    "                 yticklabels = np.unique(np.array(pd.DataFrame([x.year for x in df.dropna().index]))),\n",
    "                 center=df.stack().mean(), \n",
    "                 cmap='RdBu_r'\n",
    "                )"
   ]
  },
  {
   "cell_type": "markdown",
   "metadata": {},
   "source": [
    "- Scatter plot with regression lines of 3M0 against each of the other 3-month rates (EG3M, 3M[1..4])"
   ]
  },
  {
   "cell_type": "code",
   "execution_count": 190,
   "metadata": {},
   "outputs": [
    {
     "data": {
      "image/png": "[encoded data removed]",
      "text/plain": [
       "<Figure size 432x288 with 1 Axes>"
      ]
     },
     "metadata": {
      "needs_background": "light"
     },
     "output_type": "display_data"
    }
   ],
   "source": [
    "ax = sns.regplot(x='3M0', y='3M1', data=df)"
   ]
  },
  {
   "cell_type": "code",
   "execution_count": null,
   "metadata": {},
   "outputs": [],
   "source": []
  },
  {
   "cell_type": "code",
   "execution_count": null,
   "metadata": {},
   "outputs": [],
   "source": []
  },
  {
   "cell_type": "code",
   "execution_count": null,
   "metadata": {},
   "outputs": [],
   "source": []
  },
  {
   "cell_type": "code",
   "execution_count": 181,
   "metadata": {},
   "outputs": [
    {
     "data": {
      "text/html": [
       "<div>\n",
       "<style scoped>\n",
       "    .dataframe tbody tr th:only-of-type {\n",
       "        vertical-align: middle;\n",
       "    }\n",
       "\n",
       "    .dataframe tbody tr th {\n",
       "        vertical-align: top;\n",
       "    }\n",
       "\n",
       "    .dataframe thead th {\n",
       "        text-align: right;\n",
       "    }\n",
       "</style>\n",
       "<table border=\"1\" class=\"dataframe\">\n",
       "  <thead>\n",
       "    <tr style=\"text-align: right;\">\n",
       "      <th>D0</th>\n",
       "      <th>12M</th>\n",
       "      <th>1M</th>\n",
       "      <th>1TGT</th>\n",
       "      <th>3M0</th>\n",
       "      <th>3M1</th>\n",
       "      <th>3M2</th>\n",
       "      <th>3M3</th>\n",
       "      <th>3M4</th>\n",
       "      <th>6M</th>\n",
       "      <th>EG3M</th>\n",
       "      <th>SARON</th>\n",
       "    </tr>\n",
       "    <tr>\n",
       "      <th>Date</th>\n",
       "      <th></th>\n",
       "      <th></th>\n",
       "      <th></th>\n",
       "      <th></th>\n",
       "      <th></th>\n",
       "      <th></th>\n",
       "      <th></th>\n",
       "      <th></th>\n",
       "      <th></th>\n",
       "      <th></th>\n",
       "      <th></th>\n",
       "    </tr>\n",
       "  </thead>\n",
       "  <tbody>\n",
       "    <tr>\n",
       "      <th>2014-11-01</th>\n",
       "      <td>0.1504</td>\n",
       "      <td>-0.0030</td>\n",
       "      <td>-0.10</td>\n",
       "      <td>0.0010</td>\n",
       "      <td>0.23360</td>\n",
       "      <td>0.10643</td>\n",
       "      <td>0.55275</td>\n",
       "      <td>0.06214</td>\n",
       "      <td>0.0504</td>\n",
       "      <td>-0.158</td>\n",
       "      <td>-0.015032</td>\n",
       "    </tr>\n",
       "    <tr>\n",
       "      <th>2014-12-01</th>\n",
       "      <td>0.0344</td>\n",
       "      <td>-0.0380</td>\n",
       "      <td>-2.00</td>\n",
       "      <td>-0.0630</td>\n",
       "      <td>0.25560</td>\n",
       "      <td>0.11214</td>\n",
       "      <td>0.56400</td>\n",
       "      <td>0.05857</td>\n",
       "      <td>-0.0256</td>\n",
       "      <td>-0.356</td>\n",
       "      <td>0.003368</td>\n",
       "    </tr>\n",
       "    <tr>\n",
       "      <th>2015-01-01</th>\n",
       "      <td>-0.6296</td>\n",
       "      <td>-0.9040</td>\n",
       "      <td>-1.75</td>\n",
       "      <td>-0.8540</td>\n",
       "      <td>0.25310</td>\n",
       "      <td>0.10429</td>\n",
       "      <td>0.56338</td>\n",
       "      <td>0.03214</td>\n",
       "      <td>-0.7576</td>\n",
       "      <td>-1.101</td>\n",
       "      <td>-0.691529</td>\n",
       "    </tr>\n",
       "    <tr>\n",
       "      <th>2015-02-01</th>\n",
       "      <td>-0.6216</td>\n",
       "      <td>-0.8730</td>\n",
       "      <td>-1.00</td>\n",
       "      <td>-0.8500</td>\n",
       "      <td>0.26185</td>\n",
       "      <td>0.09571</td>\n",
       "      <td>0.56369</td>\n",
       "      <td>0.02500</td>\n",
       "      <td>-0.7316</td>\n",
       "      <td>-1.101</td>\n",
       "      <td>-0.727999</td>\n",
       "    </tr>\n",
       "    <tr>\n",
       "      <th>2015-03-01</th>\n",
       "      <td>-0.6076</td>\n",
       "      <td>-0.8510</td>\n",
       "      <td>-1.50</td>\n",
       "      <td>-0.8140</td>\n",
       "      <td>0.27075</td>\n",
       "      <td>0.10071</td>\n",
       "      <td>0.56963</td>\n",
       "      <td>0.01786</td>\n",
       "      <td>-0.7246</td>\n",
       "      <td>-1.042</td>\n",
       "      <td>-0.746801</td>\n",
       "    </tr>\n",
       "    <tr>\n",
       "      <th>2015-04-01</th>\n",
       "      <td>-0.5846</td>\n",
       "      <td>-0.8150</td>\n",
       "      <td>-1.00</td>\n",
       "      <td>-0.7940</td>\n",
       "      <td>0.27875</td>\n",
       "      <td>0.09429</td>\n",
       "      <td>0.56875</td>\n",
       "      <td>-0.00786</td>\n",
       "      <td>-0.7096</td>\n",
       "      <td>-1.152</td>\n",
       "      <td>-0.724533</td>\n",
       "    </tr>\n",
       "    <tr>\n",
       "      <th>2015-05-01</th>\n",
       "      <td>-0.5946</td>\n",
       "      <td>-0.8210</td>\n",
       "      <td>-1.25</td>\n",
       "      <td>-0.7880</td>\n",
       "      <td>0.28375</td>\n",
       "      <td>0.09643</td>\n",
       "      <td>0.56719</td>\n",
       "      <td>-0.01571</td>\n",
       "      <td>-0.7076</td>\n",
       "      <td>-1.101</td>\n",
       "      <td>-0.727510</td>\n",
       "    </tr>\n",
       "    <tr>\n",
       "      <th>2015-06-01</th>\n",
       "      <td>-0.6470</td>\n",
       "      <td>-0.8320</td>\n",
       "      <td>-1.15</td>\n",
       "      <td>-0.7890</td>\n",
       "      <td>0.28320</td>\n",
       "      <td>0.09929</td>\n",
       "      <td>0.57850</td>\n",
       "      <td>-0.01214</td>\n",
       "      <td>-0.7330</td>\n",
       "      <td>-1.050</td>\n",
       "      <td>-0.727756</td>\n",
       "    </tr>\n",
       "    <tr>\n",
       "      <th>2015-07-01</th>\n",
       "      <td>-0.5850</td>\n",
       "      <td>-0.7870</td>\n",
       "      <td>-1.00</td>\n",
       "      <td>-0.7390</td>\n",
       "      <td>0.30860</td>\n",
       "      <td>0.09643</td>\n",
       "      <td>0.58156</td>\n",
       "      <td>-0.01714</td>\n",
       "      <td>-0.6910</td>\n",
       "      <td>-0.908</td>\n",
       "      <td>-0.746471</td>\n",
       "    </tr>\n",
       "    <tr>\n",
       "      <th>2015-08-01</th>\n",
       "      <td>-0.5610</td>\n",
       "      <td>-0.7810</td>\n",
       "      <td>-1.25</td>\n",
       "      <td>-0.7240</td>\n",
       "      <td>0.32900</td>\n",
       "      <td>0.08929</td>\n",
       "      <td>0.58688</td>\n",
       "      <td>-0.03000</td>\n",
       "      <td>-0.6760</td>\n",
       "      <td>-0.908</td>\n",
       "      <td>-0.724646</td>\n",
       "    </tr>\n",
       "    <tr>\n",
       "      <th>2015-09-01</th>\n",
       "      <td>-0.5600</td>\n",
       "      <td>-0.7920</td>\n",
       "      <td>-1.00</td>\n",
       "      <td>-0.7330</td>\n",
       "      <td>0.32500</td>\n",
       "      <td>0.08443</td>\n",
       "      <td>0.58313</td>\n",
       "      <td>-0.04071</td>\n",
       "      <td>-0.6730</td>\n",
       "      <td>-0.841</td>\n",
       "      <td>-0.723010</td>\n",
       "    </tr>\n",
       "    <tr>\n",
       "      <th>2015-10-01</th>\n",
       "      <td>-0.6010</td>\n",
       "      <td>-0.7740</td>\n",
       "      <td>-0.90</td>\n",
       "      <td>-0.7320</td>\n",
       "      <td>0.33410</td>\n",
       "      <td>0.08143</td>\n",
       "      <td>0.58000</td>\n",
       "      <td>-0.07429</td>\n",
       "      <td>-0.6930</td>\n",
       "      <td>-0.951</td>\n",
       "      <td>-0.729191</td>\n",
       "    </tr>\n",
       "    <tr>\n",
       "      <th>2015-11-01</th>\n",
       "      <td>-0.7160</td>\n",
       "      <td>-0.8480</td>\n",
       "      <td>-1.10</td>\n",
       "      <td>-0.8320</td>\n",
       "      <td>0.41620</td>\n",
       "      <td>0.07357</td>\n",
       "      <td>0.57075</td>\n",
       "      <td>-0.11714</td>\n",
       "      <td>-0.7976</td>\n",
       "      <td>-1.270</td>\n",
       "      <td>-0.727152</td>\n",
       "    </tr>\n",
       "    <tr>\n",
       "      <th>2015-12-01</th>\n",
       "      <td>-0.5916</td>\n",
       "      <td>-0.7980</td>\n",
       "      <td>-1.00</td>\n",
       "      <td>-0.7560</td>\n",
       "      <td>0.61270</td>\n",
       "      <td>0.08286</td>\n",
       "      <td>0.59038</td>\n",
       "      <td>-0.12786</td>\n",
       "      <td>-0.6896</td>\n",
       "      <td>-0.924</td>\n",
       "      <td>-0.720554</td>\n",
       "    </tr>\n",
       "    <tr>\n",
       "      <th>2016-01-01</th>\n",
       "      <td>-0.6232</td>\n",
       "      <td>-0.7890</td>\n",
       "      <td>-1.00</td>\n",
       "      <td>-0.7570</td>\n",
       "      <td>0.61260</td>\n",
       "      <td>0.04771</td>\n",
       "      <td>0.58938</td>\n",
       "      <td>-0.18071</td>\n",
       "      <td>-0.6934</td>\n",
       "      <td>-0.841</td>\n",
       "      <td>-0.724797</td>\n",
       "    </tr>\n",
       "    <tr>\n",
       "      <th>2016-02-01</th>\n",
       "      <td>-0.6854</td>\n",
       "      <td>-0.8332</td>\n",
       "      <td>-0.85</td>\n",
       "      <td>-0.8046</td>\n",
       "      <td>0.63310</td>\n",
       "      <td>-0.00714</td>\n",
       "      <td>0.59125</td>\n",
       "      <td>-0.22286</td>\n",
       "      <td>-0.7648</td>\n",
       "      <td>-0.892</td>\n",
       "      <td>-0.735755</td>\n",
       "    </tr>\n",
       "    <tr>\n",
       "      <th>2016-03-01</th>\n",
       "      <td>-0.5442</td>\n",
       "      <td>-0.7826</td>\n",
       "      <td>-1.10</td>\n",
       "      <td>-0.7292</td>\n",
       "      <td>0.62860</td>\n",
       "      <td>-0.00429</td>\n",
       "      <td>0.58813</td>\n",
       "      <td>-0.24900</td>\n",
       "      <td>-0.6580</td>\n",
       "      <td>-0.849</td>\n",
       "      <td>-0.740135</td>\n",
       "    </tr>\n",
       "    <tr>\n",
       "      <th>2016-04-01</th>\n",
       "      <td>-0.5212</td>\n",
       "      <td>-0.7790</td>\n",
       "      <td>-1.00</td>\n",
       "      <td>-0.7294</td>\n",
       "      <td>0.63660</td>\n",
       "      <td>-0.02257</td>\n",
       "      <td>0.59056</td>\n",
       "      <td>-0.27171</td>\n",
       "      <td>-0.6460</td>\n",
       "      <td>-0.924</td>\n",
       "      <td>-0.727419</td>\n",
       "    </tr>\n",
       "    <tr>\n",
       "      <th>2016-05-01</th>\n",
       "      <td>-0.5158</td>\n",
       "      <td>-0.7746</td>\n",
       "      <td>-1.25</td>\n",
       "      <td>-0.7352</td>\n",
       "      <td>0.68580</td>\n",
       "      <td>-0.02243</td>\n",
       "      <td>0.58819</td>\n",
       "      <td>-0.28186</td>\n",
       "      <td>-0.6420</td>\n",
       "      <td>-0.951</td>\n",
       "      <td>-0.737316</td>\n",
       "    </tr>\n",
       "    <tr>\n",
       "      <th>2016-06-01</th>\n",
       "      <td>-0.5840</td>\n",
       "      <td>-0.8286</td>\n",
       "      <td>-1.75</td>\n",
       "      <td>-0.7798</td>\n",
       "      <td>0.65410</td>\n",
       "      <td>-0.02243</td>\n",
       "      <td>0.55838</td>\n",
       "      <td>-0.29486</td>\n",
       "      <td>-0.7016</td>\n",
       "      <td>-1.101</td>\n",
       "      <td>-0.786406</td>\n",
       "    </tr>\n",
       "    <tr>\n",
       "      <th>2016-07-01</th>\n",
       "      <td>-0.5144</td>\n",
       "      <td>-0.7976</td>\n",
       "      <td>-1.00</td>\n",
       "      <td>-0.7476</td>\n",
       "      <td>0.75910</td>\n",
       "      <td>-0.00771</td>\n",
       "      <td>0.49388</td>\n",
       "      <td>-0.30214</td>\n",
       "      <td>-0.6630</td>\n",
       "      <td>-1.101</td>\n",
       "      <td>-0.749622</td>\n",
       "    </tr>\n",
       "    <tr>\n",
       "      <th>2016-08-01</th>\n",
       "      <td>-0.4900</td>\n",
       "      <td>-0.8108</td>\n",
       "      <td>-3.65</td>\n",
       "      <td>-0.7364</td>\n",
       "      <td>0.83933</td>\n",
       "      <td>-0.02829</td>\n",
       "      <td>0.38750</td>\n",
       "      <td>-0.32257</td>\n",
       "      <td>-0.6528</td>\n",
       "      <td>-1.120</td>\n",
       "      <td>-0.733783</td>\n",
       "    </tr>\n",
       "    <tr>\n",
       "      <th>2016-09-01</th>\n",
       "      <td>-0.5016</td>\n",
       "      <td>-0.8020</td>\n",
       "      <td>-0.95</td>\n",
       "      <td>-0.7500</td>\n",
       "      <td>0.85367</td>\n",
       "      <td>-0.02593</td>\n",
       "      <td>0.38275</td>\n",
       "      <td>-0.32200</td>\n",
       "      <td>-0.6574</td>\n",
       "      <td>-1.050</td>\n",
       "      <td>-0.746159</td>\n",
       "    </tr>\n",
       "    <tr>\n",
       "      <th>2016-10-01</th>\n",
       "      <td>-0.4880</td>\n",
       "      <td>-0.7854</td>\n",
       "      <td>-0.85</td>\n",
       "      <td>-0.7300</td>\n",
       "      <td>0.88428</td>\n",
       "      <td>-0.02586</td>\n",
       "      <td>0.40375</td>\n",
       "      <td>-0.32071</td>\n",
       "      <td>-0.6436</td>\n",
       "      <td>-1.116</td>\n",
       "      <td>-0.727582</td>\n",
       "    </tr>\n",
       "    <tr>\n",
       "      <th>2016-11-01</th>\n",
       "      <td>-0.5122</td>\n",
       "      <td>-0.8178</td>\n",
       "      <td>-0.90</td>\n",
       "      <td>-0.7490</td>\n",
       "      <td>0.93417</td>\n",
       "      <td>-0.06743</td>\n",
       "      <td>0.38463</td>\n",
       "      <td>-0.32500</td>\n",
       "      <td>-0.6800</td>\n",
       "      <td>-1.050</td>\n",
       "      <td>-0.726656</td>\n",
       "    </tr>\n",
       "    <tr>\n",
       "      <th>2016-12-01</th>\n",
       "      <td>-0.4990</td>\n",
       "      <td>-0.7990</td>\n",
       "      <td>-0.90</td>\n",
       "      <td>-0.7292</td>\n",
       "      <td>0.99789</td>\n",
       "      <td>-0.04657</td>\n",
       "      <td>0.36663</td>\n",
       "      <td>-0.33643</td>\n",
       "      <td>-0.6626</td>\n",
       "      <td>-0.912</td>\n",
       "      <td>-0.728531</td>\n",
       "    </tr>\n",
       "    <tr>\n",
       "      <th>2017-01-01</th>\n",
       "      <td>-0.5086</td>\n",
       "      <td>-0.7884</td>\n",
       "      <td>-0.90</td>\n",
       "      <td>-0.7286</td>\n",
       "      <td>1.03456</td>\n",
       "      <td>-0.00957</td>\n",
       "      <td>0.35588</td>\n",
       "      <td>-0.34357</td>\n",
       "      <td>-0.6642</td>\n",
       "      <td>-0.880</td>\n",
       "      <td>-0.737887</td>\n",
       "    </tr>\n",
       "    <tr>\n",
       "      <th>2017-02-01</th>\n",
       "      <td>-0.5228</td>\n",
       "      <td>-0.8008</td>\n",
       "      <td>-0.95</td>\n",
       "      <td>-0.7262</td>\n",
       "      <td>1.06400</td>\n",
       "      <td>-0.01043</td>\n",
       "      <td>0.35650</td>\n",
       "      <td>-0.35286</td>\n",
       "      <td>-0.6764</td>\n",
       "      <td>-0.892</td>\n",
       "      <td>-0.728683</td>\n",
       "    </tr>\n",
       "    <tr>\n",
       "      <th>2017-03-01</th>\n",
       "      <td>-0.4946</td>\n",
       "      <td>-0.7792</td>\n",
       "      <td>-0.95</td>\n",
       "      <td>-0.7296</td>\n",
       "      <td>1.14956</td>\n",
       "      <td>0.02593</td>\n",
       "      <td>0.33744</td>\n",
       "      <td>-0.35786</td>\n",
       "      <td>-0.6638</td>\n",
       "      <td>-0.912</td>\n",
       "      <td>-0.736851</td>\n",
       "    </tr>\n",
       "    <tr>\n",
       "      <th>2017-04-01</th>\n",
       "      <td>-0.4916</td>\n",
       "      <td>-0.7918</td>\n",
       "      <td>-0.90</td>\n",
       "      <td>-0.7300</td>\n",
       "      <td>1.17233</td>\n",
       "      <td>0.00243</td>\n",
       "      <td>0.32525</td>\n",
       "      <td>-0.36286</td>\n",
       "      <td>-0.6648</td>\n",
       "      <td>-0.943</td>\n",
       "      <td>-0.730912</td>\n",
       "    </tr>\n",
       "  </tbody>\n",
       "</table>\n",
       "</div>"
      ],
      "text/plain": [
       "D0             12M      1M  1TGT     3M0      3M1      3M2      3M3      3M4  \\\n",
       "Date                                                                           \n",
       "2014-11-01  0.1504 -0.0030 -0.10  0.0010  0.23360  0.10643  0.55275  0.06214   \n",
       "2014-12-01  0.0344 -0.0380 -2.00 -0.0630  0.25560  0.11214  0.56400  0.05857   \n",
       "2015-01-01 -0.6296 -0.9040 -1.75 -0.8540  0.25310  0.10429  0.56338  0.03214   \n",
       "2015-02-01 -0.6216 -0.8730 -1.00 -0.8500  0.26185  0.09571  0.56369  0.02500   \n",
       "2015-03-01 -0.6076 -0.8510 -1.50 -0.8140  0.27075  0.10071  0.56963  0.01786   \n",
       "2015-04-01 -0.5846 -0.8150 -1.00 -0.7940  0.27875  0.09429  0.56875 -0.00786   \n",
       "2015-05-01 -0.5946 -0.8210 -1.25 -0.7880  0.28375  0.09643  0.56719 -0.01571   \n",
       "2015-06-01 -0.6470 -0.8320 -1.15 -0.7890  0.28320  0.09929  0.57850 -0.01214   \n",
       "2015-07-01 -0.5850 -0.7870 -1.00 -0.7390  0.30860  0.09643  0.58156 -0.01714   \n",
       "2015-08-01 -0.5610 -0.7810 -1.25 -0.7240  0.32900  0.08929  0.58688 -0.03000   \n",
       "2015-09-01 -0.5600 -0.7920 -1.00 -0.7330  0.32500  0.08443  0.58313 -0.04071   \n",
       "2015-10-01 -0.6010 -0.7740 -0.90 -0.7320  0.33410  0.08143  0.58000 -0.07429   \n",
       "2015-11-01 -0.7160 -0.8480 -1.10 -0.8320  0.41620  0.07357  0.57075 -0.11714   \n",
       "2015-12-01 -0.5916 -0.7980 -1.00 -0.7560  0.61270  0.08286  0.59038 -0.12786   \n",
       "2016-01-01 -0.6232 -0.7890 -1.00 -0.7570  0.61260  0.04771  0.58938 -0.18071   \n",
       "2016-02-01 -0.6854 -0.8332 -0.85 -0.8046  0.63310 -0.00714  0.59125 -0.22286   \n",
       "2016-03-01 -0.5442 -0.7826 -1.10 -0.7292  0.62860 -0.00429  0.58813 -0.24900   \n",
       "2016-04-01 -0.5212 -0.7790 -1.00 -0.7294  0.63660 -0.02257  0.59056 -0.27171   \n",
       "2016-05-01 -0.5158 -0.7746 -1.25 -0.7352  0.68580 -0.02243  0.58819 -0.28186   \n",
       "2016-06-01 -0.5840 -0.8286 -1.75 -0.7798  0.65410 -0.02243  0.55838 -0.29486   \n",
       "2016-07-01 -0.5144 -0.7976 -1.00 -0.7476  0.75910 -0.00771  0.49388 -0.30214   \n",
       "2016-08-01 -0.4900 -0.8108 -3.65 -0.7364  0.83933 -0.02829  0.38750 -0.32257   \n",
       "2016-09-01 -0.5016 -0.8020 -0.95 -0.7500  0.85367 -0.02593  0.38275 -0.32200   \n",
       "2016-10-01 -0.4880 -0.7854 -0.85 -0.7300  0.88428 -0.02586  0.40375 -0.32071   \n",
       "2016-11-01 -0.5122 -0.8178 -0.90 -0.7490  0.93417 -0.06743  0.38463 -0.32500   \n",
       "2016-12-01 -0.4990 -0.7990 -0.90 -0.7292  0.99789 -0.04657  0.36663 -0.33643   \n",
       "2017-01-01 -0.5086 -0.7884 -0.90 -0.7286  1.03456 -0.00957  0.35588 -0.34357   \n",
       "2017-02-01 -0.5228 -0.8008 -0.95 -0.7262  1.06400 -0.01043  0.35650 -0.35286   \n",
       "2017-03-01 -0.4946 -0.7792 -0.95 -0.7296  1.14956  0.02593  0.33744 -0.35786   \n",
       "2017-04-01 -0.4916 -0.7918 -0.90 -0.7300  1.17233  0.00243  0.32525 -0.36286   \n",
       "\n",
       "D0              6M   EG3M     SARON  \n",
       "Date                                 \n",
       "2014-11-01  0.0504 -0.158 -0.015032  \n",
       "2014-12-01 -0.0256 -0.356  0.003368  \n",
       "2015-01-01 -0.7576 -1.101 -0.691529  \n",
       "2015-02-01 -0.7316 -1.101 -0.727999  \n",
       "2015-03-01 -0.7246 -1.042 -0.746801  \n",
       "2015-04-01 -0.7096 -1.152 -0.724533  \n",
       "2015-05-01 -0.7076 -1.101 -0.727510  \n",
       "2015-06-01 -0.7330 -1.050 -0.727756  \n",
       "2015-07-01 -0.6910 -0.908 -0.746471  \n",
       "2015-08-01 -0.6760 -0.908 -0.724646  \n",
       "2015-09-01 -0.6730 -0.841 -0.723010  \n",
       "2015-10-01 -0.6930 -0.951 -0.729191  \n",
       "2015-11-01 -0.7976 -1.270 -0.727152  \n",
       "2015-12-01 -0.6896 -0.924 -0.720554  \n",
       "2016-01-01 -0.6934 -0.841 -0.724797  \n",
       "2016-02-01 -0.7648 -0.892 -0.735755  \n",
       "2016-03-01 -0.6580 -0.849 -0.740135  \n",
       "2016-04-01 -0.6460 -0.924 -0.727419  \n",
       "2016-05-01 -0.6420 -0.951 -0.737316  \n",
       "2016-06-01 -0.7016 -1.101 -0.786406  \n",
       "2016-07-01 -0.6630 -1.101 -0.749622  \n",
       "2016-08-01 -0.6528 -1.120 -0.733783  \n",
       "2016-09-01 -0.6574 -1.050 -0.746159  \n",
       "2016-10-01 -0.6436 -1.116 -0.727582  \n",
       "2016-11-01 -0.6800 -1.050 -0.726656  \n",
       "2016-12-01 -0.6626 -0.912 -0.728531  \n",
       "2017-01-01 -0.6642 -0.880 -0.737887  \n",
       "2017-02-01 -0.6764 -0.892 -0.728683  \n",
       "2017-03-01 -0.6638 -0.912 -0.736851  \n",
       "2017-04-01 -0.6648 -0.943 -0.730912  "
      ]
     },
     "execution_count": 181,
     "metadata": {},
     "output_type": "execute_result"
    }
   ],
   "source": [
    "df.tail(30)"
   ]
  },
  {
   "cell_type": "code",
   "execution_count": 175,
   "metadata": {},
   "outputs": [
    {
     "data": {
      "text/html": [
       "<div>\n",
       "<style scoped>\n",
       "    .dataframe tbody tr th:only-of-type {\n",
       "        vertical-align: middle;\n",
       "    }\n",
       "\n",
       "    .dataframe tbody tr th {\n",
       "        vertical-align: top;\n",
       "    }\n",
       "\n",
       "    .dataframe thead th {\n",
       "        text-align: right;\n",
       "    }\n",
       "</style>\n",
       "<table border=\"1\" class=\"dataframe\">\n",
       "  <thead>\n",
       "    <tr style=\"text-align: right;\">\n",
       "      <th>D0</th>\n",
       "      <th>12M</th>\n",
       "      <th>1M</th>\n",
       "      <th>1TGT</th>\n",
       "      <th>3M0</th>\n",
       "      <th>3M1</th>\n",
       "      <th>3M2</th>\n",
       "      <th>3M3</th>\n",
       "      <th>3M4</th>\n",
       "      <th>6M</th>\n",
       "      <th>EG3M</th>\n",
       "      <th>SARON</th>\n",
       "    </tr>\n",
       "    <tr>\n",
       "      <th>Date</th>\n",
       "      <th></th>\n",
       "      <th></th>\n",
       "      <th></th>\n",
       "      <th></th>\n",
       "      <th></th>\n",
       "      <th></th>\n",
       "      <th></th>\n",
       "      <th></th>\n",
       "      <th></th>\n",
       "      <th></th>\n",
       "      <th></th>\n",
       "    </tr>\n",
       "  </thead>\n",
       "  <tbody>\n",
       "    <tr>\n",
       "      <th>2016-12-01</th>\n",
       "      <td>-0.4990</td>\n",
       "      <td>-0.7990</td>\n",
       "      <td>-0.90</td>\n",
       "      <td>-0.7292</td>\n",
       "      <td>0.99789</td>\n",
       "      <td>-0.04657</td>\n",
       "      <td>0.36663</td>\n",
       "      <td>-0.33643</td>\n",
       "      <td>-0.6626</td>\n",
       "      <td>-0.912</td>\n",
       "      <td>-0.728531</td>\n",
       "    </tr>\n",
       "    <tr>\n",
       "      <th>2017-01-01</th>\n",
       "      <td>-0.5086</td>\n",
       "      <td>-0.7884</td>\n",
       "      <td>-0.90</td>\n",
       "      <td>-0.7286</td>\n",
       "      <td>1.03456</td>\n",
       "      <td>-0.00957</td>\n",
       "      <td>0.35588</td>\n",
       "      <td>-0.34357</td>\n",
       "      <td>-0.6642</td>\n",
       "      <td>-0.880</td>\n",
       "      <td>-0.737887</td>\n",
       "    </tr>\n",
       "    <tr>\n",
       "      <th>2017-02-01</th>\n",
       "      <td>-0.5228</td>\n",
       "      <td>-0.8008</td>\n",
       "      <td>-0.95</td>\n",
       "      <td>-0.7262</td>\n",
       "      <td>1.06400</td>\n",
       "      <td>-0.01043</td>\n",
       "      <td>0.35650</td>\n",
       "      <td>-0.35286</td>\n",
       "      <td>-0.6764</td>\n",
       "      <td>-0.892</td>\n",
       "      <td>-0.728683</td>\n",
       "    </tr>\n",
       "    <tr>\n",
       "      <th>2017-03-01</th>\n",
       "      <td>-0.4946</td>\n",
       "      <td>-0.7792</td>\n",
       "      <td>-0.95</td>\n",
       "      <td>-0.7296</td>\n",
       "      <td>1.14956</td>\n",
       "      <td>0.02593</td>\n",
       "      <td>0.33744</td>\n",
       "      <td>-0.35786</td>\n",
       "      <td>-0.6638</td>\n",
       "      <td>-0.912</td>\n",
       "      <td>-0.736851</td>\n",
       "    </tr>\n",
       "    <tr>\n",
       "      <th>2017-04-01</th>\n",
       "      <td>-0.4916</td>\n",
       "      <td>-0.7918</td>\n",
       "      <td>-0.90</td>\n",
       "      <td>-0.7300</td>\n",
       "      <td>1.17233</td>\n",
       "      <td>0.00243</td>\n",
       "      <td>0.32525</td>\n",
       "      <td>-0.36286</td>\n",
       "      <td>-0.6648</td>\n",
       "      <td>-0.943</td>\n",
       "      <td>-0.730912</td>\n",
       "    </tr>\n",
       "  </tbody>\n",
       "</table>\n",
       "</div>"
      ],
      "text/plain": [
       "D0             12M      1M  1TGT     3M0      3M1      3M2      3M3      3M4  \\\n",
       "Date                                                                           \n",
       "2016-12-01 -0.4990 -0.7990 -0.90 -0.7292  0.99789 -0.04657  0.36663 -0.33643   \n",
       "2017-01-01 -0.5086 -0.7884 -0.90 -0.7286  1.03456 -0.00957  0.35588 -0.34357   \n",
       "2017-02-01 -0.5228 -0.8008 -0.95 -0.7262  1.06400 -0.01043  0.35650 -0.35286   \n",
       "2017-03-01 -0.4946 -0.7792 -0.95 -0.7296  1.14956  0.02593  0.33744 -0.35786   \n",
       "2017-04-01 -0.4916 -0.7918 -0.90 -0.7300  1.17233  0.00243  0.32525 -0.36286   \n",
       "\n",
       "D0              6M   EG3M     SARON  \n",
       "Date                                 \n",
       "2016-12-01 -0.6626 -0.912 -0.728531  \n",
       "2017-01-01 -0.6642 -0.880 -0.737887  \n",
       "2017-02-01 -0.6764 -0.892 -0.728683  \n",
       "2017-03-01 -0.6638 -0.912 -0.736851  \n",
       "2017-04-01 -0.6648 -0.943 -0.730912  "
      ]
     },
     "execution_count": 175,
     "metadata": {},
     "output_type": "execute_result"
    }
   ],
   "source": [
    "df.tail()"
   ]
  },
  {
   "cell_type": "code",
   "execution_count": null,
   "metadata": {},
   "outputs": [],
   "source": []
  },
  {
   "cell_type": "code",
   "execution_count": null,
   "metadata": {},
   "outputs": [],
   "source": []
  },
  {
   "cell_type": "code",
   "execution_count": null,
   "metadata": {},
   "outputs": [],
   "source": []
  },
  {
   "cell_type": "code",
   "execution_count": null,
   "metadata": {},
   "outputs": [],
   "source": []
  },
  {
   "cell_type": "code",
   "execution_count": null,
   "metadata": {},
   "outputs": [],
   "source": []
  },
  {
   "cell_type": "code",
   "execution_count": null,
   "metadata": {},
   "outputs": [],
   "source": []
  },
  {
   "cell_type": "code",
   "execution_count": 160,
   "metadata": {},
   "outputs": [
    {
     "data": {
      "text/plain": [
       "array(['year'], dtype='<U4')"
      ]
     },
     "execution_count": 160,
     "metadata": {},
     "output_type": "execute_result"
    }
   ],
   "source": [
    "np.unique(np.array('year'))"
   ]
  },
  {
   "cell_type": "code",
   "execution_count": 161,
   "metadata": {},
   "outputs": [
    {
     "data": {
      "text/plain": [
       "array('year', dtype='<U4')"
      ]
     },
     "execution_count": 161,
     "metadata": {},
     "output_type": "execute_result"
    }
   ],
   "source": [
    "np.array('year')"
   ]
  },
  {
   "cell_type": "code",
   "execution_count": 169,
   "metadata": {},
   "outputs": [
    {
     "data": {
      "text/plain": [
       "array([1972, 1973, 1974, 1975, 1976, 1977, 1978, 1979, 1980, 1981, 1982,\n",
       "       1983, 1984, 1985, 1986, 1987, 1988, 1989, 1990, 1991, 1992, 1993,\n",
       "       1994, 1995, 1996, 1997, 1998, 1999, 2000, 2001, 2002, 2003, 2004,\n",
       "       2005, 2006, 2007, 2008, 2009, 2010, 2011, 2012, 2013, 2014, 2015,\n",
       "       2016, 2017])"
      ]
     },
     "execution_count": 169,
     "metadata": {},
     "output_type": "execute_result"
    }
   ],
   "source": [
    "np.unique(np.array(pd.DataFrame(year)))"
   ]
  },
  {
   "cell_type": "code",
   "execution_count": null,
   "metadata": {},
   "outputs": [],
   "source": []
  },
  {
   "cell_type": "markdown",
   "metadata": {},
   "source": [
    "- Plots all series as time series (can be one plot with multiple lines or multiple plots)"
   ]
  },
  {
   "cell_type": "code",
   "execution_count": null,
   "metadata": {},
   "outputs": [],
   "source": []
  },
  {
   "cell_type": "code",
   "execution_count": null,
   "metadata": {},
   "outputs": [],
   "source": []
  },
  {
   "cell_type": "code",
   "execution_count": null,
   "metadata": {},
   "outputs": [],
   "source": []
  },
  {
   "cell_type": "code",
   "execution_count": null,
   "metadata": {},
   "outputs": [],
   "source": []
  },
  {
   "cell_type": "code",
   "execution_count": null,
   "metadata": {},
   "outputs": [],
   "source": []
  },
  {
   "cell_type": "code",
   "execution_count": null,
   "metadata": {},
   "outputs": [],
   "source": []
  },
  {
   "cell_type": "markdown",
   "metadata": {},
   "source": [
    "- Clustered heatmap of money-market rates"
   ]
  },
  {
   "cell_type": "code",
   "execution_count": 140,
   "metadata": {},
   "outputs": [
    {
     "data": {
      "text/plain": [
       "Date\n",
       "1972-01-01    1972\n",
       "1972-02-01    1972\n",
       "1972-03-01    1972\n",
       "1972-04-01    1972\n",
       "1972-05-01    1972\n",
       "Name: year, dtype: int64"
      ]
     },
     "execution_count": 140,
     "metadata": {},
     "output_type": "execute_result"
    }
   ],
   "source": [
    "df['year'].head()"
   ]
  },
  {
   "cell_type": "code",
   "execution_count": null,
   "metadata": {},
   "outputs": [],
   "source": []
  },
  {
   "cell_type": "code",
   "execution_count": null,
   "metadata": {},
   "outputs": [],
   "source": []
  },
  {
   "cell_type": "code",
   "execution_count": null,
   "metadata": {},
   "outputs": [],
   "source": []
  },
  {
   "cell_type": "code",
   "execution_count": null,
   "metadata": {},
   "outputs": [],
   "source": []
  },
  {
   "cell_type": "code",
   "execution_count": null,
   "metadata": {},
   "outputs": [],
   "source": []
  },
  {
   "cell_type": "code",
   "execution_count": null,
   "metadata": {},
   "outputs": [],
   "source": []
  },
  {
   "cell_type": "code",
   "execution_count": null,
   "metadata": {},
   "outputs": [],
   "source": []
  },
  {
   "cell_type": "code",
   "execution_count": null,
   "metadata": {},
   "outputs": [],
   "source": []
  },
  {
   "cell_type": "code",
   "execution_count": null,
   "metadata": {},
   "outputs": [],
   "source": []
  },
  {
   "cell_type": "code",
   "execution_count": null,
   "metadata": {},
   "outputs": [],
   "source": []
  },
  {
   "cell_type": "code",
   "execution_count": null,
   "metadata": {},
   "outputs": [],
   "source": []
  },
  {
   "cell_type": "code",
   "execution_count": 124,
   "metadata": {},
   "outputs": [
    {
     "data": {
      "text/plain": [
       "matplotlib.axes._subplots.AxesSubplot"
      ]
     },
     "execution_count": 124,
     "metadata": {},
     "output_type": "execute_result"
    },
    {
     "data": {
      "image/png": "[encoded data removed]",
      "text/plain": [
       "<Figure size 432x288 with 1 Axes>"
      ]
     },
     "metadata": {
      "needs_background": "light"
     },
     "output_type": "display_data"
    }
   ],
   "source": [
    "type(df.plot.scatter(x=['3M0', '3M0', '3M0', '3M0'], \n",
    "                y=['3M1', '3M2', '3M3', '3M4'], \n",
    "                label='1Y vs 2Y yield'))"
   ]
  },
  {
   "cell_type": "code",
   "execution_count": null,
   "metadata": {},
   "outputs": [],
   "source": []
  },
  {
   "cell_type": "code",
   "execution_count": null,
   "metadata": {},
   "outputs": [],
   "source": []
  },
  {
   "cell_type": "code",
   "execution_count": null,
   "metadata": {},
   "outputs": [],
   "source": []
  },
  {
   "cell_type": "code",
   "execution_count": 116,
   "metadata": {},
   "outputs": [
    {
     "data": {
      "text/html": [
       "<div>\n",
       "<style scoped>\n",
       "    .dataframe tbody tr th:only-of-type {\n",
       "        vertical-align: middle;\n",
       "    }\n",
       "\n",
       "    .dataframe tbody tr th {\n",
       "        vertical-align: top;\n",
       "    }\n",
       "\n",
       "    .dataframe thead th {\n",
       "        text-align: right;\n",
       "    }\n",
       "</style>\n",
       "<table border=\"1\" class=\"dataframe\">\n",
       "  <thead>\n",
       "    <tr style=\"text-align: right;\">\n",
       "      <th>D0</th>\n",
       "      <th>12M</th>\n",
       "      <th>1M</th>\n",
       "      <th>1TGT</th>\n",
       "      <th>3M0</th>\n",
       "      <th>3M1</th>\n",
       "      <th>3M2</th>\n",
       "      <th>3M3</th>\n",
       "      <th>3M4</th>\n",
       "      <th>6M</th>\n",
       "      <th>EG3M</th>\n",
       "      <th>SARON</th>\n",
       "    </tr>\n",
       "    <tr>\n",
       "      <th>Date</th>\n",
       "      <th></th>\n",
       "      <th></th>\n",
       "      <th></th>\n",
       "      <th></th>\n",
       "      <th></th>\n",
       "      <th></th>\n",
       "      <th></th>\n",
       "      <th></th>\n",
       "      <th></th>\n",
       "      <th></th>\n",
       "      <th></th>\n",
       "    </tr>\n",
       "  </thead>\n",
       "  <tbody>\n",
       "    <tr>\n",
       "      <th>1972-01-01</th>\n",
       "      <td>NaN</td>\n",
       "      <td>NaN</td>\n",
       "      <td>0.000</td>\n",
       "      <td>NaN</td>\n",
       "      <td>NaN</td>\n",
       "      <td>NaN</td>\n",
       "      <td>NaN</td>\n",
       "      <td>NaN</td>\n",
       "      <td>NaN</td>\n",
       "      <td>NaN</td>\n",
       "      <td>NaN</td>\n",
       "    </tr>\n",
       "    <tr>\n",
       "      <th>1972-02-01</th>\n",
       "      <td>NaN</td>\n",
       "      <td>NaN</td>\n",
       "      <td>0.000</td>\n",
       "      <td>NaN</td>\n",
       "      <td>NaN</td>\n",
       "      <td>NaN</td>\n",
       "      <td>NaN</td>\n",
       "      <td>NaN</td>\n",
       "      <td>NaN</td>\n",
       "      <td>NaN</td>\n",
       "      <td>NaN</td>\n",
       "    </tr>\n",
       "    <tr>\n",
       "      <th>1972-03-01</th>\n",
       "      <td>NaN</td>\n",
       "      <td>NaN</td>\n",
       "      <td>0.125</td>\n",
       "      <td>NaN</td>\n",
       "      <td>NaN</td>\n",
       "      <td>NaN</td>\n",
       "      <td>NaN</td>\n",
       "      <td>NaN</td>\n",
       "      <td>NaN</td>\n",
       "      <td>NaN</td>\n",
       "      <td>NaN</td>\n",
       "    </tr>\n",
       "    <tr>\n",
       "      <th>1972-04-01</th>\n",
       "      <td>NaN</td>\n",
       "      <td>NaN</td>\n",
       "      <td>0.250</td>\n",
       "      <td>NaN</td>\n",
       "      <td>NaN</td>\n",
       "      <td>NaN</td>\n",
       "      <td>NaN</td>\n",
       "      <td>NaN</td>\n",
       "      <td>NaN</td>\n",
       "      <td>NaN</td>\n",
       "      <td>NaN</td>\n",
       "    </tr>\n",
       "    <tr>\n",
       "      <th>1972-05-01</th>\n",
       "      <td>NaN</td>\n",
       "      <td>NaN</td>\n",
       "      <td>1.500</td>\n",
       "      <td>NaN</td>\n",
       "      <td>NaN</td>\n",
       "      <td>NaN</td>\n",
       "      <td>NaN</td>\n",
       "      <td>NaN</td>\n",
       "      <td>NaN</td>\n",
       "      <td>NaN</td>\n",
       "      <td>NaN</td>\n",
       "    </tr>\n",
       "    <tr>\n",
       "      <th>...</th>\n",
       "      <td>...</td>\n",
       "      <td>...</td>\n",
       "      <td>...</td>\n",
       "      <td>...</td>\n",
       "      <td>...</td>\n",
       "      <td>...</td>\n",
       "      <td>...</td>\n",
       "      <td>...</td>\n",
       "      <td>...</td>\n",
       "      <td>...</td>\n",
       "      <td>...</td>\n",
       "    </tr>\n",
       "    <tr>\n",
       "      <th>2016-12-01</th>\n",
       "      <td>-0.4990</td>\n",
       "      <td>-0.7990</td>\n",
       "      <td>-0.900</td>\n",
       "      <td>-0.7292</td>\n",
       "      <td>0.99789</td>\n",
       "      <td>-0.04657</td>\n",
       "      <td>0.36663</td>\n",
       "      <td>-0.33643</td>\n",
       "      <td>-0.6626</td>\n",
       "      <td>-0.912</td>\n",
       "      <td>-0.728531</td>\n",
       "    </tr>\n",
       "    <tr>\n",
       "      <th>2017-01-01</th>\n",
       "      <td>-0.5086</td>\n",
       "      <td>-0.7884</td>\n",
       "      <td>-0.900</td>\n",
       "      <td>-0.7286</td>\n",
       "      <td>1.03456</td>\n",
       "      <td>-0.00957</td>\n",
       "      <td>0.35588</td>\n",
       "      <td>-0.34357</td>\n",
       "      <td>-0.6642</td>\n",
       "      <td>-0.880</td>\n",
       "      <td>-0.737887</td>\n",
       "    </tr>\n",
       "    <tr>\n",
       "      <th>2017-02-01</th>\n",
       "      <td>-0.5228</td>\n",
       "      <td>-0.8008</td>\n",
       "      <td>-0.950</td>\n",
       "      <td>-0.7262</td>\n",
       "      <td>1.06400</td>\n",
       "      <td>-0.01043</td>\n",
       "      <td>0.35650</td>\n",
       "      <td>-0.35286</td>\n",
       "      <td>-0.6764</td>\n",
       "      <td>-0.892</td>\n",
       "      <td>-0.728683</td>\n",
       "    </tr>\n",
       "    <tr>\n",
       "      <th>2017-03-01</th>\n",
       "      <td>-0.4946</td>\n",
       "      <td>-0.7792</td>\n",
       "      <td>-0.950</td>\n",
       "      <td>-0.7296</td>\n",
       "      <td>1.14956</td>\n",
       "      <td>0.02593</td>\n",
       "      <td>0.33744</td>\n",
       "      <td>-0.35786</td>\n",
       "      <td>-0.6638</td>\n",
       "      <td>-0.912</td>\n",
       "      <td>-0.736851</td>\n",
       "    </tr>\n",
       "    <tr>\n",
       "      <th>2017-04-01</th>\n",
       "      <td>-0.4916</td>\n",
       "      <td>-0.7918</td>\n",
       "      <td>-0.900</td>\n",
       "      <td>-0.7300</td>\n",
       "      <td>1.17233</td>\n",
       "      <td>0.00243</td>\n",
       "      <td>0.32525</td>\n",
       "      <td>-0.36286</td>\n",
       "      <td>-0.6648</td>\n",
       "      <td>-0.943</td>\n",
       "      <td>-0.730912</td>\n",
       "    </tr>\n",
       "  </tbody>\n",
       "</table>\n",
       "<p>544 rows × 11 columns</p>\n",
       "</div>"
      ],
      "text/plain": [
       "D0             12M      1M   1TGT     3M0      3M1      3M2      3M3      3M4  \\\n",
       "Date                                                                            \n",
       "1972-01-01     NaN     NaN  0.000     NaN      NaN      NaN      NaN      NaN   \n",
       "1972-02-01     NaN     NaN  0.000     NaN      NaN      NaN      NaN      NaN   \n",
       "1972-03-01     NaN     NaN  0.125     NaN      NaN      NaN      NaN      NaN   \n",
       "1972-04-01     NaN     NaN  0.250     NaN      NaN      NaN      NaN      NaN   \n",
       "1972-05-01     NaN     NaN  1.500     NaN      NaN      NaN      NaN      NaN   \n",
       "...            ...     ...    ...     ...      ...      ...      ...      ...   \n",
       "2016-12-01 -0.4990 -0.7990 -0.900 -0.7292  0.99789 -0.04657  0.36663 -0.33643   \n",
       "2017-01-01 -0.5086 -0.7884 -0.900 -0.7286  1.03456 -0.00957  0.35588 -0.34357   \n",
       "2017-02-01 -0.5228 -0.8008 -0.950 -0.7262  1.06400 -0.01043  0.35650 -0.35286   \n",
       "2017-03-01 -0.4946 -0.7792 -0.950 -0.7296  1.14956  0.02593  0.33744 -0.35786   \n",
       "2017-04-01 -0.4916 -0.7918 -0.900 -0.7300  1.17233  0.00243  0.32525 -0.36286   \n",
       "\n",
       "D0              6M   EG3M     SARON  \n",
       "Date                                 \n",
       "1972-01-01     NaN    NaN       NaN  \n",
       "1972-02-01     NaN    NaN       NaN  \n",
       "1972-03-01     NaN    NaN       NaN  \n",
       "1972-04-01     NaN    NaN       NaN  \n",
       "1972-05-01     NaN    NaN       NaN  \n",
       "...            ...    ...       ...  \n",
       "2016-12-01 -0.6626 -0.912 -0.728531  \n",
       "2017-01-01 -0.6642 -0.880 -0.737887  \n",
       "2017-02-01 -0.6764 -0.892 -0.728683  \n",
       "2017-03-01 -0.6638 -0.912 -0.736851  \n",
       "2017-04-01 -0.6648 -0.943 -0.730912  \n",
       "\n",
       "[544 rows x 11 columns]"
      ]
     },
     "execution_count": 116,
     "metadata": {},
     "output_type": "execute_result"
    }
   ],
   "source": [
    "df"
   ]
  }
 ],
 "metadata": {
  "kernelspec": {
   "display_name": "Python 3",
   "language": "python",
   "name": "python3"
  },
  "language_info": {
   "codemirror_mode": {
    "name": "ipython",
    "version": 3
   },
   "file_extension": ".py",
   "mimetype": "text/x-python",
   "name": "python",
   "nbconvert_exporter": "python",
   "pygments_lexer": "ipython3",
   "version": "3.7.6"
  }
 },
 "nbformat": 4,
 "nbformat_minor": 4
}
