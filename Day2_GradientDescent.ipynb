{
 "cells": [
  {
   "cell_type": "markdown",
   "metadata": {},
   "source": [
    "# Day 2 - Gradient Descent (Part 1)"
   ]
  },
  {
   "cell_type": "code",
   "execution_count": 1,
   "metadata": {
    "ExecuteTime": {
     "end_time": "2018-12-11T15:10:17.205551Z",
     "start_time": "2018-12-11T15:10:16.269555Z"
    }
   },
   "outputs": [],
   "source": [
    "%matplotlib inline\n",
    "import matplotlib.pyplot as plt\n",
    "import numpy as np\n",
    "import pandas as pd\n",
    "from sklearn.utils import shuffle\n",
    "from typing import Dict, Tuple, Callable"
   ]
  },
  {
   "cell_type": "code",
   "execution_count": 2,
   "metadata": {
    "ExecuteTime": {
     "end_time": "2018-12-11T15:10:17.211410Z",
     "start_time": "2018-12-11T15:10:17.208320Z"
    }
   },
   "outputs": [],
   "source": [
    "plt.rcParams[\"figure.figsize\"] = (12, 6) #Change matplotlib Box Size\n",
    "plt.rcParams[\"font.size\"] = 14 #Change matplotlib Font Size"
   ]
  },
  {
   "cell_type": "markdown",
   "metadata": {},
   "source": [
    "Import Data"
   ]
  },
  {
   "cell_type": "code",
   "execution_count": 3,
   "metadata": {
    "ExecuteTime": {
     "end_time": "2018-12-11T15:10:17.229371Z",
     "start_time": "2018-12-11T15:10:17.214695Z"
    }
   },
   "outputs": [
    {
     "data": {
      "text/html": [
       "<div>\n",
       "<style scoped>\n",
       "    .dataframe tbody tr th:only-of-type {\n",
       "        vertical-align: middle;\n",
       "    }\n",
       "\n",
       "    .dataframe tbody tr th {\n",
       "        vertical-align: top;\n",
       "    }\n",
       "\n",
       "    .dataframe thead th {\n",
       "        text-align: right;\n",
       "    }\n",
       "</style>\n",
       "<table border=\"1\" class=\"dataframe\">\n",
       "  <thead>\n",
       "    <tr style=\"text-align: right;\">\n",
       "      <th></th>\n",
       "      <th>YearsExperience</th>\n",
       "      <th>Salary</th>\n",
       "    </tr>\n",
       "  </thead>\n",
       "  <tbody>\n",
       "    <tr>\n",
       "      <td>0</td>\n",
       "      <td>1.1</td>\n",
       "      <td>39343.0</td>\n",
       "    </tr>\n",
       "    <tr>\n",
       "      <td>1</td>\n",
       "      <td>1.3</td>\n",
       "      <td>46205.0</td>\n",
       "    </tr>\n",
       "    <tr>\n",
       "      <td>2</td>\n",
       "      <td>1.5</td>\n",
       "      <td>37731.0</td>\n",
       "    </tr>\n",
       "    <tr>\n",
       "      <td>3</td>\n",
       "      <td>2.0</td>\n",
       "      <td>43525.0</td>\n",
       "    </tr>\n",
       "    <tr>\n",
       "      <td>4</td>\n",
       "      <td>2.2</td>\n",
       "      <td>39891.0</td>\n",
       "    </tr>\n",
       "  </tbody>\n",
       "</table>\n",
       "</div>"
      ],
      "text/plain": [
       "   YearsExperience   Salary\n",
       "0              1.1  39343.0\n",
       "1              1.3  46205.0\n",
       "2              1.5  37731.0\n",
       "3              2.0  43525.0\n",
       "4              2.2  39891.0"
      ]
     },
     "execution_count": 3,
     "metadata": {},
     "output_type": "execute_result"
    }
   ],
   "source": [
    "data = pd.read_csv('Salary_Data.csv')\n",
    "data.head()"
   ]
  },
  {
   "cell_type": "markdown",
   "metadata": {},
   "source": [
    "Let's have a short look at the data first:"
   ]
  },
  {
   "cell_type": "code",
   "execution_count": 4,
   "metadata": {},
   "outputs": [
    {
     "data": {
      "image/png": "[encoded data removed]",
      "text/plain": [
       "<Figure size 864x432 with 1 Axes>"
      ]
     },
     "metadata": {
      "needs_background": "light"
     },
     "output_type": "display_data"
    }
   ],
   "source": [
    "plt.plot(data['YearsExperience'], data['Salary'], 'o')\n",
    "plt.xlabel(\"Years of Experience\")\n",
    "plt.ylabel(\"Salary\")\n",
    "None"
   ]
  },
  {
   "cell_type": "markdown",
   "metadata": {},
   "source": [
    "## Linear regression - General concept\n",
    "A linear model assumes that the relationship between the dependent variable y and the our features x is linear and thus takes the form:\n",
    "\n",
    "$y_i = \\beta_{0} + \\beta_{1} x_{i1} + \\cdots + \\beta_{p} x_{ip} + \\varepsilon_i,\n",
    " \\qquad i = 1, \\ldots, n$\n"
   ]
  },
  {
   "cell_type": "markdown",
   "metadata": {},
   "source": [
    "### Matrix notation\n",
    "\n",
    "We can simplify the notation by adding a first column with a constant to $X$. In particular,  ${\\displaystyle \\mathbf {x} _{i0}=1}$ for ${\\displaystyle i=1,\\ldots ,n}$. The corresponding element $\\beta_0$ is called the intercept.\n",
    "\n",
    "Then the previous formula can be written more compact in matrix notation as:\n",
    " \n",
    "$\\mathbf{y} = X\\boldsymbol\\beta + \\boldsymbol\\varepsilon$\n",
    "\n",
    "where\n",
    "\n",
    "${\\displaystyle \\mathbf {y} ={\\begin{pmatrix}y_{1}\\\\y_{2}\\\\\\vdots \\\\y_{n}\\end{pmatrix}},\\quad }\n",
    "{\\displaystyle X={\\begin{pmatrix}\\mathbf {x} _{1}^{\\mathsf {T}}\\\\\\mathbf {x} _{2}^{\\mathsf {T}}\\\\\\vdots \\\\\\mathbf {x} _{n}^{\\mathsf {T}}\\end{pmatrix}}={\\begin{pmatrix}1&x_{11}&\\cdots &x_{1p}\\\\1&x_{21}&\\cdots &x_{2p}\\\\\\vdots &\\vdots &\\ddots &\\vdots \\\\1&x_{n1}&\\cdots &x_{np}\\end{pmatrix}},}$\n",
    "\n",
    "\n",
    "${\\displaystyle {\\boldsymbol {\\beta }}={\\begin{pmatrix}\\beta _{0}\\\\\\beta _{1}\\\\\\beta _{2}\\\\\\vdots \\\\\\beta _{p}\\end{pmatrix}},\\quad}\n",
    "{{\\boldsymbol {\\varepsilon }}={\\begin{pmatrix}\\varepsilon _{1}\\\\\\varepsilon _{2}\\\\\\vdots \\\\\\varepsilon _{n}\\end{pmatrix}}.}$\n",
    "\n",
    "- $\\mathbf {y}$\n",
    " is a vector of observed values \n",
    "${\\displaystyle y_{i}\\ (i=1,\\ldots ,n)}$\n",
    " of the variable called the regressand, endogenous variable or dependent variable. In our case this is the salary.\n",
    " \n",
    "- ${\\boldsymbol\\displaystyle X}$ is a matrix of row-vectors ${\\displaystyle \\mathbf {x} _{i}}$ called independent variable and contains the features of our data points. In our case this is the years of experience.\n",
    "\n",
    "- $\\boldsymbol\\varepsilon$ is called error term, disturbance term, or sometimes noise. This variable captures all other factors which influence the dependent variable y other than the regressors x.\n",
    "\n",
    "- $\\boldsymbol\\beta$ is a vector of the regression coefficients. \n",
    " \n",
    "\n",
    " \n",
    "\n",
    " \n",
    " \n",
    " \n",
    " \n",
    " https://en.wikipedia.org/wiki/Linear_regression"
   ]
  },
  {
   "cell_type": "markdown",
   "metadata": {},
   "source": [
    "## Extract dependent and independent variables\n",
    "We create a numpy vector of our independent variable and a numpy array of our independent variable.\n",
    "\n",
    "Add a column full of ones to $X$ so that ${x} _{i0}=1$  for $i=1,\\ldots ,n$. The corresponding element $\\beta_0$ is called the intercept or bias."
   ]
  },
  {
   "cell_type": "code",
   "execution_count": 5,
   "metadata": {
    "ExecuteTime": {
     "end_time": "2018-12-11T15:10:17.229371Z",
     "start_time": "2018-12-11T15:10:17.214695Z"
    }
   },
   "outputs": [
    {
     "data": {
      "text/plain": [
       "array([[1. , 1.1],\n",
       "       [1. , 1.3],\n",
       "       [1. , 1.5],\n",
       "       [1. , 2. ],\n",
       "       [1. , 2.2],\n",
       "       [1. , 2.9],\n",
       "       [1. , 3. ],\n",
       "       [1. , 3.2],\n",
       "       [1. , 3.2],\n",
       "       [1. , 3.7]])"
      ]
     },
     "execution_count": 5,
     "metadata": {},
     "output_type": "execute_result"
    }
   ],
   "source": [
    "y = data.iloc[:,1].values.reshape(-1, 1)\n",
    "y = y.reshape(-1, 1)\n",
    "\n",
    "X = data.iloc[:,:-1].values\n",
    "X_b = np.hstack((np.ones((X.shape[0],1)), X))\n",
    "X_b[:10,:]"
   ]
  },
  {
   "cell_type": "markdown",
   "metadata": {},
   "source": [
    "What you mainly need is the formula for calculating the cost function $J(\\boldsymbol\\theta)$ and its derivative:\n",
    "\n",
    "$J(\\boldsymbol\\beta) = \\frac{1}{n} (\\hat  {\\mathbf y} − \\mathbf{y})^T (\\hat  {\\mathbf y} − \\mathbf{y}) \n",
    "= \\frac{1}{n} (X\\boldsymbol \\beta − \\mathbf{y})^T (X\\boldsymbol \\beta − \\mathbf{y})$\n",
    "\n",
    "$\\nabla_\\beta J(\\boldsymbol\\beta) = \\frac{2}{n} X^T (X\\boldsymbol \\beta − \\mathbf{y}) = \\frac{2}{n} X^T ( \\hat  {\\mathbf y} − \\mathbf{y})$\n",
    "\n",
    "For a detailed derivation of the gradient in matrix notation check this lecture notes from Stanford:\n",
    "\n",
    "http://cs229.stanford.edu/notes/cs229-notes1.pdf (chapter 2.2, page 11, they use theta instead of beta)\n"
   ]
  },
  {
   "cell_type": "code",
   "execution_count": 24,
   "metadata": {
    "ExecuteTime": {
     "end_time": "2018-12-11T15:10:17.401399Z",
     "start_time": "2018-12-11T15:10:17.393088Z"
    }
   },
   "outputs": [],
   "source": [
    "def predict(X_b: np.ndarray, beta: np.ndarray) -> np.ndarray:\n",
    "    \"\"\"\n",
    "    :param X_b: feature matrix including column of ones for bias\n",
    "    :return: result of the linear regression\n",
    "    \"\"\"\n",
    "    \n",
    "    \n",
    "    return y_hat\n",
    "\n",
    "\n",
    "#  we actually don't need the cost function itself for gradient descent\n",
    "#  but it is nice to have and certainly a good exercise for you ;)\n",
    "def calc_cost(X_b: np.ndarray, y: np.ndarray, beta: np.ndarray) -> np.ndarray:\n",
    "    \"\"\"\n",
    "    :param X_b: feature matrix including column of ones for bias\n",
    "    :param y: labels\n",
    "    :param beta: regression coefficients \n",
    "    :return: return cost\n",
    "    \"\"\"\n",
    "    \n",
    "    \n",
    "    return cost\n",
    "\n",
    "\n",
    "# what we need is the gradient, which consists of the partial derivatives of the cost function\n",
    "def calc_gradient(\n",
    "    X_b: np.ndarray, y: np.ndarray, beta: np.ndarray, alpha: float = None\n",
    ") -> np.ndarray:\n",
    "    \"\"\"\n",
    "    :param X_b: feature matrix including column of ones for bias\n",
    "    :param y: labels\n",
    "    :param beta: regression coefficients \n",
    "    :param alpha: for Lasso regrisson (you might need it for exercise 2 - bonus)\n",
    "    :return: gradient\n",
    "    \"\"\"\n",
    "    \n",
    "    \n",
    "    return grad\n",
    "\n",
    "\n",
    "def update_beta(beta: np.ndarray, gradient: np.ndarray, learning_rate: float = 0.1):\n",
    "    \"\"\"\n",
    "    :param beta: regression coefficient vector\n",
    "    :param gradient: gradient vector\n",
    "    :param lr: learning rate for updating beta\n",
    "    :return: updated beta vector\n",
    "    \"\"\"\n",
    "    \n",
    "    \n",
    "    return beta_new\n",
    "\n",
    "\n",
    "def calc_rmse(y: np.ndarray, y_hat: np.ndarray):\n",
    "    \"\"\"\n",
    "    :param y: vector of observed values\n",
    "    :param y_hat: vector of estimated (predicted) values\n",
    "    :return: root mean squared error (RMSE)\n",
    "    \"\"\"\n",
    "    \n",
    "    \n",
    "    return rmse"
   ]
  },
  {
   "cell_type": "markdown",
   "metadata": {},
   "source": [
    "Let's play a bit with beta to see what effect it has on our linear model:"
   ]
  },
  {
   "cell_type": "code",
   "execution_count": 7,
   "metadata": {
    "ExecuteTime": {
     "end_time": "2018-12-11T15:10:17.628732Z",
     "start_time": "2018-12-11T15:10:17.408889Z"
    }
   },
   "outputs": [
    {
     "data": {
      "image/png": "[encoded data removed]",
      "text/plain": [
       "<Figure size 864x432 with 1 Axes>"
      ]
     },
     "metadata": {
      "needs_background": "light"
     },
     "output_type": "display_data"
    }
   ],
   "source": [
    "#  try different values\n",
    "beta = [0, 10000]\n",
    "\n",
    "plt.plot(X_b[:,1], y, 'o')\n",
    "plt.plot(X_b[:,1], predict(X_b, beta), c='red')\n",
    "plt.xlabel(\"Years of Experience\")\n",
    "plt.ylabel(\"Salary\")\n",
    "None"
   ]
  },
  {
   "cell_type": "markdown",
   "metadata": {},
   "source": [
    "# Gradient Decent"
   ]
  },
  {
   "cell_type": "markdown",
   "metadata": {},
   "source": [
    "This function takes care of running multiple iterations, plotting and collecting the results. Understand what it is exactly doing."
   ]
  },
  {
   "cell_type": "code",
   "execution_count": 8,
   "metadata": {
    "ExecuteTime": {
     "end_time": "2018-12-11T15:10:17.869023Z",
     "start_time": "2018-12-11T15:10:17.630471Z"
    }
   },
   "outputs": [],
   "source": [
    "def run_gradient_descent(\n",
    "    gradient_descent_func: Callable,\n",
    "    X_b: np.ndarray,\n",
    "    y: np.ndarray,\n",
    "    learning_rate: np.ndarray = 0.01,\n",
    "    epochs: float = 100,\n",
    "    beta: np.ndarray = None,\n",
    "    verbose: bool = True,\n",
    "    create_plot: bool = True,\n",
    "    step_width_output: int = 100,\n",
    "    **kwargs,\n",
    ") -> Tuple[np.ndarray, np.ndarray]:\n",
    "    \"\"\"\n",
    "    :param X_b: feature matrix including column of ones for bias\n",
    "    :param y: independent variable\n",
    "    :param learning_rate: learning rate for gradient descent\n",
    "    :param epochs: number of iterations\n",
    "    :param beta: regression coefficients \n",
    "    :param verbose: print intermediate results\n",
    "    :**kwargs: additional arguments for the gradient descent function\n",
    "    :return: \n",
    "        - beta_all - numpy array containing regression coefficients of all gradient descent steps\n",
    "        - rmse_all - numpy array containing RMSE values of all gradient descent steps\n",
    "    \"\"\"\n",
    "    # set missing parameters to default values\n",
    "    if not beta:\n",
    "        # Creates random start values for beta\n",
    "        beta = np.random.uniform(high=1, low=-1, size=X_b.shape[1]).reshape(-1, 1)\n",
    "        \n",
    "    # bring vectors into correct form\n",
    "    beta = beta.reshape(-1, 1)\n",
    "    y = y.reshape(-1, 1)\n",
    "        \n",
    "    # initialze arrays for storing intermediate results\n",
    "    # for large arrays this is computational way more efficient than appending\n",
    "    rmse_all = np.zeros(epochs + 1)  # vector for saving RMSE values\n",
    "    rmse_all[0] = calc_rmse(y, predict(X_b, beta))  # insert current value\n",
    "    beta_all = np.zeros((epochs + 1, len(beta)))  # array for storing beta vectors\n",
    "    beta_all[0, :] = beta.T  #  insert current values\n",
    "\n",
    "    if verbose:\n",
    "        print(\"Epoch: {:4d}, RMSE: {:8.3f}, beta: {}\".format(0, rmse_all[0], beta.T))\n",
    "    if create_plot:\n",
    "        fig, axs = plt.subplots(1, 3, figsize=(32, 6))\n",
    "        axs[0].plot(X_b[:, 1], y, \"b.\")\n",
    "    else:\n",
    "        axs = None\n",
    "\n",
    "    # main loop for iterative gradient descent\n",
    "    for epoch in range(epochs):\n",
    "        # call gradient descent function\n",
    "        beta, y_hat, rmse = gradient_descent_func(X_b, y, beta, learning_rate, **kwargs)\n",
    "\n",
    "        # add new values to arrays\n",
    "        beta_all[epoch + 1, :] = beta.T  # Add new beta vector to array\n",
    "        rmse_all[epoch + 1] = rmse  # Add new RMSE to vector\n",
    "\n",
    "        if verbose and (epoch+1)%step_width_output==0:\n",
    "            print(\n",
    "                \"Epoch: {:4d}, RMSE: {:8.3f}, beta: {}\".format(epoch + 1, rmse, beta.T)\n",
    "            )\n",
    "        if create_plot and (epoch+1)%step_width_output==0:\n",
    "            axs[0].plot(X_b[:, 1], y_hat, \"r-\", alpha=epoch / epochs)\n",
    "\n",
    "    if verbose:\n",
    "        print(\"\")\n",
    "    if create_plot:\n",
    "        axs[1].plot(rmse_all, label=\"training loss\")\n",
    "        axs[1].legend(loc=\"best\")\n",
    "        axs[1].set_ylabel(\"RMSE\")\n",
    "        axs[1].set_xlabel(\"Epoch\")\n",
    "        axs[1].grid()\n",
    "        axs[2].scatter(beta_all[:, 0], beta_all[:, 1], c=range(beta_all.shape[0]))\n",
    "        axs[2].set_xlabel(r\"$\\beta_0$\")\n",
    "        axs[2].set_ylabel(r\"$\\beta_1$\")\n",
    "\n",
    "    return beta_all, rmse_all, axs"
   ]
  },
  {
   "cell_type": "code",
   "execution_count": 9,
   "metadata": {},
   "outputs": [],
   "source": [
    "def gradient_descent(\n",
    "    X_b: np.ndarray,\n",
    "    y: np.ndarray,\n",
    "    beta: np.ndarray = None,\n",
    "    learning_rate: np.ndarray = 0.01,\n",
    "    alpha=None,\n",
    "):\n",
    "    \"\"\"\n",
    "    :param X_b: feature matrix including column of ones for bias\n",
    "    :param y: independent variable\n",
    "    :param learning_rate: learning rate for gradient descent\n",
    "    :param beta: regression coefficients \n",
    "    :param alpha: used for Lasso regression in exercise 2\n",
    "    :return: \n",
    "        - beta - updated regression coefficients\n",
    "        - y_hat - estimated y\n",
    "        - rmse - Root mean squared errors\n",
    "    \"\"\"\n",
    "\n",
    "    return beta, y_hat, rmse"
   ]
  },
  {
   "cell_type": "code",
   "execution_count": null,
   "metadata": {},
   "outputs": [],
   "source": [
    "learning_rate = 0.01\n",
    "epochs = 2000\n",
    "\n",
    "beta_all, rmse_all, axs = run_gradient_descent(\n",
    "    gradient_descent, X_b, y, learning_rate, epochs, verbose=True\n",
    ")\n",
    "axs[1].set_ylim((4000, 10000))"
   ]
  },
  {
   "cell_type": "code",
   "execution_count": null,
   "metadata": {},
   "outputs": [],
   "source": [
    "### Try different learning rates\n",
    "learning_rates = [0.0001, 0.001, 0.005, 0.01, 0.05, 0.1]\n",
    "epochs = 2000\n"
   ]
  },
  {
   "cell_type": "markdown",
   "metadata": {},
   "source": [
    "# Stochastic Gradient Descent"
   ]
  },
  {
   "cell_type": "code",
   "execution_count": 12,
   "metadata": {},
   "outputs": [],
   "source": [
    "# shuffling points before each iteration, then selecting first N points \n",
    "# This obtains a less biased estimation of the true gradient.\n",
    "# https://www.quora.com/Why-do-we-need-to-shuffle-inputs-for-stochastic-gradient-descent"
   ]
  },
  {
   "cell_type": "code",
   "execution_count": 13,
   "metadata": {},
   "outputs": [],
   "source": [
    "def stochastic_gradient_descent(\n",
    "    X_b: np.ndarray,\n",
    "    y: np.ndarray,\n",
    "    beta: np.ndarray = None,\n",
    "    learning_rate: np.ndarray = 0.01,\n",
    "    shuffle_values: bool = True,\n",
    "    alpha=None,\n",
    "):\n",
    "    \"\"\"\n",
    "    :param X_b: feature matrix including column of ones for bias\n",
    "    :param y: independent variable\n",
    "    :param learning_rate: learning rate for gradient descent\n",
    "    :param beta: regression coefficients\n",
    "    :param shuffle_values: shuffle X_b and y\n",
    "    :param alpha: used for Lasso regression in exercise 2\n",
    "    :return: \n",
    "        - beta - updated regression coefficients\n",
    "        - y_hat - estimated y\n",
    "        - rmse - Root mean squared errors\n",
    "    \"\"\"\n",
    "    # gradient descent\n",
    "    if shuffle_values:\n",
    "        X_shuffled, y_shuffled = shuffle(X_b, y.reshape(-1, 1))\n",
    "    else:\n",
    "        X_shuffled, y_shuffled = X_b, y\n",
    "\n",
    "    for ind_point in range(X_b.shape[0]):\n",
    "        ## YOUR CODE\n",
    "    \n",
    "    \n",
    "    return beta, y_hat, rmse"
   ]
  },
  {
   "cell_type": "code",
   "execution_count": null,
   "metadata": {},
   "outputs": [],
   "source": [
    "learning_rate = 0.01\n",
    "epochs = 2000\n",
    "beta_all, rmse_all, axs = run_gradient_descent(\n",
    "    stochastic_gradient_descent, X_b, y, learning_rate, epochs, verbose=True\n",
    ")\n",
    "axs[1].set_ylim((4000, 10000))"
   ]
  },
  {
   "cell_type": "markdown",
   "metadata": {},
   "source": [
    "# Mini Batch"
   ]
  },
  {
   "cell_type": "code",
   "execution_count": 15,
   "metadata": {},
   "outputs": [],
   "source": [
    "def mini_batch_gradient_descent(X_b, y, beta, learning_rate, shuffle_values=True, batch_size=None, alpha=None):\n",
    "    \"\"\"\n",
    "    :param X_b: feature matrix including column of ones for bias\n",
    "    :param y: independent variable\n",
    "    :param learning_rate: learning rate for gradient descent\n",
    "    :param beta: regression coefficients\n",
    "    :param shuffle_values: shuffle X_b and y\n",
    "    :param batch_size: number of elements per batch\n",
    "    :param alpha: used for Lasso regression in exercise 2\n",
    "    :return: \n",
    "        - beta - updated regression coefficients\n",
    "        - y_hat - estimated y\n",
    "        - rmse - Root mean squared errors\n",
    "    \"\"\"\n",
    "        \n",
    "    return beta, y_hat, rmse\n"
   ]
  },
  {
   "cell_type": "code",
   "execution_count": null,
   "metadata": {},
   "outputs": [],
   "source": [
    "learning_rate = 0.01\n",
    "epochs = 2000\n",
    "\n",
    "beta_all, rmse_all, axs = run_gradient_descent(\n",
    "    mini_batch_gradient_descent,\n",
    "    X_b,\n",
    "    y,\n",
    "    learning_rate,\n",
    "    epochs,\n",
    "    batch_size=1,\n",
    "    shuffle_values=True,\n",
    "    verbose=True,\n",
    "    create_plot=True,\n",
    ")\n",
    "\n",
    "axs[1].set_ylim((4000, 10000))"
   ]
  },
  {
   "cell_type": "markdown",
   "metadata": {},
   "source": [
    "# Sklearn"
   ]
  },
  {
   "cell_type": "markdown",
   "metadata": {},
   "source": [
    "Compare your results with the solver from sklearn."
   ]
  },
  {
   "cell_type": "code",
   "execution_count": 17,
   "metadata": {},
   "outputs": [
    {
     "data": {
      "text/plain": [
       "LinearRegression(copy_X=True, fit_intercept=True, n_jobs=None, normalize=False)"
      ]
     },
     "execution_count": 17,
     "metadata": {},
     "output_type": "execute_result"
    }
   ],
   "source": [
    "from sklearn import datasets, linear_model\n",
    "from sklearn.metrics import mean_squared_error\n",
    "\n"
   ]
  },
  {
   "cell_type": "code",
   "execution_count": 18,
   "metadata": {},
   "outputs": [
    {
     "name": "stdout",
     "output_type": "stream",
     "text": [
      "Coefficients:  [25792.20019866871, 9449.962321455074]\n",
      "RMSE: 5592.04\n"
     ]
    }
   ],
   "source": [
    "# Print the coefficients\n",
    "print('Coefficients: ', [regr.intercept_[0], regr.coef_[0,0]])\n",
    "# The root mean squared error\n",
    "print(\"RMSE: %.2f\"\n",
    "      % np.sqrt(mean_squared_error(y, y_hat)))"
   ]
  }
 ],
 "metadata": {
  "kernelspec": {
   "display_name": "dataops",
   "language": "python",
   "name": "dataops"
  },
  "language_info": {
   "codemirror_mode": {
    "name": "ipython",
    "version": 3
   },
   "file_extension": ".py",
   "mimetype": "text/x-python",
   "name": "python",
   "nbconvert_exporter": "python",
   "pygments_lexer": "ipython3",
   "version": "3.7.4"
  }
 },
 "nbformat": 4,
 "nbformat_minor": 2
}
