{
 "cells": [
  {
   "cell_type": "code",
   "execution_count": 51,
   "metadata": {},
   "outputs": [],
   "source": [
    "import pandas as pd\n",
    "import numpy as np\n",
    "import os\n",
    "from sklearn.impute import SimpleImputer, KNNImputer\n",
    "from sklearn.compose import ColumnTransformer\n",
    "from sklearn.linear_model import LogisticRegression\n",
    "from sklearn.ensemble import RandomForestClassifier\n",
    "from sklearn.model_selection import GridSearchCV, RepeatedStratifiedKFold\n",
    "from sklearn.pipeline import Pipeline\n",
    "from sklearn.compose import ColumnTransformer\n",
    "from sklearn.preprocessing import OneHotEncoder, StandardScaler\n",
    "from sklearn.metrics import f1_score, classification_report, silhouette_samples, silhouette_score\n",
    "from sklearn.impute import SimpleImputer\n",
    "from sklearn.model_selection import train_test_split\n",
    "from sklearn.cluster import KMeans\n",
    "from sklearn.neighbors import KNeighborsClassifier, LocalOutlierFactor\n",
    "from sklearn.naive_bayes import CategoricalNB\n",
    "from sklearn.svm import SVC\n",
    "from sklearn.decomposition import PCA\n",
    "from sklearn.manifold import TSNE\n",
    "from sklearn.ensemble import IsolationForest\n",
    "import umap\n",
    "from mpl_toolkits.mplot3d import Axes3D\n",
    "from datetime import datetime\n",
    "import datetime\n",
    "from dateutil.parser import parse\n",
    "import matplotlib.pyplot as plt\n",
    "import matplotlib.cm as cm\n",
    "plt.rc(\"font\", size=14)\n",
    "import seaborn as sns\n",
    "sns.set(style=\"white\")\n",
    "sns.set(style=\"whitegrid\", \n",
    "        color_codes=True, \n",
    "        font_scale = 2)"
   ]
  },
  {
   "cell_type": "code",
   "execution_count": 3,
   "metadata": {},
   "outputs": [],
   "source": [
    "os.chdir('/Users/patrickrs/Documents/GitLab/patrick-steiner/Exercises')"
   ]
  },
  {
   "cell_type": "code",
   "execution_count": 7,
   "metadata": {},
   "outputs": [
    {
     "name": "stdout",
     "output_type": "stream",
     "text": [
      "Tokenization took: 10.57 ms\n",
      "Type conversion took: 11.85 ms\n",
      "Parser memory cleanup took: 0.02 ms\n"
     ]
    }
   ],
   "source": [
    "data = pd.read_csv(\"/Users/patrickrs/Documents/GitLab/patrick-steiner/Exercises/data/card_transactions.csv\",\n",
    "                  delimiter = \",\",\n",
    "                  index_col = \"customer_id\",\n",
    "                  #dtype = \"float64\",\n",
    "                  verbose = True\n",
    "                  )"
   ]
  },
  {
   "cell_type": "code",
   "execution_count": 8,
   "metadata": {},
   "outputs": [
    {
     "data": {
      "text/html": [
       "<div>\n",
       "<style scoped>\n",
       "    .dataframe tbody tr th:only-of-type {\n",
       "        vertical-align: middle;\n",
       "    }\n",
       "\n",
       "    .dataframe tbody tr th {\n",
       "        vertical-align: top;\n",
       "    }\n",
       "\n",
       "    .dataframe thead th {\n",
       "        text-align: right;\n",
       "    }\n",
       "</style>\n",
       "<table border=\"1\" class=\"dataframe\">\n",
       "  <thead>\n",
       "    <tr style=\"text-align: right;\">\n",
       "      <th></th>\n",
       "      <th>balance_account</th>\n",
       "      <th>purchases_amount</th>\n",
       "      <th>paid_advance</th>\n",
       "      <th>full_purchases</th>\n",
       "      <th>balance_frequency_update</th>\n",
       "      <th>installments</th>\n",
       "      <th>purchases_frequency</th>\n",
       "      <th>full_purchases_frequency</th>\n",
       "      <th>purchases_installments_frequency</th>\n",
       "      <th>cash_advance_frequency</th>\n",
       "      <th>nr_cash_advances</th>\n",
       "      <th>nr_purchases</th>\n",
       "      <th>credit_limit</th>\n",
       "      <th>fixed_rate_period</th>\n",
       "      <th>payments</th>\n",
       "      <th>min_payments</th>\n",
       "      <th>full_payment_prc</th>\n",
       "    </tr>\n",
       "    <tr>\n",
       "      <th>customer_id</th>\n",
       "      <th></th>\n",
       "      <th></th>\n",
       "      <th></th>\n",
       "      <th></th>\n",
       "      <th></th>\n",
       "      <th></th>\n",
       "      <th></th>\n",
       "      <th></th>\n",
       "      <th></th>\n",
       "      <th></th>\n",
       "      <th></th>\n",
       "      <th></th>\n",
       "      <th></th>\n",
       "      <th></th>\n",
       "      <th></th>\n",
       "      <th></th>\n",
       "      <th></th>\n",
       "    </tr>\n",
       "  </thead>\n",
       "  <tbody>\n",
       "    <tr>\n",
       "      <th>tGEg8fT2eCgVxdwS</th>\n",
       "      <td>9.298409</td>\n",
       "      <td>107.60</td>\n",
       "      <td>0.000000</td>\n",
       "      <td>0.00</td>\n",
       "      <td>0.909091</td>\n",
       "      <td>107.6</td>\n",
       "      <td>0.909091</td>\n",
       "      <td>0.000000</td>\n",
       "      <td>0.818182</td>\n",
       "      <td>0.000000</td>\n",
       "      <td>0</td>\n",
       "      <td>10</td>\n",
       "      <td>1000.0</td>\n",
       "      <td>11</td>\n",
       "      <td>89.868853</td>\n",
       "      <td>89.711672</td>\n",
       "      <td>0.428571</td>\n",
       "    </tr>\n",
       "    <tr>\n",
       "      <th>stEDu20sSKOXomjg</th>\n",
       "      <td>52.666422</td>\n",
       "      <td>150.30</td>\n",
       "      <td>0.000000</td>\n",
       "      <td>0.00</td>\n",
       "      <td>1.000000</td>\n",
       "      <td>150.3</td>\n",
       "      <td>1.000000</td>\n",
       "      <td>0.000000</td>\n",
       "      <td>0.833333</td>\n",
       "      <td>0.000000</td>\n",
       "      <td>0</td>\n",
       "      <td>6</td>\n",
       "      <td>1000.0</td>\n",
       "      <td>6</td>\n",
       "      <td>54.722514</td>\n",
       "      <td>82.955180</td>\n",
       "      <td>0.000000</td>\n",
       "    </tr>\n",
       "    <tr>\n",
       "      <th>CEB2blrN3b88GsRe</th>\n",
       "      <td>1360.795674</td>\n",
       "      <td>0.00</td>\n",
       "      <td>462.861443</td>\n",
       "      <td>0.00</td>\n",
       "      <td>1.000000</td>\n",
       "      <td>0.0</td>\n",
       "      <td>0.000000</td>\n",
       "      <td>0.000000</td>\n",
       "      <td>0.000000</td>\n",
       "      <td>0.272727</td>\n",
       "      <td>6</td>\n",
       "      <td>0</td>\n",
       "      <td>1500.0</td>\n",
       "      <td>11</td>\n",
       "      <td>303.031979</td>\n",
       "      <td>443.781316</td>\n",
       "      <td>0.000000</td>\n",
       "    </tr>\n",
       "    <tr>\n",
       "      <th>0N0eBl8ySaZThxKE</th>\n",
       "      <td>2021.641161</td>\n",
       "      <td>363.18</td>\n",
       "      <td>0.000000</td>\n",
       "      <td>363.18</td>\n",
       "      <td>1.000000</td>\n",
       "      <td>0.0</td>\n",
       "      <td>1.000000</td>\n",
       "      <td>1.000000</td>\n",
       "      <td>0.000000</td>\n",
       "      <td>0.000000</td>\n",
       "      <td>0</td>\n",
       "      <td>13</td>\n",
       "      <td>2000.0</td>\n",
       "      <td>12</td>\n",
       "      <td>704.240770</td>\n",
       "      <td>795.859808</td>\n",
       "      <td>0.000000</td>\n",
       "    </tr>\n",
       "    <tr>\n",
       "      <th>6NLauoHUwtwOv4Wy</th>\n",
       "      <td>22.322374</td>\n",
       "      <td>95.00</td>\n",
       "      <td>1162.045833</td>\n",
       "      <td>95.00</td>\n",
       "      <td>0.363636</td>\n",
       "      <td>0.0</td>\n",
       "      <td>0.083333</td>\n",
       "      <td>0.083333</td>\n",
       "      <td>0.000000</td>\n",
       "      <td>0.166667</td>\n",
       "      <td>3</td>\n",
       "      <td>1</td>\n",
       "      <td>2500.0</td>\n",
       "      <td>12</td>\n",
       "      <td>4094.261427</td>\n",
       "      <td>40.142262</td>\n",
       "      <td>0.000000</td>\n",
       "    </tr>\n",
       "  </tbody>\n",
       "</table>\n",
       "</div>"
      ],
      "text/plain": [
       "                  balance_account  purchases_amount  paid_advance  \\\n",
       "customer_id                                                         \n",
       "tGEg8fT2eCgVxdwS         9.298409            107.60      0.000000   \n",
       "stEDu20sSKOXomjg        52.666422            150.30      0.000000   \n",
       "CEB2blrN3b88GsRe      1360.795674              0.00    462.861443   \n",
       "0N0eBl8ySaZThxKE      2021.641161            363.18      0.000000   \n",
       "6NLauoHUwtwOv4Wy        22.322374             95.00   1162.045833   \n",
       "\n",
       "                  full_purchases  balance_frequency_update  installments  \\\n",
       "customer_id                                                                \n",
       "tGEg8fT2eCgVxdwS            0.00                  0.909091         107.6   \n",
       "stEDu20sSKOXomjg            0.00                  1.000000         150.3   \n",
       "CEB2blrN3b88GsRe            0.00                  1.000000           0.0   \n",
       "0N0eBl8ySaZThxKE          363.18                  1.000000           0.0   \n",
       "6NLauoHUwtwOv4Wy           95.00                  0.363636           0.0   \n",
       "\n",
       "                  purchases_frequency  full_purchases_frequency  \\\n",
       "customer_id                                                       \n",
       "tGEg8fT2eCgVxdwS             0.909091                  0.000000   \n",
       "stEDu20sSKOXomjg             1.000000                  0.000000   \n",
       "CEB2blrN3b88GsRe             0.000000                  0.000000   \n",
       "0N0eBl8ySaZThxKE             1.000000                  1.000000   \n",
       "6NLauoHUwtwOv4Wy             0.083333                  0.083333   \n",
       "\n",
       "                  purchases_installments_frequency  cash_advance_frequency  \\\n",
       "customer_id                                                                  \n",
       "tGEg8fT2eCgVxdwS                          0.818182                0.000000   \n",
       "stEDu20sSKOXomjg                          0.833333                0.000000   \n",
       "CEB2blrN3b88GsRe                          0.000000                0.272727   \n",
       "0N0eBl8ySaZThxKE                          0.000000                0.000000   \n",
       "6NLauoHUwtwOv4Wy                          0.000000                0.166667   \n",
       "\n",
       "                  nr_cash_advances  nr_purchases  credit_limit  \\\n",
       "customer_id                                                      \n",
       "tGEg8fT2eCgVxdwS                 0            10        1000.0   \n",
       "stEDu20sSKOXomjg                 0             6        1000.0   \n",
       "CEB2blrN3b88GsRe                 6             0        1500.0   \n",
       "0N0eBl8ySaZThxKE                 0            13        2000.0   \n",
       "6NLauoHUwtwOv4Wy                 3             1        2500.0   \n",
       "\n",
       "                  fixed_rate_period     payments  min_payments  \\\n",
       "customer_id                                                      \n",
       "tGEg8fT2eCgVxdwS                 11    89.868853     89.711672   \n",
       "stEDu20sSKOXomjg                  6    54.722514     82.955180   \n",
       "CEB2blrN3b88GsRe                 11   303.031979    443.781316   \n",
       "0N0eBl8ySaZThxKE                 12   704.240770    795.859808   \n",
       "6NLauoHUwtwOv4Wy                 12  4094.261427     40.142262   \n",
       "\n",
       "                  full_payment_prc  \n",
       "customer_id                         \n",
       "tGEg8fT2eCgVxdwS          0.428571  \n",
       "stEDu20sSKOXomjg          0.000000  \n",
       "CEB2blrN3b88GsRe          0.000000  \n",
       "0N0eBl8ySaZThxKE          0.000000  \n",
       "6NLauoHUwtwOv4Wy          0.000000  "
      ]
     },
     "execution_count": 8,
     "metadata": {},
     "output_type": "execute_result"
    }
   ],
   "source": [
    "data.head()"
   ]
  },
  {
   "cell_type": "code",
   "execution_count": 13,
   "metadata": {},
   "outputs": [
    {
     "data": {
      "text/plain": [
       "True"
      ]
     },
     "execution_count": 13,
     "metadata": {},
     "output_type": "execute_result"
    }
   ],
   "source": [
    "data.index.is_unique"
   ]
  },
  {
   "cell_type": "code",
   "execution_count": 56,
   "metadata": {},
   "outputs": [
    {
     "data": {
      "text/plain": [
       "0     0\n",
       "1     0\n",
       "2     0\n",
       "3     0\n",
       "4     0\n",
       "5     0\n",
       "6     0\n",
       "7     0\n",
       "8     0\n",
       "9     0\n",
       "10    0\n",
       "11    0\n",
       "12    0\n",
       "13    0\n",
       "14    0\n",
       "15    0\n",
       "16    0\n",
       "dtype: int64"
      ]
     },
     "execution_count": 56,
     "metadata": {},
     "output_type": "execute_result"
    }
   ],
   "source": [
    "data.isna().sum()"
   ]
  },
  {
   "cell_type": "code",
   "execution_count": 34,
   "metadata": {},
   "outputs": [
    {
     "name": "stderr",
     "output_type": "stream",
     "text": [
      "/opt/anaconda3/envs/propulsion/lib/python3.7/site-packages/ipykernel_launcher.py:3: SettingWithCopyWarning: \n",
      "A value is trying to be set on a copy of a slice from a DataFrame\n",
      "\n",
      "See the caveats in the documentation: https://pandas.pydata.org/pandas-docs/stable/user_guide/indexing.html#returning-a-view-versus-a-copy\n",
      "  This is separate from the ipykernel package so we can avoid doing imports until\n"
     ]
    }
   ],
   "source": [
    "for i in range(0, len(data.index)):\n",
    "    if data[\"payments\"][i] == 0:\n",
    "        data[\"min_payments\"][i] = 0\n"
   ]
  },
  {
   "cell_type": "code",
   "execution_count": 39,
   "metadata": {},
   "outputs": [
    {
     "data": {
      "text/html": [
       "<div>\n",
       "<style scoped>\n",
       "    .dataframe tbody tr th:only-of-type {\n",
       "        vertical-align: middle;\n",
       "    }\n",
       "\n",
       "    .dataframe tbody tr th {\n",
       "        vertical-align: top;\n",
       "    }\n",
       "\n",
       "    .dataframe thead th {\n",
       "        text-align: right;\n",
       "    }\n",
       "</style>\n",
       "<table border=\"1\" class=\"dataframe\">\n",
       "  <thead>\n",
       "    <tr style=\"text-align: right;\">\n",
       "      <th></th>\n",
       "      <th>balance_account</th>\n",
       "      <th>purchases_amount</th>\n",
       "      <th>paid_advance</th>\n",
       "      <th>full_purchases</th>\n",
       "      <th>balance_frequency_update</th>\n",
       "      <th>installments</th>\n",
       "      <th>purchases_frequency</th>\n",
       "      <th>full_purchases_frequency</th>\n",
       "      <th>purchases_installments_frequency</th>\n",
       "      <th>cash_advance_frequency</th>\n",
       "      <th>nr_cash_advances</th>\n",
       "      <th>nr_purchases</th>\n",
       "      <th>credit_limit</th>\n",
       "      <th>fixed_rate_period</th>\n",
       "      <th>payments</th>\n",
       "      <th>min_payments</th>\n",
       "      <th>full_payment_prc</th>\n",
       "    </tr>\n",
       "    <tr>\n",
       "      <th>customer_id</th>\n",
       "      <th></th>\n",
       "      <th></th>\n",
       "      <th></th>\n",
       "      <th></th>\n",
       "      <th></th>\n",
       "      <th></th>\n",
       "      <th></th>\n",
       "      <th></th>\n",
       "      <th></th>\n",
       "      <th></th>\n",
       "      <th></th>\n",
       "      <th></th>\n",
       "      <th></th>\n",
       "      <th></th>\n",
       "      <th></th>\n",
       "      <th></th>\n",
       "      <th></th>\n",
       "    </tr>\n",
       "  </thead>\n",
       "  <tbody>\n",
       "    <tr>\n",
       "      <th>c2AkRIIj9f7hgiXZ</th>\n",
       "      <td>18.400472</td>\n",
       "      <td>0.0</td>\n",
       "      <td>186.853063</td>\n",
       "      <td>0.0</td>\n",
       "      <td>0.166667</td>\n",
       "      <td>0.0</td>\n",
       "      <td>0.0</td>\n",
       "      <td>0.0</td>\n",
       "      <td>0.0</td>\n",
       "      <td>0.166667</td>\n",
       "      <td>1</td>\n",
       "      <td>0</td>\n",
       "      <td>NaN</td>\n",
       "      <td>6</td>\n",
       "      <td>9.040017</td>\n",
       "      <td>14.418723</td>\n",
       "      <td>0.0</td>\n",
       "    </tr>\n",
       "  </tbody>\n",
       "</table>\n",
       "</div>"
      ],
      "text/plain": [
       "                  balance_account  purchases_amount  paid_advance  \\\n",
       "customer_id                                                         \n",
       "c2AkRIIj9f7hgiXZ        18.400472               0.0    186.853063   \n",
       "\n",
       "                  full_purchases  balance_frequency_update  installments  \\\n",
       "customer_id                                                                \n",
       "c2AkRIIj9f7hgiXZ             0.0                  0.166667           0.0   \n",
       "\n",
       "                  purchases_frequency  full_purchases_frequency  \\\n",
       "customer_id                                                       \n",
       "c2AkRIIj9f7hgiXZ                  0.0                       0.0   \n",
       "\n",
       "                  purchases_installments_frequency  cash_advance_frequency  \\\n",
       "customer_id                                                                  \n",
       "c2AkRIIj9f7hgiXZ                               0.0                0.166667   \n",
       "\n",
       "                  nr_cash_advances  nr_purchases  credit_limit  \\\n",
       "customer_id                                                      \n",
       "c2AkRIIj9f7hgiXZ                 1             0           NaN   \n",
       "\n",
       "                  fixed_rate_period  payments  min_payments  full_payment_prc  \n",
       "customer_id                                                                    \n",
       "c2AkRIIj9f7hgiXZ                  6  9.040017     14.418723               0.0  "
      ]
     },
     "execution_count": 39,
     "metadata": {},
     "output_type": "execute_result"
    }
   ],
   "source": [
    "data[data[\"credit_limit\"].isna() == True]"
   ]
  },
  {
   "cell_type": "code",
   "execution_count": 42,
   "metadata": {},
   "outputs": [
    {
     "data": {
      "text/plain": [
       "4485.8487035313565"
      ]
     },
     "execution_count": 42,
     "metadata": {},
     "output_type": "execute_result"
    }
   ],
   "source": [
    "data[\"credit_limit\"].mean()"
   ]
  },
  {
   "cell_type": "code",
   "execution_count": 50,
   "metadata": {},
   "outputs": [],
   "source": [
    "data[\"credit_limit\"] = data[\"credit_limit\"].fillna(data[\"credit_limit\"].mean())"
   ]
  },
  {
   "cell_type": "code",
   "execution_count": 52,
   "metadata": {},
   "outputs": [],
   "source": [
    "imputer = KNNImputer(n_neighbors=3)"
   ]
  },
  {
   "cell_type": "code",
   "execution_count": 53,
   "metadata": {},
   "outputs": [],
   "source": [
    "data = imputer.fit_transform(data)"
   ]
  },
  {
   "cell_type": "code",
   "execution_count": 59,
   "metadata": {},
   "outputs": [],
   "source": [
    "data = pd.DataFrame(data)"
   ]
  },
  {
   "cell_type": "code",
   "execution_count": 64,
   "metadata": {},
   "outputs": [
    {
     "data": {
      "text/plain": [
       "0     float64\n",
       "1     float64\n",
       "2     float64\n",
       "3     float64\n",
       "4     float64\n",
       "5     float64\n",
       "6     float64\n",
       "7     float64\n",
       "8     float64\n",
       "9     float64\n",
       "10    float64\n",
       "11    float64\n",
       "12    float64\n",
       "13    float64\n",
       "14    float64\n",
       "15    float64\n",
       "16    float64\n",
       "dtype: object"
      ]
     },
     "execution_count": 64,
     "metadata": {},
     "output_type": "execute_result"
    }
   ],
   "source": [
    "data.dtypes"
   ]
  },
  {
   "cell_type": "code",
   "execution_count": null,
   "metadata": {},
   "outputs": [],
   "source": []
  }
 ],
 "metadata": {
  "kernelspec": {
   "display_name": "propulsion",
   "language": "python",
   "name": "propulsion"
  },
  "language_info": {
   "codemirror_mode": {
    "name": "ipython",
    "version": 3
   },
   "file_extension": ".py",
   "mimetype": "text/x-python",
   "name": "python",
   "nbconvert_exporter": "python",
   "pygments_lexer": "ipython3",
   "version": "3.7.6"
  }
 },
 "nbformat": 4,
 "nbformat_minor": 4
}
